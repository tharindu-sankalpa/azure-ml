{
 "cells": [
  {
   "cell_type": "markdown",
   "metadata": {},
   "source": [
    "# **Learning Objectives for Azure Machine Learning (Hands-On Machine Learning - HOML)**\n",
    "\n",
    "1. **Foundational Concepts**\n",
    "   - Understand the key building blocks of Azure Machine Learning:\n",
    "     - **ML Workspace**: Setting up and managing an Azure ML workspace.\n",
    "     - **ML Studio**: Navigating the UI for experiments, datasets, models, endpoints, etc.\n",
    "     - **Compute Targets**: Different compute targets and how to manage them.\n",
    "     - **Data Stores**: Connecting to external and internal storage solutions.\n",
    "     - **Data Assets**: How to create, register, and version datasets.\n",
    "\n",
    "\n",
    "2. **Training Jobs and Compute Targets**\n",
    "   - Learn how to submit training jobs using the **Azure SDK** (Python).\n",
    "   - Understand different **compute targets** and when to use each:\n",
    "     - **Compute Instances**\n",
    "     - **Compute Clusters**\n",
    "     - **Kubernetes Clusters (AKS)**\n",
    "     - **Custom Servers / On-Premise Targets**\n",
    "\n",
    "3. **Experimentation & MLflow Integration**\n",
    "   - Explore **MLflow** for experiment tracking:\n",
    "     - Logging parameters, metrics, and artifacts.\n",
    "     - Registering trained models.\n",
    "   - Understand how MLflow integrates with Azure ML for lifecycle tracking.\n",
    "\n",
    "4. **Model Deployment & Real-Time Inference**\n",
    "   - Learn how to deploy registered models to various endpoints.\n",
    "   - Understand how to send **real-time inference requests** and validate predictions.\n",
    "\n",
    "5. **Model Monitoring**\n",
    "   - Track model performance post-deployment.\n",
    "   - Understand data drift, prediction drift, and logging for production models.\n",
    "\n",
    "6. **Operationalizing ML with Pipelines**\n",
    "   - Build **end-to-end ML pipelines** using the Azure SDK:\n",
    "     - Data preprocessing\n",
    "     - Model training\n",
    "     - Model registration\n",
    "     - Model deployment\n",
    "     - Testing and inference\n",
    "   - Automate the pipeline for CI/CD and reproducibility.\n",
    "\n",
    "7. **Azure ML Designer**\n",
    "   - Explore **Azure ML Designer** (UI-based pipeline builder):\n",
    "     - Learn available components.\n",
    "     - Understand input/output data flows.\n",
    "     - Build and deploy pipelines through a drag-and-drop interface.\n",
    "\n",
    "8. **AutoML in Azure**\n",
    "   - Understand Azure **AutoML** and its capabilities.\n",
    "   - Learn different AutoML flavors (classification, regression, forecasting).\n",
    "   - Train, evaluate, and deploy models using AutoML.\n"
   ]
  },
  {
   "cell_type": "markdown",
   "metadata": {},
   "source": [
    "### 🌐 Connecting to Azure ML Workspace Programmatically\n",
    "\n",
    "- **Loads workspace details from `config.json`**\n",
    "- **Uses `DefaultAzureCredential` to authenticate (ideal for Azure ML Compute or environments with managed identity)**\n",
    "- **Alternative: `InteractiveBrowserCredential` can be used for local development with user sign-in**\n",
    "- **Initializes `MLClient` with subscription, resource group, and workspace name**\n",
    "- **Retrieves and prints the list of compute targets in the workspace to verify the connection**"
   ]
  },
  {
   "cell_type": "code",
   "execution_count": 1,
   "metadata": {},
   "outputs": [
    {
     "name": "stdout",
     "output_type": "stream",
     "text": [
      "akscompute kubernetes\n",
      "training-cluster amlcompute\n",
      "dev-env computeinstance\n"
     ]
    }
   ],
   "source": [
    "from azure.identity import InteractiveBrowserCredential\n",
    "from azure.identity import DefaultAzureCredential\n",
    "from azure.ai.ml import MLClient\n",
    "import json\n",
    "\n",
    "# Load config\n",
    "with open(\"config.json\") as f:\n",
    "    config = json.load(f)\n",
    "\n",
    "# Create credential that will prompt you to authenticate in a browser\n",
    "# credential = InteractiveBrowserCredential()\n",
    "\n",
    "# Connect to workspace when running locally\n",
    "# This will use the Azure CLI credentials if available\n",
    "# or prompt for credentials if not\n",
    "# ml_client = MLClient(\n",
    "#     credential=credential,\n",
    "#     subscription_id=config[\"subscription_id\"],\n",
    "#     resource_group_name=config[\"resource_group\"],\n",
    "#     workspace_name=config[\"workspace_name\"]\n",
    "# )\n",
    "\n",
    "# Connect to the Azure ML workspace using DefaultAzureCredential when running in Azure ML Compute\n",
    "# This will use the managed identity of the Azure resource\n",
    "# Uncomment the following lines if you want to use DefaultAzureCredential instead\n",
    "\n",
    "\n",
    "ml_client = MLClient(\n",
    "    DefaultAzureCredential(),\n",
    "    subscription_id=config[\"subscription_id\"],\n",
    "    resource_group_name=config[\"resource_group\"],\n",
    "    workspace_name=config[\"workspace_name\"]\n",
    ")\n",
    "\n",
    "# Verify connection\n",
    "compute_list = ml_client.compute.list()\n",
    "for compute in compute_list:\n",
    "    print(compute.name, compute.type)"
   ]
  },
  {
   "cell_type": "markdown",
   "metadata": {},
   "source": [
    "### ⚙️ Starting a Specific Compute Instance\n",
    "\n",
    "- **Specifies the name of the compute instance to start (`dev-env`)**\n",
    "- **Uses `ml_client.compute.begin_start()` to initiate the start operation**\n",
    "- **Appends `.wait()` to ensure the script waits until the instance is fully started before proceeding**"
   ]
  },
  {
   "cell_type": "code",
   "execution_count": 2,
   "metadata": {},
   "outputs": [],
   "source": [
    "# Start a specific compute instance by name\n",
    "# Replace \"your-compute-instance-name\" with the actual name from the list above\n",
    "compute_instance_name = \"dev-env\"\n",
    "ml_client.compute.begin_start(name=compute_instance_name).wait()"
   ]
  },
  {
   "cell_type": "markdown",
   "metadata": {
    "nteract": {
     "transient": {
      "deleting": false
     }
    }
   },
   "source": [
    "### 🛑 Stopping a Specific Compute Instance\n",
    "\n",
    "- **Uses `ml_client.compute.begin_stop()` to stop the specified compute instance**\n",
    "- **Includes `.wait()` to block execution until the instance is fully stopped**\n",
    "- **Helps manage cost by shutting down unused resources**"
   ]
  },
  {
   "cell_type": "code",
   "execution_count": null,
   "metadata": {},
   "outputs": [],
   "source": [
    "# Stop a specific compute instance by name\n",
    "ml_client.compute.begin_stop(name=compute_instance_name).wait()"
   ]
  },
  {
   "cell_type": "markdown",
   "metadata": {},
   "source": [
    "### 🔍 Retrieving Compute Instance Details\n",
    "\n",
    "- **Uses `ml_client.compute.get()` to fetch the configuration and status of the specified compute instance**\n",
    "- **Stores the result in the `compute` object for further inspection or usage**\n",
    "- **Useful for accessing connection URIs, state, size, and other metadata**"
   ]
  },
  {
   "cell_type": "code",
   "execution_count": 19,
   "metadata": {},
   "outputs": [],
   "source": [
    "# Get the connection details for your compute instance\n",
    "compute = ml_client.compute.get(compute_instance_name)"
   ]
  },
  {
   "cell_type": "code",
   "execution_count": 20,
   "metadata": {},
   "outputs": [
    {
     "name": "stdout",
     "output_type": "stream",
     "text": [
      "created_on: 2025-03-29T10:37:55.588033+0000\n",
      "enable_node_public_ip: true\n",
      "enable_os_patching: false\n",
      "enable_root_access: true\n",
      "enable_sso: true\n",
      "id: /subscriptions/40b3b6fa-c1eb-4567-bb9c-bfa430b41708/resourceGroups/tharindu-ml-tst-rg/providers/Microsoft.MachineLearningServices/workspaces/tharindu-ml-tst-wp/computes/dev-env\n",
      "idle_time_before_shutdown: PT60M\n",
      "idle_time_before_shutdown_minutes: 60\n",
      "last_operation:\n",
      "  operation_name: Start\n",
      "  operation_status: Succeeded\n",
      "  operation_time: '2025-03-29T14:25:05.590Z'\n",
      "  operation_trigger: User\n",
      "location: centralindia\n",
      "name: dev-env\n",
      "network_settings:\n",
      "  private_ip_address: 10.0.0.4\n",
      "  public_ip_address: 135.235.225.66\n",
      "os_image_metadata:\n",
      "  current_image_version: 24.12.31\n",
      "  is_latest_os_image_version: true\n",
      "  latest_image_version: 24.12.31\n",
      "provisioning_state: Succeeded\n",
      "release_quota_on_stop: false\n",
      "services:\n",
      "- display_name: Jupyter\n",
      "  endpoint_uri: https://dev-env.centralindia.instances.azureml.ms/tree/\n",
      "- display_name: Jupyter Lab\n",
      "  endpoint_uri: https://dev-env.centralindia.instances.azureml.ms/lab\n",
      "size: Standard_DS3_v2\n",
      "ssh_public_access_enabled: true\n",
      "ssh_settings:\n",
      "  admin_username: azureuser\n",
      "  ssh_key_value: ssh-rsa AAAAB3NzaC1yc2EAAAADAQABAAABgQDQt1UevLsrnkf8iUr1q5GBQVFTe9151PBd37LQkquacexx0ujITKND/n0q6TOKkIhWLIyk2AOetmgkN2SLtZNajmqh6hDjNLY+cjhU2MGlH6etZDcpgfqHjWClylwQQ23CgqyLnBnl+zoy5tVf3nq+4TnB8HR492AMnJVrOdsNr2SAcVBaxyuUpAsxegnHyAfDssl6hbLIhwbbCvefbrrLbPDLSL/94o8jSUeKHFAH6OSicfIRdnwp39DuVLpXLtFXUlhVaZjVqSpw2tmQJfCi7vB8EyI3LPtTunkABU30Bmk4im36t3IhovUKKIyvbqh+b1w0+eJtRgL2wW8MUrdyysWIhNzGz+e8yAGl51CjkcA/+PP+krJaEJ/eVB9eTFjL9Nw0t8+foKfQoQshc+e9UTFNJdVndAI10HiyBchtwUDUjDgcin14eDRMfGXZY43FciHK9yQiWzQa+kkW9pJylrumlSsYG3rCfqSlKWO3g8OAVoHb0YYC6VrTfCmC2Hk=\n",
      "    generated-by-azure\n",
      "  ssh_port: '50000'\n",
      "state: Running\n",
      "type: computeinstance\n",
      "\n"
     ]
    }
   ],
   "source": [
    "print(compute)"
   ]
  },
  {
   "cell_type": "code",
   "execution_count": 21,
   "metadata": {},
   "outputs": [
    {
     "name": "stdout",
     "output_type": "stream",
     "text": [
      "[{'display_name': 'Jupyter', 'endpoint_uri': 'https://dev-env.centralindia.instances.azureml.ms/tree/'}, {'display_name': 'Jupyter Lab', 'endpoint_uri': 'https://dev-env.centralindia.instances.azureml.ms/lab'}]\n"
     ]
    }
   ],
   "source": [
    "print(compute.services)"
   ]
  },
  {
   "cell_type": "markdown",
   "metadata": {},
   "source": [
    "### 🗃️ Listing Available Datastores in Azure ML Workspace\n",
    "\n",
    "- **Loops through all datastores registered in the current workspace**\n",
    "- **Prints each datastore’s name and type (e.g., AzureBlob, AzureFile, etc.)**  \n",
    "- **Useful for verifying available data storage options before referencing them in experiments**"
   ]
  },
  {
   "cell_type": "code",
   "execution_count": 25,
   "metadata": {},
   "outputs": [
    {
     "name": "stdout",
     "output_type": "stream",
     "text": [
      "Datastore: testsa, Type: AzureBlob\n",
      "Datastore: workspaceartifactstore, Type: AzureBlob\n",
      "Datastore: workspacefilestore, Type: AzureFile\n",
      "Datastore: workspaceblobstore, Type: AzureBlob\n",
      "Datastore: workspaceworkingdirectory, Type: AzureFile\n"
     ]
    }
   ],
   "source": [
    "for datastore in ml_client.datastores.list():\n",
    "    print(f\"Datastore: {datastore.name}, Type: {datastore.type}\")"
   ]
  },
  {
   "cell_type": "code",
   "execution_count": 24,
   "metadata": {},
   "outputs": [
    {
     "name": "stdout",
     "output_type": "stream",
     "text": [
      "account_name: tharindumltstw9939312202\n",
      "container_name: azureml-blobstore-66abeafb-dccb-4b02-9514-0253ccea328c\n",
      "credentials: {}\n",
      "endpoint: core.windows.net\n",
      "id: /subscriptions/40b3b6fa-c1eb-4567-bb9c-bfa430b41708/resourceGroups/tharindu-ml-tst-rg/providers/Microsoft.MachineLearningServices/workspaces/tharindu-ml-tst-wp/datastores/workspaceblobstore\n",
      "name: workspaceblobstore\n",
      "protocol: https\n",
      "tags: {}\n",
      "type: azure_blob\n",
      "\n"
     ]
    }
   ],
   "source": [
    "# Get the default datastore\n",
    "default_ds = ml_client.datastores.get(\"workspaceblobstore\")\n",
    "print(default_ds)"
   ]
  },
  {
   "cell_type": "markdown",
   "metadata": {},
   "source": [
    "### 🏗️ Creating and Accessing an Azure Storage Account Programmatically\n",
    "\n",
    "- **Sets up configuration variables**, including subscription, resource group, storage account name, and region.  \n",
    "- **Creates credentials** using `DefaultAzureCredential` for seamless Azure identity management.  \n",
    "- **Initializes the `StorageManagementClient`** to interact with Azure Storage resources.  \n",
    "- **Creates a new Storage Account** (`StorageV2`, `Standard_LRS`) using `begin_create()` and waits for it to complete.  \n",
    "- **Retrieves the access key** for the newly created storage account using `list_keys()`.  \n",
    "- **Prints confirmation messages** after successful creation and key retrieval."
   ]
  },
  {
   "cell_type": "code",
   "execution_count": null,
   "metadata": {},
   "outputs": [],
   "source": [
    "!poetry add azure-mgmt-storage"
   ]
  },
  {
   "cell_type": "code",
   "execution_count": 2,
   "metadata": {},
   "outputs": [
    {
     "name": "stdout",
     "output_type": "stream",
     "text": [
      "Storage account 'thsklkmlstorage' created successfully!\n",
      "Retrieved storage account key\n"
     ]
    }
   ],
   "source": [
    "from azure.mgmt.storage import StorageManagementClient\n",
    "from azure.identity import InteractiveBrowserCredential\n",
    "\n",
    "# Set your variables\n",
    "subscription_id = config[\"subscription_id\"]\n",
    "resource_group = config[\"resource_group\"]\n",
    "storage_account_name = \"thsklkmlstorage\"\n",
    "location = \"centralindia\"  # Choose appropriate region\n",
    "\n",
    "# Create credential\n",
    "# credential = InteractiveBrowserCredential()\n",
    "credential = DefaultAzureCredential()\n",
    "\n",
    "# Create a storage management client\n",
    "storage_client = StorageManagementClient(credential, subscription_id)\n",
    "\n",
    "# Create storage account\n",
    "poller = storage_client.storage_accounts.begin_create(\n",
    "    resource_group,\n",
    "    storage_account_name,\n",
    "    {\n",
    "        \"location\": location,\n",
    "        \"kind\": \"StorageV2\",\n",
    "        \"sku\": {\"name\": \"Standard_LRS\"},\n",
    "        \"enable_https_traffic_only\": True,\n",
    "        \"is_hns_enabled\": False,\n",
    "    }\n",
    ")\n",
    "\n",
    "# Wait for completion\n",
    "storage_account = poller.result()\n",
    "print(f\"Storage account '{storage_account_name}' created successfully!\")\n",
    "\n",
    "# Get the storage account keys\n",
    "keys = storage_client.storage_accounts.list_keys(resource_group, storage_account_name)\n",
    "storage_key = keys.keys[0].value\n",
    "print(f\"Retrieved storage account key\")"
   ]
  },
  {
   "cell_type": "markdown",
   "metadata": {},
   "source": [
    "### 📦 Creating Blob Container and File Share in Azure Storage\n",
    "\n",
    "- **Initializes `BlobServiceClient`** using the storage account URL and access key.  \n",
    "- **Creates a new blob container** named `\"mlcontainer\"` using `create_container()`.  \n",
    "- **Prints a confirmation message** upon successful container creation.\n",
    "\n",
    "- **Initializes `ShareServiceClient`** for managing Azure File Shares.  \n",
    "- **Creates a new file share** named `\"mlfileshare\"` using `create_share()`.  \n",
    "- **Prints a confirmation message** upon successful file share creation."
   ]
  },
  {
   "cell_type": "code",
   "execution_count": 3,
   "metadata": {},
   "outputs": [
    {
     "name": "stdout",
     "output_type": "stream",
     "text": [
      "Blob container 'mlcontainer' created successfully!\n",
      "File share 'mlfileshare' created successfully!\n"
     ]
    }
   ],
   "source": [
    "from azure.storage.blob import BlobServiceClient\n",
    "from azure.storage.fileshare import ShareServiceClient\n",
    "\n",
    "# Create blob container\n",
    "container_name = \"mlcontainer\"\n",
    "blob_service = BlobServiceClient(\n",
    "    account_url=f\"https://{storage_account_name}.blob.core.windows.net\", \n",
    "    credential=storage_key\n",
    ")\n",
    "blob_service.create_container(container_name)\n",
    "print(f\"Blob container '{container_name}' created successfully!\")\n",
    "\n",
    "# Create file share\n",
    "file_share_name = \"mlfileshare\"\n",
    "file_service = ShareServiceClient(\n",
    "    account_url=f\"https://{storage_account_name}.file.core.windows.net\", \n",
    "    credential=storage_key\n",
    ")\n",
    "file_service.create_share(file_share_name)\n",
    "print(f\"File share '{file_share_name}' created successfully!\")"
   ]
  },
  {
   "cell_type": "markdown",
   "metadata": {},
   "source": [
    "### 🔗 Registering Blob and File Share Datastores in Azure ML\n",
    "\n",
    "- **Creates an `AzureBlobDatastore` object** pointing to the previously created blob container.  \n",
    "- **Uses `AccountKeyConfiguration`** to securely pass the storage account key.  \n",
    "- **Registers the blob datastore** using `ml_client.datastores.create_or_update()`, making it available in the Azure ML workspace.  \n",
    "- **Prints confirmation** upon successful blob datastore registration.\n",
    "\n",
    "- **Creates an `AzureFileDatastore` object** pointing to the created file share.  \n",
    "- **Registers the file datastore** using the same method.  \n",
    "- **Prints confirmation** upon successful file datastore registration."
   ]
  },
  {
   "cell_type": "code",
   "execution_count": 4,
   "metadata": {},
   "outputs": [
    {
     "name": "stdout",
     "output_type": "stream",
     "text": [
      "Blob datastore 'mlcontainer' registered successfully!\n",
      "File datastore 'mlfileshare' registered successfully!\n"
     ]
    }
   ],
   "source": [
    "from azure.ai.ml.entities import AzureBlobDatastore, AzureFileDatastore\n",
    "from azure.ai.ml.entities._datastore.azure_storage import AccountKeyConfiguration\n",
    "\n",
    "# Create a blob datastore entity\n",
    "blob_datastore = AzureBlobDatastore(\n",
    "    name=\"mlcontainer\",\n",
    "    description=\"Datastore pointing to the blob container\",\n",
    "    account_name=storage_account_name,\n",
    "    container_name=container_name,\n",
    "    credentials=AccountKeyConfiguration(account_key=storage_key)  # Use proper object instead of dict\n",
    ")\n",
    "\n",
    "# Register the blob datastore\n",
    "registered_blob_ds = ml_client.datastores.create_or_update(blob_datastore)\n",
    "print(f\"Blob datastore '{registered_blob_ds.name}' registered successfully!\")\n",
    "\n",
    "# Create a file datastore entity\n",
    "file_datastore = AzureFileDatastore(\n",
    "    name=\"mlfileshare\",\n",
    "    description=\"Datastore pointing to the file share\",\n",
    "    account_name=storage_account_name,\n",
    "    file_share_name=file_share_name,\n",
    "    credentials=AccountKeyConfiguration(account_key=storage_key)  # Use proper object instead of dict\n",
    ")\n",
    "\n",
    "# Register the file datastore\n",
    "registered_file_ds = ml_client.datastores.create_or_update(file_datastore)\n",
    "print(f\"File datastore '{registered_file_ds.name}' registered successfully!\")"
   ]
  },
  {
   "cell_type": "markdown",
   "metadata": {},
   "source": [
    "### ✅ Verifying Datastore Registration in Azure ML\n",
    "\n",
    "- **Lists all registered datastores** in the Azure ML workspace to confirm that your custom datastores are visible.  \n",
    "- **Retrieves the blob datastore** named `\"mlcontainer\"` to verify it was registered correctly.  \n",
    "- **Retrieves the file datastore** named `\"mlfileshare\"` for the same verification.  \n",
    "- **Prints the names** of the retrieved datastores to confirm successful access."
   ]
  },
  {
   "cell_type": "code",
   "execution_count": 5,
   "metadata": {},
   "outputs": [
    {
     "name": "stdout",
     "output_type": "stream",
     "text": [
      "All datastores in workspace:\n",
      "- mlfileshare (Type: AzureFile)\n",
      "- mlcontainer (Type: AzureBlob)\n",
      "- workspaceartifactstore (Type: AzureBlob)\n",
      "- workspacefilestore (Type: AzureFile)\n",
      "- workspaceblobstore (Type: AzureBlob)\n",
      "- workspaceworkingdirectory (Type: AzureFile)\n",
      "Retrieved blob datastore: mlcontainer\n",
      "Retrieved file datastore: mlfileshare\n"
     ]
    }
   ],
   "source": [
    "# List all datastores to verify\n",
    "print(\"All datastores in workspace:\")\n",
    "for datastore in ml_client.datastores.list():\n",
    "    print(f\"- {datastore.name} (Type: {datastore.type})\")\n",
    "\n",
    "# Get and test the blob datastore\n",
    "blob_ds = ml_client.datastores.get(\"mlcontainer\")\n",
    "print(f\"Retrieved blob datastore: {blob_ds.name}\")\n",
    "\n",
    "# Get and test the file datastore\n",
    "file_ds = ml_client.datastores.get(\"mlfileshare\")\n",
    "print(f\"Retrieved file datastore: {file_ds.name}\")"
   ]
  },
  {
   "cell_type": "markdown",
   "metadata": {},
   "source": [
    "### 📥 Downloading NYC Taxi Data (Parquet)\n",
    "- Creates a local directory named nyc_taxi_data to store the dataset.\n",
    "- Iterates over all 12 months of 2022, constructs the URL for each monthly Parquet file.\n",
    "- Downloads each Parquet file using pandas.read_parquet() and saves it locally.\n",
    "- Handles download errors gracefully and logs progress per month."
   ]
  },
  {
   "cell_type": "code",
   "execution_count": null,
   "metadata": {},
   "outputs": [
    {
     "name": "stdout",
     "output_type": "stream",
     "text": [
      "Downloaded data for month 01\n",
      "Downloaded data for month 02\n",
      "Downloaded data for month 03\n",
      "Downloaded data for month 04\n",
      "Downloaded data for month 05\n",
      "Downloaded data for month 06\n",
      "Downloaded data for month 07\n",
      "Downloaded data for month 08\n",
      "Downloaded data for month 09\n",
      "Downloaded data for month 10\n",
      "Downloaded data for month 11\n",
      "Downloaded data for month 12\n"
     ]
    }
   ],
   "source": [
    "import pandas as pd\n",
    "import os\n",
    "\n",
    "# Create directory for data\n",
    "os.makedirs('nyc_taxi_data', exist_ok=True)\n",
    "\n",
    "# Example for yellow taxi data for 2022\n",
    "for month in range(1, 13):\n",
    "    month_str = str(month).zfill(2)\n",
    "    url = f'https://d37ci6vzurychx.cloudfront.net/trip-data/yellow_tripdata_2022-{month_str}.parquet'\n",
    "    output_file = f'nyc_taxi_data/yellow_tripdata_2022-{month_str}.parquet'\n",
    "    \n",
    "    try:\n",
    "        # Read and save the file\n",
    "        df = pd.read_parquet(url)\n",
    "        df.to_parquet(output_file)\n",
    "        print(f\"Downloaded data for month {month_str}\")\n",
    "    except Exception as e:\n",
    "        print(f\"Error downloading month {month_str}: {e}\")"
   ]
  },
  {
   "cell_type": "markdown",
   "metadata": {},
   "source": [
    "### 📄 Converting Parquet Files to a Single CSV\n",
    "- Uses glob to find all .parquet files in the nyc_taxi_data directory.\n",
    "- Reads each Parquet file into a temporary DataFrame and stores them in a list.\n",
    "- Combines all monthly DataFrames into a single large DataFrame.\n",
    "- Saves the final merged dataset as a CSV file named nyc_taxi_data_2022.csv in a data directory.\n",
    "- Includes checks for missing directories, missing files, or read errors."
   ]
  },
  {
   "cell_type": "code",
   "execution_count": null,
   "metadata": {},
   "outputs": [
    {
     "name": "stdout",
     "output_type": "stream",
     "text": [
      "Found 12 Parquet files. Loading...\n",
      "Loaded yellow_tripdata_2022-01.parquet\n",
      "Loaded yellow_tripdata_2022-02.parquet\n",
      "Loaded yellow_tripdata_2022-03.parquet\n",
      "Loaded yellow_tripdata_2022-04.parquet\n",
      "Loaded yellow_tripdata_2022-05.parquet\n",
      "Loaded yellow_tripdata_2022-06.parquet\n",
      "Loaded yellow_tripdata_2022-07.parquet\n",
      "Loaded yellow_tripdata_2022-08.parquet\n",
      "Loaded yellow_tripdata_2022-09.parquet\n",
      "Loaded yellow_tripdata_2022-10.parquet\n",
      "Loaded yellow_tripdata_2022-11.parquet\n",
      "Loaded yellow_tripdata_2022-12.parquet\n",
      "\n",
      "All Parquet files loaded and combined successfully!\n",
      "Total rows in combined DataFrame: 39656098\n",
      "\n",
      "First 5 rows of the combined DataFrame:\n",
      "   VendorID tpep_pickup_datetime tpep_dropoff_datetime  passenger_count  \\\n",
      "0         1  2022-01-01 00:35:40   2022-01-01 00:53:29              2.0   \n",
      "1         1  2022-01-01 00:33:43   2022-01-01 00:42:07              1.0   \n",
      "2         2  2022-01-01 00:53:21   2022-01-01 01:02:19              1.0   \n",
      "3         2  2022-01-01 00:25:21   2022-01-01 00:35:23              1.0   \n",
      "4         2  2022-01-01 00:36:48   2022-01-01 01:14:20              1.0   \n",
      "\n",
      "   trip_distance  RatecodeID store_and_fwd_flag  PULocationID  DOLocationID  \\\n",
      "0           3.80         1.0                  N           142           236   \n",
      "1           2.10         1.0                  N           236            42   \n",
      "2           0.97         1.0                  N           166           166   \n",
      "3           1.09         1.0                  N           114            68   \n",
      "4           4.30         1.0                  N            68           163   \n",
      "\n",
      "   payment_type  fare_amount  extra  mta_tax  tip_amount  tolls_amount  \\\n",
      "0             1         14.5    3.0      0.5        3.65           0.0   \n",
      "1             1          8.0    0.5      0.5        4.00           0.0   \n",
      "2             1          7.5    0.5      0.5        1.76           0.0   \n",
      "3             2          8.0    0.5      0.5        0.00           0.0   \n",
      "4             1         23.5    0.5      0.5        3.00           0.0   \n",
      "\n",
      "   improvement_surcharge  total_amount  congestion_surcharge  airport_fee  \n",
      "0                    0.3         21.95                   2.5          0.0  \n",
      "1                    0.3         13.30                   0.0          0.0  \n",
      "2                    0.3         10.56                   0.0          0.0  \n",
      "3                    0.3         11.80                   2.5          0.0  \n",
      "4                    0.3         30.30                   2.5          0.0  \n",
      "\n",
      "DataFrame Info:\n",
      "<class 'pandas.core.frame.DataFrame'>\n",
      "RangeIndex: 39656098 entries, 0 to 39656097\n",
      "Data columns (total 19 columns):\n",
      " #   Column                 Dtype         \n",
      "---  ------                 -----         \n",
      " 0   VendorID               int64         \n",
      " 1   tpep_pickup_datetime   datetime64[ns]\n",
      " 2   tpep_dropoff_datetime  datetime64[ns]\n",
      " 3   passenger_count        float64       \n",
      " 4   trip_distance          float64       \n",
      " 5   RatecodeID             float64       \n",
      " 6   store_and_fwd_flag     object        \n",
      " 7   PULocationID           int64         \n",
      " 8   DOLocationID           int64         \n",
      " 9   payment_type           int64         \n",
      " 10  fare_amount            float64       \n",
      " 11  extra                  float64       \n",
      " 12  mta_tax                float64       \n",
      " 13  tip_amount             float64       \n",
      " 14  tolls_amount           float64       \n",
      " 15  improvement_surcharge  float64       \n",
      " 16  total_amount           float64       \n",
      " 17  congestion_surcharge   float64       \n",
      " 18  airport_fee            float64       \n",
      "dtypes: datetime64[ns](2), float64(12), int64(4), object(1)\n",
      "memory usage: 5.6+ GB\n"
     ]
    }
   ],
   "source": [
    "import pandas as pd\n",
    "import os\n",
    "import glob # Import the glob module to find files matching a pattern\n",
    "\n",
    "# Define the directory containing the Parquet files\n",
    "data_directory = 'nyc_taxi_data'\n",
    "\n",
    "# Check if the directory exists\n",
    "if not os.path.isdir(data_directory):\n",
    "    print(f\"Error: Directory '{data_directory}' not found. Please ensure the data was downloaded.\")\n",
    "else:\n",
    "    # Find all Parquet files in the directory\n",
    "    # Use glob to easily find all files matching the pattern *.parquet\n",
    "    parquet_files = glob.glob(os.path.join(data_directory, '*.parquet'))\n",
    "\n",
    "    # Check if any parquet files were found\n",
    "    if not parquet_files:\n",
    "        print(f\"No Parquet files found in directory '{data_directory}'.\")\n",
    "    else:\n",
    "        print(f\"Found {len(parquet_files)} Parquet files. Loading...\")\n",
    "\n",
    "        # List to hold individual DataFrames\n",
    "        list_of_dataframes = []\n",
    "\n",
    "        # Loop through the list of Parquet files\n",
    "        for file_path in parquet_files:\n",
    "            try:\n",
    "                # Read the Parquet file into a DataFrame\n",
    "                df_temp = pd.read_parquet(file_path)\n",
    "                # Append the DataFrame to the list\n",
    "                list_of_dataframes.append(df_temp)\n",
    "                print(f\"Loaded {os.path.basename(file_path)}\")\n",
    "            except Exception as e:\n",
    "                print(f\"Error loading file {file_path}: {e}\")\n",
    "\n",
    "        # Check if any DataFrames were successfully loaded\n",
    "        if list_of_dataframes:\n",
    "            # Concatenate all DataFrames in the list into a single DataFrame\n",
    "            # ignore_index=True resets the index for the combined DataFrame\n",
    "            combined_df = pd.concat(list_of_dataframes, ignore_index=True)\n",
    "        else:\n",
    "            print(\"No dataframes were loaded.\")\n",
    "\n",
    "combined_df.to_csv(\"./data/nyc_taxi_data_2022.csv\")\n"
   ]
  },
  {
   "cell_type": "code",
   "execution_count": 9,
   "metadata": {},
   "outputs": [
    {
     "data": {
      "text/html": [
       "<div>\n",
       "<style scoped>\n",
       "    .dataframe tbody tr th:only-of-type {\n",
       "        vertical-align: middle;\n",
       "    }\n",
       "\n",
       "    .dataframe tbody tr th {\n",
       "        vertical-align: top;\n",
       "    }\n",
       "\n",
       "    .dataframe thead th {\n",
       "        text-align: right;\n",
       "    }\n",
       "</style>\n",
       "<table border=\"1\" class=\"dataframe\">\n",
       "  <thead>\n",
       "    <tr style=\"text-align: right;\">\n",
       "      <th></th>\n",
       "      <th>VendorID</th>\n",
       "      <th>tpep_pickup_datetime</th>\n",
       "      <th>tpep_dropoff_datetime</th>\n",
       "      <th>passenger_count</th>\n",
       "      <th>trip_distance</th>\n",
       "      <th>RatecodeID</th>\n",
       "      <th>store_and_fwd_flag</th>\n",
       "      <th>PULocationID</th>\n",
       "      <th>DOLocationID</th>\n",
       "      <th>payment_type</th>\n",
       "      <th>fare_amount</th>\n",
       "      <th>extra</th>\n",
       "      <th>mta_tax</th>\n",
       "      <th>tip_amount</th>\n",
       "      <th>tolls_amount</th>\n",
       "      <th>improvement_surcharge</th>\n",
       "      <th>total_amount</th>\n",
       "      <th>congestion_surcharge</th>\n",
       "      <th>airport_fee</th>\n",
       "    </tr>\n",
       "  </thead>\n",
       "  <tbody>\n",
       "    <tr>\n",
       "      <th>0</th>\n",
       "      <td>1</td>\n",
       "      <td>2022-01-01 00:35:40</td>\n",
       "      <td>2022-01-01 00:53:29</td>\n",
       "      <td>2.0</td>\n",
       "      <td>3.80</td>\n",
       "      <td>1.0</td>\n",
       "      <td>N</td>\n",
       "      <td>142</td>\n",
       "      <td>236</td>\n",
       "      <td>1</td>\n",
       "      <td>14.50</td>\n",
       "      <td>3.0</td>\n",
       "      <td>0.5</td>\n",
       "      <td>3.65</td>\n",
       "      <td>0.0</td>\n",
       "      <td>0.3</td>\n",
       "      <td>21.95</td>\n",
       "      <td>2.5</td>\n",
       "      <td>0.0</td>\n",
       "    </tr>\n",
       "    <tr>\n",
       "      <th>1</th>\n",
       "      <td>1</td>\n",
       "      <td>2022-01-01 00:33:43</td>\n",
       "      <td>2022-01-01 00:42:07</td>\n",
       "      <td>1.0</td>\n",
       "      <td>2.10</td>\n",
       "      <td>1.0</td>\n",
       "      <td>N</td>\n",
       "      <td>236</td>\n",
       "      <td>42</td>\n",
       "      <td>1</td>\n",
       "      <td>8.00</td>\n",
       "      <td>0.5</td>\n",
       "      <td>0.5</td>\n",
       "      <td>4.00</td>\n",
       "      <td>0.0</td>\n",
       "      <td>0.3</td>\n",
       "      <td>13.30</td>\n",
       "      <td>0.0</td>\n",
       "      <td>0.0</td>\n",
       "    </tr>\n",
       "    <tr>\n",
       "      <th>2</th>\n",
       "      <td>2</td>\n",
       "      <td>2022-01-01 00:53:21</td>\n",
       "      <td>2022-01-01 01:02:19</td>\n",
       "      <td>1.0</td>\n",
       "      <td>0.97</td>\n",
       "      <td>1.0</td>\n",
       "      <td>N</td>\n",
       "      <td>166</td>\n",
       "      <td>166</td>\n",
       "      <td>1</td>\n",
       "      <td>7.50</td>\n",
       "      <td>0.5</td>\n",
       "      <td>0.5</td>\n",
       "      <td>1.76</td>\n",
       "      <td>0.0</td>\n",
       "      <td>0.3</td>\n",
       "      <td>10.56</td>\n",
       "      <td>0.0</td>\n",
       "      <td>0.0</td>\n",
       "    </tr>\n",
       "    <tr>\n",
       "      <th>3</th>\n",
       "      <td>2</td>\n",
       "      <td>2022-01-01 00:25:21</td>\n",
       "      <td>2022-01-01 00:35:23</td>\n",
       "      <td>1.0</td>\n",
       "      <td>1.09</td>\n",
       "      <td>1.0</td>\n",
       "      <td>N</td>\n",
       "      <td>114</td>\n",
       "      <td>68</td>\n",
       "      <td>2</td>\n",
       "      <td>8.00</td>\n",
       "      <td>0.5</td>\n",
       "      <td>0.5</td>\n",
       "      <td>0.00</td>\n",
       "      <td>0.0</td>\n",
       "      <td>0.3</td>\n",
       "      <td>11.80</td>\n",
       "      <td>2.5</td>\n",
       "      <td>0.0</td>\n",
       "    </tr>\n",
       "    <tr>\n",
       "      <th>4</th>\n",
       "      <td>2</td>\n",
       "      <td>2022-01-01 00:36:48</td>\n",
       "      <td>2022-01-01 01:14:20</td>\n",
       "      <td>1.0</td>\n",
       "      <td>4.30</td>\n",
       "      <td>1.0</td>\n",
       "      <td>N</td>\n",
       "      <td>68</td>\n",
       "      <td>163</td>\n",
       "      <td>1</td>\n",
       "      <td>23.50</td>\n",
       "      <td>0.5</td>\n",
       "      <td>0.5</td>\n",
       "      <td>3.00</td>\n",
       "      <td>0.0</td>\n",
       "      <td>0.3</td>\n",
       "      <td>30.30</td>\n",
       "      <td>2.5</td>\n",
       "      <td>0.0</td>\n",
       "    </tr>\n",
       "    <tr>\n",
       "      <th>...</th>\n",
       "      <td>...</td>\n",
       "      <td>...</td>\n",
       "      <td>...</td>\n",
       "      <td>...</td>\n",
       "      <td>...</td>\n",
       "      <td>...</td>\n",
       "      <td>...</td>\n",
       "      <td>...</td>\n",
       "      <td>...</td>\n",
       "      <td>...</td>\n",
       "      <td>...</td>\n",
       "      <td>...</td>\n",
       "      <td>...</td>\n",
       "      <td>...</td>\n",
       "      <td>...</td>\n",
       "      <td>...</td>\n",
       "      <td>...</td>\n",
       "      <td>...</td>\n",
       "      <td>...</td>\n",
       "    </tr>\n",
       "    <tr>\n",
       "      <th>39656093</th>\n",
       "      <td>2</td>\n",
       "      <td>2022-12-31 23:46:00</td>\n",
       "      <td>2023-01-01 00:11:00</td>\n",
       "      <td>NaN</td>\n",
       "      <td>11.56</td>\n",
       "      <td>NaN</td>\n",
       "      <td>None</td>\n",
       "      <td>16</td>\n",
       "      <td>36</td>\n",
       "      <td>0</td>\n",
       "      <td>39.55</td>\n",
       "      <td>0.0</td>\n",
       "      <td>0.5</td>\n",
       "      <td>8.21</td>\n",
       "      <td>0.0</td>\n",
       "      <td>1.0</td>\n",
       "      <td>49.26</td>\n",
       "      <td>NaN</td>\n",
       "      <td>NaN</td>\n",
       "    </tr>\n",
       "    <tr>\n",
       "      <th>39656094</th>\n",
       "      <td>2</td>\n",
       "      <td>2022-12-31 23:13:24</td>\n",
       "      <td>2022-12-31 23:29:08</td>\n",
       "      <td>NaN</td>\n",
       "      <td>5.06</td>\n",
       "      <td>NaN</td>\n",
       "      <td>None</td>\n",
       "      <td>75</td>\n",
       "      <td>50</td>\n",
       "      <td>0</td>\n",
       "      <td>26.23</td>\n",
       "      <td>0.0</td>\n",
       "      <td>0.5</td>\n",
       "      <td>0.00</td>\n",
       "      <td>0.0</td>\n",
       "      <td>1.0</td>\n",
       "      <td>30.23</td>\n",
       "      <td>NaN</td>\n",
       "      <td>NaN</td>\n",
       "    </tr>\n",
       "    <tr>\n",
       "      <th>39656095</th>\n",
       "      <td>2</td>\n",
       "      <td>2022-12-31 23:00:49</td>\n",
       "      <td>2022-12-31 23:26:57</td>\n",
       "      <td>NaN</td>\n",
       "      <td>13.35</td>\n",
       "      <td>NaN</td>\n",
       "      <td>None</td>\n",
       "      <td>168</td>\n",
       "      <td>197</td>\n",
       "      <td>0</td>\n",
       "      <td>47.73</td>\n",
       "      <td>0.0</td>\n",
       "      <td>0.5</td>\n",
       "      <td>9.85</td>\n",
       "      <td>0.0</td>\n",
       "      <td>1.0</td>\n",
       "      <td>59.08</td>\n",
       "      <td>NaN</td>\n",
       "      <td>NaN</td>\n",
       "    </tr>\n",
       "    <tr>\n",
       "      <th>39656096</th>\n",
       "      <td>1</td>\n",
       "      <td>2022-12-31 23:02:50</td>\n",
       "      <td>2022-12-31 23:16:05</td>\n",
       "      <td>NaN</td>\n",
       "      <td>0.00</td>\n",
       "      <td>NaN</td>\n",
       "      <td>None</td>\n",
       "      <td>238</td>\n",
       "      <td>116</td>\n",
       "      <td>0</td>\n",
       "      <td>12.74</td>\n",
       "      <td>0.0</td>\n",
       "      <td>0.5</td>\n",
       "      <td>0.00</td>\n",
       "      <td>0.0</td>\n",
       "      <td>1.0</td>\n",
       "      <td>16.74</td>\n",
       "      <td>NaN</td>\n",
       "      <td>NaN</td>\n",
       "    </tr>\n",
       "    <tr>\n",
       "      <th>39656097</th>\n",
       "      <td>2</td>\n",
       "      <td>2022-12-31 23:00:15</td>\n",
       "      <td>2022-12-31 23:22:56</td>\n",
       "      <td>NaN</td>\n",
       "      <td>4.24</td>\n",
       "      <td>NaN</td>\n",
       "      <td>None</td>\n",
       "      <td>85</td>\n",
       "      <td>37</td>\n",
       "      <td>0</td>\n",
       "      <td>19.60</td>\n",
       "      <td>0.0</td>\n",
       "      <td>0.5</td>\n",
       "      <td>4.00</td>\n",
       "      <td>0.0</td>\n",
       "      <td>1.0</td>\n",
       "      <td>25.10</td>\n",
       "      <td>NaN</td>\n",
       "      <td>NaN</td>\n",
       "    </tr>\n",
       "  </tbody>\n",
       "</table>\n",
       "<p>39656098 rows × 19 columns</p>\n",
       "</div>"
      ],
      "text/plain": [
       "          VendorID tpep_pickup_datetime tpep_dropoff_datetime  \\\n",
       "0                1  2022-01-01 00:35:40   2022-01-01 00:53:29   \n",
       "1                1  2022-01-01 00:33:43   2022-01-01 00:42:07   \n",
       "2                2  2022-01-01 00:53:21   2022-01-01 01:02:19   \n",
       "3                2  2022-01-01 00:25:21   2022-01-01 00:35:23   \n",
       "4                2  2022-01-01 00:36:48   2022-01-01 01:14:20   \n",
       "...            ...                  ...                   ...   \n",
       "39656093         2  2022-12-31 23:46:00   2023-01-01 00:11:00   \n",
       "39656094         2  2022-12-31 23:13:24   2022-12-31 23:29:08   \n",
       "39656095         2  2022-12-31 23:00:49   2022-12-31 23:26:57   \n",
       "39656096         1  2022-12-31 23:02:50   2022-12-31 23:16:05   \n",
       "39656097         2  2022-12-31 23:00:15   2022-12-31 23:22:56   \n",
       "\n",
       "          passenger_count  trip_distance  RatecodeID store_and_fwd_flag  \\\n",
       "0                     2.0           3.80         1.0                  N   \n",
       "1                     1.0           2.10         1.0                  N   \n",
       "2                     1.0           0.97         1.0                  N   \n",
       "3                     1.0           1.09         1.0                  N   \n",
       "4                     1.0           4.30         1.0                  N   \n",
       "...                   ...            ...         ...                ...   \n",
       "39656093              NaN          11.56         NaN               None   \n",
       "39656094              NaN           5.06         NaN               None   \n",
       "39656095              NaN          13.35         NaN               None   \n",
       "39656096              NaN           0.00         NaN               None   \n",
       "39656097              NaN           4.24         NaN               None   \n",
       "\n",
       "          PULocationID  DOLocationID  payment_type  fare_amount  extra  \\\n",
       "0                  142           236             1        14.50    3.0   \n",
       "1                  236            42             1         8.00    0.5   \n",
       "2                  166           166             1         7.50    0.5   \n",
       "3                  114            68             2         8.00    0.5   \n",
       "4                   68           163             1        23.50    0.5   \n",
       "...                ...           ...           ...          ...    ...   \n",
       "39656093            16            36             0        39.55    0.0   \n",
       "39656094            75            50             0        26.23    0.0   \n",
       "39656095           168           197             0        47.73    0.0   \n",
       "39656096           238           116             0        12.74    0.0   \n",
       "39656097            85            37             0        19.60    0.0   \n",
       "\n",
       "          mta_tax  tip_amount  tolls_amount  improvement_surcharge  \\\n",
       "0             0.5        3.65           0.0                    0.3   \n",
       "1             0.5        4.00           0.0                    0.3   \n",
       "2             0.5        1.76           0.0                    0.3   \n",
       "3             0.5        0.00           0.0                    0.3   \n",
       "4             0.5        3.00           0.0                    0.3   \n",
       "...           ...         ...           ...                    ...   \n",
       "39656093      0.5        8.21           0.0                    1.0   \n",
       "39656094      0.5        0.00           0.0                    1.0   \n",
       "39656095      0.5        9.85           0.0                    1.0   \n",
       "39656096      0.5        0.00           0.0                    1.0   \n",
       "39656097      0.5        4.00           0.0                    1.0   \n",
       "\n",
       "          total_amount  congestion_surcharge  airport_fee  \n",
       "0                21.95                   2.5          0.0  \n",
       "1                13.30                   0.0          0.0  \n",
       "2                10.56                   0.0          0.0  \n",
       "3                11.80                   2.5          0.0  \n",
       "4                30.30                   2.5          0.0  \n",
       "...                ...                   ...          ...  \n",
       "39656093         49.26                   NaN          NaN  \n",
       "39656094         30.23                   NaN          NaN  \n",
       "39656095         59.08                   NaN          NaN  \n",
       "39656096         16.74                   NaN          NaN  \n",
       "39656097         25.10                   NaN          NaN  \n",
       "\n",
       "[39656098 rows x 19 columns]"
      ]
     },
     "execution_count": 9,
     "metadata": {},
     "output_type": "execute_result"
    }
   ],
   "source": [
    "combined_df"
   ]
  },
  {
   "cell_type": "code",
   "execution_count": 10,
   "metadata": {},
   "outputs": [
    {
     "data": {
      "text/plain": [
       "Index(['VendorID', 'tpep_pickup_datetime', 'tpep_dropoff_datetime',\n",
       "       'passenger_count', 'trip_distance', 'RatecodeID', 'store_and_fwd_flag',\n",
       "       'PULocationID', 'DOLocationID', 'payment_type', 'fare_amount', 'extra',\n",
       "       'mta_tax', 'tip_amount', 'tolls_amount', 'improvement_surcharge',\n",
       "       'total_amount', 'congestion_surcharge', 'airport_fee'],\n",
       "      dtype='object')"
      ]
     },
     "execution_count": 10,
     "metadata": {},
     "output_type": "execute_result"
    }
   ],
   "source": [
    "combined_df.columns"
   ]
  },
  {
   "cell_type": "code",
   "execution_count": 12,
   "metadata": {},
   "outputs": [],
   "source": [
    "combined_df.to_csv(\"./data/nyc_taxi_data_2022.csv\")"
   ]
  },
  {
   "cell_type": "markdown",
   "metadata": {},
   "source": [
    "### 🔐 Authentication and Setup\n",
    "Loads Azure ML workspace details from config.json.\n",
    "\n",
    "Uses DefaultAzureCredential to authenticate with Azure services.\n",
    "\n",
    "Retrieves the storage account key using the Azure Storage Management Client.\n",
    "\n",
    "Initializes an MLClient for interacting with Azure ML workspace resources."
   ]
  },
  {
   "cell_type": "code",
   "execution_count": 1,
   "metadata": {
    "gather": {
     "logged": 1744434855555
    }
   },
   "outputs": [],
   "source": [
    "import os\n",
    "import json\n",
    "\n",
    "from azure.identity import DefaultAzureCredential\n",
    "from azure.mgmt.storage import StorageManagementClient\n",
    "\n",
    "from azure.ai.ml import MLClient\n",
    "\n",
    "# Configuration values\n",
    "storage_account_name = \"thsklkmlstorage\"\n",
    "location = \"centralindia\"\n",
    "container_name = \"mlcontainer\"\n",
    "file_share_name = \"mlfileshare\"\n",
    "blob_datastore_name = \"mlcontainer\"\n",
    "file_share_datastore_name = \"mlfileshare\"\n",
    "\n",
    "local_parquet_folder = \"nyc_taxi_data\"\n",
    "local_csv_folder = \"data\"\n",
    "csv_filename = \"nyc_taxi_data_2022.csv\"\n",
    "local_csv_path = os.path.join(local_csv_folder, csv_filename)\n",
    "\n",
    "# Load config\n",
    "with open(\"config.json\") as f:\n",
    "    config = json.load(f)\n",
    "\n",
    "subscription_id = config[\"subscription_id\"]\n",
    "resource_group = config[\"resource_group\"]\n",
    "workspace_name=config[\"workspace_name\"]\n",
    "\n",
    "\n",
    "# Create Azure credential\n",
    "credential = DefaultAzureCredential()\n",
    "\n",
    "# Create a storage management client and get the storage key\n",
    "storage_client = StorageManagementClient(credential, subscription_id)\n",
    "keys = storage_client.storage_accounts.list_keys(resource_group, storage_account_name)\n",
    "storage_key = keys.keys[0].value\n",
    "\n",
    "# Create ML client\n",
    "ml_client = MLClient(\n",
    "    credential=credential,\n",
    "    subscription_id=config[\"subscription_id\"],\n",
    "    resource_group_name=config[\"resource_group\"],\n",
    "    workspace_name=config[\"workspace_name\"],\n",
    ")\n"
   ]
  },
  {
   "cell_type": "markdown",
   "metadata": {},
   "source": [
    "### 📤 Upload Parquet Files to Azure Blob Storage\n",
    "- Connects to the specified Blob container using BlobServiceClient.\n",
    "- Scans the local nyc_taxi_data folder for .parquet files.\n",
    "- Uploads each file to the container, preserving folder structure.\n",
    "- Uses upload_blob(..., overwrite=True) to ensure updates if the file already exists."
   ]
  },
  {
   "cell_type": "code",
   "execution_count": 8,
   "metadata": {},
   "outputs": [
    {
     "name": "stdout",
     "output_type": "stream",
     "text": [
      "Connected to blob container: mlcontainer\n",
      "Found 12 Parquet files to upload.\n",
      "Uploading yellow_tripdata_2022-01.parquet to blob nyc_taxi_data/yellow_tripdata_2022-01.parquet...\n",
      "Uploading yellow_tripdata_2022-02.parquet to blob nyc_taxi_data/yellow_tripdata_2022-02.parquet...\n",
      "Uploading yellow_tripdata_2022-03.parquet to blob nyc_taxi_data/yellow_tripdata_2022-03.parquet...\n",
      "Uploading yellow_tripdata_2022-04.parquet to blob nyc_taxi_data/yellow_tripdata_2022-04.parquet...\n",
      "Uploading yellow_tripdata_2022-05.parquet to blob nyc_taxi_data/yellow_tripdata_2022-05.parquet...\n",
      "Uploading yellow_tripdata_2022-06.parquet to blob nyc_taxi_data/yellow_tripdata_2022-06.parquet...\n",
      "Uploading yellow_tripdata_2022-07.parquet to blob nyc_taxi_data/yellow_tripdata_2022-07.parquet...\n",
      "Uploading yellow_tripdata_2022-08.parquet to blob nyc_taxi_data/yellow_tripdata_2022-08.parquet...\n",
      "Uploading yellow_tripdata_2022-09.parquet to blob nyc_taxi_data/yellow_tripdata_2022-09.parquet...\n",
      "Uploading yellow_tripdata_2022-10.parquet to blob nyc_taxi_data/yellow_tripdata_2022-10.parquet...\n",
      "Uploading yellow_tripdata_2022-11.parquet to blob nyc_taxi_data/yellow_tripdata_2022-11.parquet...\n",
      "Uploading yellow_tripdata_2022-12.parquet to blob nyc_taxi_data/yellow_tripdata_2022-12.parquet...\n"
     ]
    }
   ],
   "source": [
    "from azure.storage.blob import BlobServiceClient\n",
    "import os\n",
    "import glob\n",
    "\n",
    "# Create BlobServiceClient\n",
    "blob_service_client = BlobServiceClient(\n",
    "    account_url=f\"https://{storage_account_name}.blob.core.windows.net\",\n",
    "    credential=storage_key\n",
    ")\n",
    "container_client = blob_service_client.get_container_client(container_name)\n",
    "print(f\"Connected to blob container: {container_name}\")\n",
    "\n",
    "# Upload Parquet files (preserving folder structure)\n",
    "parquet_files = glob.glob(os.path.join(local_parquet_folder, '*.parquet'))\n",
    "print(f\"Found {len(parquet_files)} Parquet files to upload.\")\n",
    "\n",
    "for file_path in parquet_files:\n",
    "    # Define the blob name including the directory structure\n",
    "    blob_name = os.path.join(local_parquet_folder, os.path.basename(file_path)).replace(\"\\\\\", \"/\")\n",
    "    blob_client = container_client.get_blob_client(blob=blob_name)\n",
    "    print(f\"Uploading {os.path.basename(file_path)} to blob {blob_name}...\")\n",
    "    with open(file_path, \"rb\") as data:\n",
    "        blob_client.upload_blob(data, overwrite=True)\n"
   ]
  },
  {
   "cell_type": "markdown",
   "metadata": {},
   "source": [
    "\n",
    "### 📤 **Upload CSV to Azure Blob Storage**\n",
    "- Connects to the specified Azure **Blob container**.  \n",
    "- Uploads `nyc_taxi_data_2022.csv` from the local `./data/` folder to the container root.  \n",
    "- Uses `overwrite=True` to replace the file if it already exists.\n"
   ]
  },
  {
   "cell_type": "code",
   "execution_count": 9,
   "metadata": {},
   "outputs": [],
   "source": [
    "file_path = './data/nyc_taxi_data_2022.csv'\n",
    "\n",
    "blob_service_client = BlobServiceClient(\n",
    "    account_url=f\"https://{storage_account_name}.blob.core.windows.net\",\n",
    "    credential=storage_key\n",
    ")\n",
    "container_client = blob_service_client.get_container_client(container_name)\n",
    "\n",
    "blob_client = container_client.get_blob_client(blob=\"nyc_taxi_data_2022.csv\")\n",
    "\n",
    "with open(file_path, \"rb\") as data:\n",
    "        blob_client.upload_blob(data, overwrite=True)"
   ]
  },
  {
   "cell_type": "markdown",
   "metadata": {},
   "source": [
    "### 📤 Upload Parquet Files to Azure File Share\n",
    "- Connects to the specified Azure File Share using ShareServiceClient.\n",
    "- Ensures the target directory (e.g., nyc_taxi_data) exists in the file share.\n",
    "- Uploads each .parquet file to the directory inside the file share."
   ]
  },
  {
   "cell_type": "code",
   "execution_count": 10,
   "metadata": {},
   "outputs": [
    {
     "name": "stdout",
     "output_type": "stream",
     "text": [
      "Connected to file share: mlfileshare\n",
      "Creating directory 'nyc_taxi_data' in file share...\n",
      "Uploading 12 Parquet files to file share directory 'nyc_taxi_data'...\n",
      "Uploading yellow_tripdata_2022-01.parquet...\n",
      "Uploading yellow_tripdata_2022-02.parquet...\n",
      "Uploading yellow_tripdata_2022-03.parquet...\n",
      "Uploading yellow_tripdata_2022-04.parquet...\n",
      "Uploading yellow_tripdata_2022-05.parquet...\n",
      "Uploading yellow_tripdata_2022-06.parquet...\n",
      "Uploading yellow_tripdata_2022-07.parquet...\n",
      "Uploading yellow_tripdata_2022-08.parquet...\n",
      "Uploading yellow_tripdata_2022-09.parquet...\n",
      "Uploading yellow_tripdata_2022-10.parquet...\n",
      "Uploading yellow_tripdata_2022-11.parquet...\n",
      "Uploading yellow_tripdata_2022-12.parquet...\n"
     ]
    }
   ],
   "source": [
    "from azure.storage.fileshare import ShareServiceClient\n",
    "import os\n",
    "\n",
    "# Create ShareServiceClient\n",
    "share_service_client = ShareServiceClient(\n",
    "    account_url=f\"https://{storage_account_name}.file.core.windows.net\",\n",
    "    credential=storage_key\n",
    ")\n",
    "share_client = share_service_client.get_share_client(file_share_name)\n",
    "print(f\"Connected to file share: {file_share_name}\")\n",
    "\n",
    "# Ensure the target directory exists in the file share for Parquet files\n",
    "share_directory_client = share_client.get_directory_client(local_parquet_folder)\n",
    "if not share_directory_client.exists():\n",
    "    print(f\"Creating directory '{local_parquet_folder}' in file share...\")\n",
    "    share_directory_client.create_directory()\n",
    "\n",
    "# Upload Parquet files\n",
    "print(f\"Uploading {len(parquet_files)} Parquet files to file share directory '{local_parquet_folder}'...\")\n",
    "for file_path in parquet_files:\n",
    "    file_name = os.path.basename(file_path)\n",
    "    share_file_client = share_directory_client.get_file_client(file_name)\n",
    "    print(f\"Uploading {file_name}...\")\n",
    "    with open(file_path, \"rb\") as source_file:\n",
    "        share_file_client.upload_file(source_file)\n"
   ]
  },
  {
   "cell_type": "markdown",
   "metadata": {},
   "source": [
    "\n",
    "\n",
    "### 📤 **Upload CSV to Azure File Share**\n",
    "- Connects to the specified **File Share**.  \n",
    "- Uses a directory client (`share_directory_client`) to target the upload path.  \n",
    "- Uploads the CSV file (`nyc_taxi_data_2022.csv`) to the file share directory.\n",
    "\n"
   ]
  },
  {
   "cell_type": "code",
   "execution_count": 11,
   "metadata": {},
   "outputs": [],
   "source": [
    "file_path = './data/nyc_taxi_data_2022.csv'\n",
    "\n",
    "share_service_client = ShareServiceClient(\n",
    "    account_url=f\"https://{storage_account_name}.file.core.windows.net\",\n",
    "    credential=storage_key\n",
    ")\n",
    "share_client = share_service_client.get_share_client(file_share_name)\n",
    "\n",
    "share_file_client = share_directory_client.get_file_client(\"nyc_taxi_data_2022.csv\")\n",
    "\n",
    "with open(file_path, \"rb\") as source_file:\n",
    "        share_file_client.upload_file(source_file)"
   ]
  },
  {
   "cell_type": "markdown",
   "metadata": {},
   "source": [
    "### 📦 Register Folder as a Data Asset in Azure ML\n",
    "- Constructs a URI_FOLDER-type path to the uploaded folder in the blob datastore.\n",
    "- Creates a new data asset representing the folder of Parquet files.\n",
    "- Registers (or updates) the asset in Azure ML using ml_client.data.create_or_update().\n",
    "- Asset is now available for use in pipelines, experiments, and training jobs."
   ]
  },
  {
   "cell_type": "code",
   "execution_count": 14,
   "metadata": {},
   "outputs": [
    {
     "name": "stdout",
     "output_type": "stream",
     "text": [
      "Successfully registered/updated data asset (folder): 'nyc-taxi-2022-parquet'\n"
     ]
    }
   ],
   "source": [
    "from azure.ai.ml.entities import Data\n",
    "from azure.ai.ml.constants import AssetTypes\n",
    "\n",
    "# Construct the full path URI for Azure ML datastores\n",
    "base_path = (\n",
    "    f\"azureml://subscriptions/{subscription_id}/resourcegroups/{resource_group}/\"\n",
    "    f\"workspaces/{workspace_name}/datastores/{blob_datastore_name}/paths/\"\n",
    ")\n",
    "\n",
    "# Register the folder containing Parquet files\n",
    "folder_asset_name = \"nyc-taxi-2022-parquet\"\n",
    "folder_path_uri = base_path + f\"{local_parquet_folder}/\"\n",
    "\n",
    "folder_data_asset = Data(\n",
    "    name=folder_asset_name,\n",
    "    path=folder_path_uri,\n",
    "    type=AssetTypes.URI_FOLDER,\n",
    "    description=\"Folder containing NYC Yellow Taxi trip data for 2022 (Parquet format).\",\n",
    "    version=\"1\"\n",
    ")\n",
    "\n",
    "ml_client.data.create_or_update(folder_data_asset)\n",
    "print(f\"Successfully registered/updated data asset (folder): '{folder_asset_name}'\")"
   ]
  },
  {
   "cell_type": "markdown",
   "metadata": {},
   "source": [
    "### 📦 **Register CSV File as a Data Asset in Azure ML**\n",
    "- Constructs the full **URI path** for the CSV file in the file share datastore.  \n",
    "- Creates a new Azure ML **data asset** with type `URI_FILE`.  \n",
    "- Sets metadata like `name`, `description`, and `version`.  \n",
    "- Registers the file in Azure ML using `ml_client.data.create_or_update()`."
   ]
  },
  {
   "cell_type": "code",
   "execution_count": 13,
   "metadata": {},
   "outputs": [
    {
     "name": "stdout",
     "output_type": "stream",
     "text": [
      "azureml://subscriptions/40b3b6fa-c1eb-4567-bb9c-bfa430b41708/resourcegroups/tharindu-ml-tst-rg/workspaces/tharindu-ml-tst-wp/datastores/mlfileshare/paths/nyc_taxi_data/nyc_taxi_data_2022.csv\n"
     ]
    }
   ],
   "source": [
    "from azure.ai.ml.entities import Data\n",
    "from azure.ai.ml.constants import AssetTypes\n",
    "\n",
    "\n",
    "file_in_datastore = 'nyc_taxi_data_2022.csv'\n",
    "\n",
    "base_path = (\n",
    "    f\"azureml://subscriptions/{subscription_id}/resourcegroups/{resource_group}/\"\n",
    "    f\"workspaces/{workspace_name}/datastores/{file_share_datastore_name}/paths/\"\n",
    ")\n",
    "\n",
    "file_path_uri = base_path + f\"{local_parquet_folder}/\" + f\"{file_in_datastore}\"\n",
    "\n",
    "print(file_path_uri)\n",
    "\n",
    "my_data = Data(\n",
    "        path=file_path_uri,\n",
    "        type=AssetTypes.URI_FILE,\n",
    "        description=\"NYC Taxi Data 2022\",\n",
    "        name=\"nyc-taxi-2022-csv\",\n",
    "        version=\"2\"\n",
    "    )\n",
    "\n",
    "registered_data = ml_client.data.create_or_update(my_data)"
   ]
  },
  {
   "cell_type": "markdown",
   "metadata": {},
   "source": [
    "### 📦 **Register a Local CSV File as a Data Asset in Azure ML**\n",
    "\n",
    "- Specifies the path to a local file: `insurance.csv`.  \n",
    "- Creates a new **data asset** of type `URI_FILE` with metadata including name, version, and description.  \n",
    "- Registers the data asset in Azure Machine Learning using `ml_client.data.create_or_update()`.  \n",
    "- This makes the file available in your Azure ML workspace for use in experiments, pipelines, and training jobs."
   ]
  },
  {
   "cell_type": "code",
   "execution_count": 8,
   "metadata": {},
   "outputs": [
    {
     "name": "stdout",
     "output_type": "stream",
     "text": [
      "./data/insurance.csv\n"
     ]
    },
    {
     "name": "stderr",
     "output_type": "stream",
     "text": [
      "\u001b[32mUploading insurance.csv\u001b[32m (< 1 MB): 100%|██████████| 54.3k/54.3k [00:00<00:00, 4.13MB/s]\n",
      "\u001b[39m\n",
      "\n"
     ]
    }
   ],
   "source": [
    "from azure.ai.ml.entities import Data\n",
    "from azure.ai.ml.constants import AssetTypes\n",
    "\n",
    "\n",
    "local_file = './data/insurance.csv'\n",
    "\n",
    "print(local_file)\n",
    "\n",
    "my_data = Data(\n",
    "        path=local_file,\n",
    "        type=AssetTypes.URI_FILE,\n",
    "        description=\"Medical Insurance Costs Dataset\",\n",
    "        name=\"insurance-csv\",\n",
    "        version=\"1\"\n",
    "    )\n",
    "\n",
    "registered_data = ml_client.data.create_or_update(my_data)"
   ]
  },
  {
   "cell_type": "markdown",
   "metadata": {},
   "source": [
    "### 🌐 **Register a Public URL as a Data Asset in Azure ML**\n",
    "\n",
    "- Defines a **public URL** pointing to the `insurance.csv` dataset hosted on GitHub.  \n",
    "- Creates a new Azure ML **data asset** of type `URI_FILE`, referencing the external file directly.  \n",
    "- Registers the asset in your workspace using `ml_client.data.create_or_update()`.  \n",
    "- Prints the asset name and version to confirm successful registration.\n",
    "\n",
    "This method is ideal for working with **external or publicly available datasets** without uploading them to Azure Storage."
   ]
  },
  {
   "cell_type": "code",
   "execution_count": 14,
   "metadata": {},
   "outputs": [
    {
     "name": "stdout",
     "output_type": "stream",
     "text": [
      "Data asset registered: insurance-public-url, version: 1\n"
     ]
    }
   ],
   "source": [
    "from azure.ai.ml.entities import Data\n",
    "from azure.ai.ml.constants import AssetTypes\n",
    "\n",
    "# Define the public URL for the insurance dataset\n",
    "public_url = \"https://raw.githubusercontent.com/stedy/Machine-Learning-with-R-datasets/master/insurance.csv\"\n",
    "\n",
    "# Create the data asset with the URL\n",
    "my_data = Data(\n",
    "    path=public_url,\n",
    "    type=AssetTypes.URI_FILE,\n",
    "    description=\"Medical Insurance Costs Dataset\",\n",
    "    name=\"insurance-public-url\",\n",
    "    version=\"1\"\n",
    ")\n",
    "\n",
    "# Register the data asset with the ML client\n",
    "registered_data = ml_client.data.create_or_update(my_data)\n",
    "\n",
    "# Print the registered data asset details\n",
    "print(f\"Data asset registered: {registered_data.name}, version: {registered_data.version}\")"
   ]
  },
  {
   "cell_type": "markdown",
   "metadata": {},
   "source": [
    "### 📥 **Retrieve and Load Registered Data Asset**\n",
    "- Retrieves the registered data asset named `\"insurance-public-url\"` (version 1) from the Azure ML workspace.  \n",
    "- Extracts the asset’s `path` and wraps it as a job `Input` of type `\"uri_file\"`.  \n",
    "- Loads the dataset into a **Pandas DataFrame** using `pd.read_csv()`.\n"
   ]
  },
  {
   "cell_type": "code",
   "execution_count": 2,
   "metadata": {
    "gather": {
     "logged": 1744437333212
    }
   },
   "outputs": [
    {
     "name": "stdout",
     "output_type": "stream",
     "text": [
      "Data asset found: insurance-public-url (version: 1)\n",
      "\n",
      "Data path: https://raw.githubusercontent.com/stedy/Machine-Learning-with-R-datasets/master/insurance.csv\n",
      "Job input created: {'type': 'uri_file', 'path': 'https://raw.githubusercontent.com/stedy/Machine-Learning-with-R-datasets/master/insurance.csv'}\n",
      "\n",
      "--- Data Preview (first 5 rows) ---\n",
      "   age     sex     bmi  children smoker     region      charges\n",
      "0   19  female  27.900         0    yes  southwest  16884.92400\n",
      "1   18    male  33.770         1     no  southeast   1725.55230\n",
      "2   28    male  33.000         3     no  southeast   4449.46200\n",
      "3   33    male  22.705         0     no  northwest  21984.47061\n",
      "4   32    male  28.880         0     no  northwest   3866.85520\n",
      "\n",
      "--- DataFrame Information ---\n",
      "<class 'pandas.core.frame.DataFrame'>\n",
      "RangeIndex: 1338 entries, 0 to 1337\n",
      "Data columns (total 7 columns):\n",
      " #   Column    Non-Null Count  Dtype  \n",
      "---  ------    --------------  -----  \n",
      " 0   age       1338 non-null   int64  \n",
      " 1   sex       1338 non-null   object \n",
      " 2   bmi       1338 non-null   float64\n",
      " 3   children  1338 non-null   int64  \n",
      " 4   smoker    1338 non-null   object \n",
      " 5   region    1338 non-null   object \n",
      " 6   charges   1338 non-null   float64\n",
      "dtypes: float64(2), int64(2), object(3)\n",
      "memory usage: 73.3+ KB\n"
     ]
    }
   ],
   "source": [
    "from azure.ai.ml import MLClient, Input\n",
    "import pandas as pd\n",
    "\n",
    "# Retrieve the registered data asset\n",
    "data_asset = ml_client.data.get(name=\"insurance-public-url\", version=\"1\")\n",
    "print(f\"Data asset found: {data_asset.name} (version: {data_asset.version})\")\n",
    "\n",
    "# Get the data path and create a job input\n",
    "data_path = data_asset.path\n",
    "job_input = Input(type=\"uri_file\", path=data_path)\n",
    "print(f\"\\nData path: {data_path}\")\n",
    "print(f\"Job input created: {job_input}\")\n",
    "\n",
    "# Load the CSV data into a pandas DataFrame\n",
    "df = pd.read_csv(job_input.path)\n",
    "\n",
    "# Display a preview and information about the data\n",
    "print(\"\\n--- Data Preview (first 5 rows) ---\")\n",
    "print(df.head())\n",
    "\n",
    "print(\"\\n--- DataFrame Information ---\")\n",
    "df.info()"
   ]
  },
  {
   "cell_type": "markdown",
   "metadata": {
    "nteract": {
     "transient": {
      "deleting": false
     }
    }
   },
   "source": [
    "### 🚀 **Start an MLflow Run**\n",
    "- Initializes an MLflow run using `mlflow.start_run()` to track experiment metadata, parameters, metrics, and artifacts.\n",
    "\n",
    "---\n",
    "\n",
    "**Log Data Source Parameters**\n",
    "- Logs metadata about the data asset used in the run:\n",
    "  - `name`\n",
    "  - `version`\n",
    "  - `path`\n",
    "- These help in tracing which dataset was used during the experiment.\n",
    "\n",
    "---\n",
    "\n",
    "**Log Data Metrics**\n",
    "- Logs basic data metrics:\n",
    "  - Number of rows (`num_rows_loaded`)\n",
    "  - Number of columns (`num_columns_loaded`)\n",
    "- Useful for quickly assessing the size of the dataset being used.\n",
    "\n",
    "---\n",
    "\n",
    "**Log Data Summary as Artifact**\n",
    "- Captures the output of `df.info()` (data structure and types) and saves it to a `.txt` file.\n",
    "- Logs this file as an artifact in the current MLflow run for review later.\n",
    "\n",
    "---\n",
    "\n",
    "**Log Data Preview**\n",
    "- Saves the first few rows of the dataset as a `.csv` file.\n",
    "- Logs it as an artifact to provide a quick preview of the data used in the run."
   ]
  },
  {
   "cell_type": "code",
   "execution_count": 3,
   "metadata": {
    "gather": {
     "logged": 1744437338469
    }
   },
   "outputs": [
    {
     "name": "stderr",
     "output_type": "stream",
     "text": [
      "/anaconda/envs/azureml_py310_sdkv2/lib/python3.10/site-packages/azureml/mlflow/_protos/aml_service_pb2.py:10: UserWarning: google.protobuf.service module is deprecated. RPC implementations should provide code generator plugins which generate code specific to the RPC implementation. service.py will be removed in Jan 2025\n",
      "  from google.protobuf import service as _service\n"
     ]
    },
    {
     "name": "stdout",
     "output_type": "stream",
     "text": [
      "MLflow Run Started\n",
      "\n",
      "Logged data asset parameters to MLflow\n",
      "\n",
      "Logged data metrics (rows, columns) to MLflow\n",
      "Logged df.info() output as 'data_info.txt' artifact to MLflow\n",
      "Logged data preview as 'data_preview.csv' artifact to MLflow\n"
     ]
    }
   ],
   "source": [
    "import mlflow\n",
    "import mlflow.sklearn\n",
    "import io\n",
    "\n",
    "mlflow.start_run()\n",
    "print(\"MLflow Run Started\")\n",
    "\n",
    "# --- MLflow Integration: Log Data Source Parameters ---\n",
    "# Log details about the data asset being used as parameters for this run\n",
    "mlflow.log_param(\"data_asset_name\", data_asset.name)\n",
    "mlflow.log_param(\"data_asset_version\", data_asset.version)\n",
    "mlflow.log_param(\"data_asset_path\", data_asset.path)\n",
    "print(\"\\nLogged data asset parameters to MLflow\")\n",
    "\n",
    "\n",
    "# --- MLflow Integration: Log Data Metrics & Artifacts ---\n",
    "# Log some basic metrics about the loaded data\n",
    "mlflow.log_metric(\"num_rows_loaded\", df.shape[0])\n",
    "mlflow.log_metric(\"num_columns_loaded\", df.shape[1])\n",
    "print(\"\\nLogged data metrics (rows, columns) to MLflow\")\n",
    "\n",
    "# Log the output of df.info() as an artifact file\n",
    "info_buffer = io.StringIO()\n",
    "df.info(buf=info_buffer)\n",
    "info_str = info_buffer.getvalue()\n",
    "with open(\"data_info.txt\", \"w\") as f:\n",
    "    f.write(info_str)\n",
    "mlflow.log_artifact(\"data_info.txt\")\n",
    "print(\"Logged df.info() output as 'data_info.txt' artifact to MLflow\")\n",
    "\n",
    "# Optionally, log the first few rows (preview) as an artifact\n",
    "preview_filename = \"data_preview.csv\"\n",
    "df.head().to_csv(preview_filename, index=False)\n",
    "mlflow.log_artifact(preview_filename)\n",
    "print(f\"Logged data preview as '{preview_filename}' artifact to MLflow\")"
   ]
  },
  {
   "cell_type": "code",
   "execution_count": 4,
   "metadata": {
    "gather": {
     "logged": 1744434903535
    }
   },
   "outputs": [
    {
     "data": {
      "text/html": [
       "<div>\n",
       "<style scoped>\n",
       "    .dataframe tbody tr th:only-of-type {\n",
       "        vertical-align: middle;\n",
       "    }\n",
       "\n",
       "    .dataframe tbody tr th {\n",
       "        vertical-align: top;\n",
       "    }\n",
       "\n",
       "    .dataframe thead th {\n",
       "        text-align: right;\n",
       "    }\n",
       "</style>\n",
       "<table border=\"1\" class=\"dataframe\">\n",
       "  <thead>\n",
       "    <tr style=\"text-align: right;\">\n",
       "      <th></th>\n",
       "      <th>age</th>\n",
       "      <th>sex</th>\n",
       "      <th>bmi</th>\n",
       "      <th>children</th>\n",
       "      <th>smoker</th>\n",
       "      <th>region</th>\n",
       "      <th>charges</th>\n",
       "    </tr>\n",
       "  </thead>\n",
       "  <tbody>\n",
       "    <tr>\n",
       "      <th>0</th>\n",
       "      <td>19</td>\n",
       "      <td>female</td>\n",
       "      <td>27.900</td>\n",
       "      <td>0</td>\n",
       "      <td>yes</td>\n",
       "      <td>southwest</td>\n",
       "      <td>16884.92400</td>\n",
       "    </tr>\n",
       "    <tr>\n",
       "      <th>1</th>\n",
       "      <td>18</td>\n",
       "      <td>male</td>\n",
       "      <td>33.770</td>\n",
       "      <td>1</td>\n",
       "      <td>no</td>\n",
       "      <td>southeast</td>\n",
       "      <td>1725.55230</td>\n",
       "    </tr>\n",
       "    <tr>\n",
       "      <th>2</th>\n",
       "      <td>28</td>\n",
       "      <td>male</td>\n",
       "      <td>33.000</td>\n",
       "      <td>3</td>\n",
       "      <td>no</td>\n",
       "      <td>southeast</td>\n",
       "      <td>4449.46200</td>\n",
       "    </tr>\n",
       "    <tr>\n",
       "      <th>3</th>\n",
       "      <td>33</td>\n",
       "      <td>male</td>\n",
       "      <td>22.705</td>\n",
       "      <td>0</td>\n",
       "      <td>no</td>\n",
       "      <td>northwest</td>\n",
       "      <td>21984.47061</td>\n",
       "    </tr>\n",
       "    <tr>\n",
       "      <th>4</th>\n",
       "      <td>32</td>\n",
       "      <td>male</td>\n",
       "      <td>28.880</td>\n",
       "      <td>0</td>\n",
       "      <td>no</td>\n",
       "      <td>northwest</td>\n",
       "      <td>3866.85520</td>\n",
       "    </tr>\n",
       "    <tr>\n",
       "      <th>...</th>\n",
       "      <td>...</td>\n",
       "      <td>...</td>\n",
       "      <td>...</td>\n",
       "      <td>...</td>\n",
       "      <td>...</td>\n",
       "      <td>...</td>\n",
       "      <td>...</td>\n",
       "    </tr>\n",
       "    <tr>\n",
       "      <th>1333</th>\n",
       "      <td>50</td>\n",
       "      <td>male</td>\n",
       "      <td>30.970</td>\n",
       "      <td>3</td>\n",
       "      <td>no</td>\n",
       "      <td>northwest</td>\n",
       "      <td>10600.54830</td>\n",
       "    </tr>\n",
       "    <tr>\n",
       "      <th>1334</th>\n",
       "      <td>18</td>\n",
       "      <td>female</td>\n",
       "      <td>31.920</td>\n",
       "      <td>0</td>\n",
       "      <td>no</td>\n",
       "      <td>northeast</td>\n",
       "      <td>2205.98080</td>\n",
       "    </tr>\n",
       "    <tr>\n",
       "      <th>1335</th>\n",
       "      <td>18</td>\n",
       "      <td>female</td>\n",
       "      <td>36.850</td>\n",
       "      <td>0</td>\n",
       "      <td>no</td>\n",
       "      <td>southeast</td>\n",
       "      <td>1629.83350</td>\n",
       "    </tr>\n",
       "    <tr>\n",
       "      <th>1336</th>\n",
       "      <td>21</td>\n",
       "      <td>female</td>\n",
       "      <td>25.800</td>\n",
       "      <td>0</td>\n",
       "      <td>no</td>\n",
       "      <td>southwest</td>\n",
       "      <td>2007.94500</td>\n",
       "    </tr>\n",
       "    <tr>\n",
       "      <th>1337</th>\n",
       "      <td>61</td>\n",
       "      <td>female</td>\n",
       "      <td>29.070</td>\n",
       "      <td>0</td>\n",
       "      <td>yes</td>\n",
       "      <td>northwest</td>\n",
       "      <td>29141.36030</td>\n",
       "    </tr>\n",
       "  </tbody>\n",
       "</table>\n",
       "<p>1338 rows × 7 columns</p>\n",
       "</div>"
      ],
      "text/plain": [
       "      age     sex     bmi  children smoker     region      charges\n",
       "0      19  female  27.900         0    yes  southwest  16884.92400\n",
       "1      18    male  33.770         1     no  southeast   1725.55230\n",
       "2      28    male  33.000         3     no  southeast   4449.46200\n",
       "3      33    male  22.705         0     no  northwest  21984.47061\n",
       "4      32    male  28.880         0     no  northwest   3866.85520\n",
       "...   ...     ...     ...       ...    ...        ...          ...\n",
       "1333   50    male  30.970         3     no  northwest  10600.54830\n",
       "1334   18  female  31.920         0     no  northeast   2205.98080\n",
       "1335   18  female  36.850         0     no  southeast   1629.83350\n",
       "1336   21  female  25.800         0     no  southwest   2007.94500\n",
       "1337   61  female  29.070         0    yes  northwest  29141.36030\n",
       "\n",
       "[1338 rows x 7 columns]"
      ]
     },
     "execution_count": 4,
     "metadata": {},
     "output_type": "execute_result"
    }
   ],
   "source": [
    "df"
   ]
  },
  {
   "cell_type": "markdown",
   "metadata": {
    "nteract": {
     "transient": {
      "deleting": false
     }
    }
   },
   "source": [
    "## 📊 **Exploratory Data Analysis (EDA) with MLflow Logging**\n",
    "\n",
    "---\n",
    "\n",
    "🟢 **MLflow Run Context**\n",
    "- Ensures an MLflow run is active before logging metrics and artifacts.\n",
    "- (Optional) You can check or start a new run if needed.\n",
    "\n",
    "📋 **Logging Summary Statistics, Missing Values & Duplicates**\n",
    "- Calculates and logs:\n",
    "  - `summary_statistics.csv` containing descriptive stats for numeric columns.\n",
    "  - `missing_values.csv` with null counts for each column.\n",
    "  - Duplicate row count as an MLflow metric.\n",
    "\n",
    "🔍 **Column Type Identification**\n",
    "- Detects and logs:\n",
    "  - Count of **numerical** columns (`int64`, `float64`)\n",
    "  - Count of **categorical** columns (`object` types)\n",
    "\n",
    "📉 **Numerical Feature Histograms**\n",
    "- Creates a histogram for each numeric column.\n",
    "- Logs each histogram as a PNG file to MLflow under the `histograms/` directory.\n",
    "- Displays each plot inline and closes the figure to manage memory.\n",
    "\n",
    "📊 **Categorical Feature Bar Charts**\n",
    "- Generates bar charts for each categorical column.\n",
    "- Saves and logs them to MLflow under `bar_charts/`.\n",
    "- Displays charts inline and closes figures after logging.\n",
    "\n",
    "🧮 **Correlation Matrix**\n",
    "- Calculates pairwise correlations for numerical columns.\n",
    "- Saves the correlation matrix as a CSV (`correlation_matrix.csv`).\n",
    "- Visualizes the matrix using a heatmap and logs the plot to MLflow (`correlation_matrix_heatmap.png`).\n",
    "\n",
    "🔗 **Scatter Plots vs. Target Variable (`charges`)**\n",
    "- If the `charges` column exists:\n",
    "  - Plots scatter plots of every other numerical column against `charges`.\n",
    "  - Logs each figure under `scatter_plots/` in MLflow.\n",
    "  - Useful for detecting linear or non-linear relationships with the target variable.\n",
    "\n",
    "📦 **Box Plots for Outlier Detection**\n",
    "- Creates box plots for all numerical features to visualize value distribution and potential outliers.\n",
    "- Logs plots to MLflow under `box_plots/`.\n",
    "- Displays each plot inline and then closes the figure.\n",
    "\n",
    "✅ **Final Output**\n",
    "- All EDA outputs (metrics, statistics, and plots) are logged to MLflow and displayed inline.\n",
    "- The workflow supports both tracking and reproducibility for data exploration steps.\n"
   ]
  },
  {
   "cell_type": "code",
   "execution_count": 5,
   "metadata": {
    "gather": {
     "logged": 1744437369760
    },
    "scrolled": true
   },
   "outputs": [
    {
     "name": "stdout",
     "output_type": "stream",
     "text": [
      "--- Starting EDA ---\n",
      "\n",
      "Calculating and logging summary statistics...\n",
      "Logged summary statistics to MLflow artifact: summary_statistics.csv\n",
      "\n",
      "Summary statistics for numerical columns:\n",
      "               age          bmi     children       charges\n",
      "count  1338.000000  1338.000000  1338.000000   1338.000000\n",
      "mean     39.207025    30.663397     1.094918  13270.422265\n",
      "std      14.049960     6.098187     1.205493  12110.011237\n",
      "min      18.000000    15.960000     0.000000   1121.873900\n",
      "25%      27.000000    26.296250     0.000000   4740.287150\n",
      "50%      39.000000    30.400000     1.000000   9382.033000\n",
      "75%      51.000000    34.693750     2.000000  16639.912515\n",
      "max      64.000000    53.130000     5.000000  63770.428010\n",
      "\n",
      "Calculating and logging missing values...\n",
      "Logged missing values count to MLflow artifact: missing_values.csv\n",
      "\n",
      "Missing values in each column:\n",
      "age         0\n",
      "sex         0\n",
      "bmi         0\n",
      "children    0\n",
      "smoker      0\n",
      "region      0\n",
      "charges     0\n",
      "dtype: int64\n",
      "\n",
      "Calculating and logging duplicate rows...\n",
      "Logged duplicate row count (1) to MLflow metrics\n",
      "Number of duplicate rows: 1\n",
      "\n",
      "Numerical columns: ['age', 'bmi', 'children', 'charges']\n",
      "Categorical columns: ['sex', 'smoker', 'region']\n",
      "\n",
      "Generating, displaying, and logging histograms...\n"
     ]
    },
    {
     "data": {
      "image/png": "[encoded data removed]",
      "text/plain": [
       "<Figure size 640x480 with 1 Axes>"
      ]
     },
     "metadata": {},
     "output_type": "display_data"
    },
    {
     "data": {
      "image/png": "[encoded data removed]",
      "text/plain": [
       "<Figure size 640x480 with 1 Axes>"
      ]
     },
     "metadata": {},
     "output_type": "display_data"
    },
    {
     "data": {
      "image/png": "[encoded data removed]",
      "text/plain": [
       "<Figure size 640x480 with 1 Axes>"
      ]
     },
     "metadata": {},
     "output_type": "display_data"
    },
    {
     "data": {
      "image/png": "[encoded data removed]",
      "text/plain": [
       "<Figure size 640x480 with 1 Axes>"
      ]
     },
     "metadata": {},
     "output_type": "display_data"
    },
    {
     "name": "stdout",
     "output_type": "stream",
     "text": [
      "Displayed histograms inline and logged to MLflow artifacts under 'histograms'\n",
      "\n",
      "Generating, displaying, and logging bar charts...\n"
     ]
    },
    {
     "data": {
      "image/png": "[encoded data removed]",
      "text/plain": [
       "<Figure size 640x480 with 1 Axes>"
      ]
     },
     "metadata": {},
     "output_type": "display_data"
    },
    {
     "data": {
      "image/png": "[encoded data removed]",
      "text/plain": [
       "<Figure size 640x480 with 1 Axes>"
      ]
     },
     "metadata": {},
     "output_type": "display_data"
    },
    {
     "data": {
      "image/png": "[encoded data removed]",
      "text/plain": [
       "<Figure size 640x480 with 1 Axes>"
      ]
     },
     "metadata": {},
     "output_type": "display_data"
    },
    {
     "name": "stdout",
     "output_type": "stream",
     "text": [
      "Displayed bar charts inline and logged to MLflow artifacts under 'bar_charts'\n",
      "\n",
      "Calculating, displaying, and logging correlation matrix...\n",
      "Logged correlation matrix data to MLflow artifact: correlation_matrix.csv\n",
      "\n",
      "Correlation matrix:\n",
      "               age       bmi  children   charges\n",
      "age       1.000000  0.109272  0.042469  0.299008\n",
      "bmi       0.109272  1.000000  0.012759  0.198341\n",
      "children  0.042469  0.012759  1.000000  0.067998\n",
      "charges   0.299008  0.198341  0.067998  1.000000\n"
     ]
    },
    {
     "data": {
      "image/png": "[encoded data removed]",
      "text/plain": [
       "<Figure size 1000x800 with 2 Axes>"
      ]
     },
     "metadata": {},
     "output_type": "display_data"
    },
    {
     "name": "stdout",
     "output_type": "stream",
     "text": [
      "Displayed correlation matrix heatmap inline and logged to MLflow artifacts\n",
      "\n",
      "Generating, displaying, and logging scatter plots vs 'charges'...\n"
     ]
    },
    {
     "data": {
      "image/png": "[encoded data removed]",
      "text/plain": [
       "<Figure size 640x480 with 1 Axes>"
      ]
     },
     "metadata": {},
     "output_type": "display_data"
    },
    {
     "data": {
      "image/png": "[encoded data removed]",
      "text/plain": [
       "<Figure size 640x480 with 1 Axes>"
      ]
     },
     "metadata": {},
     "output_type": "display_data"
    },
    {
     "data": {
      "image/png": "[encoded data removed]",
      "text/plain": [
       "<Figure size 640x480 with 1 Axes>"
      ]
     },
     "metadata": {},
     "output_type": "display_data"
    },
    {
     "name": "stdout",
     "output_type": "stream",
     "text": [
      "Displayed scatter plots inline and logged to MLflow artifacts under 'scatter_plots'\n",
      "\n",
      "Generating, displaying, and logging box plots...\n"
     ]
    },
    {
     "data": {
      "image/png": "[encoded data removed]",
      "text/plain": [
       "<Figure size 640x480 with 1 Axes>"
      ]
     },
     "metadata": {},
     "output_type": "display_data"
    },
    {
     "data": {
      "image/png": "[encoded data removed]",
      "text/plain": [
       "<Figure size 640x480 with 1 Axes>"
      ]
     },
     "metadata": {},
     "output_type": "display_data"
    },
    {
     "data": {
      "image/png": "[encoded data removed]",
      "text/plain": [
       "<Figure size 640x480 with 1 Axes>"
      ]
     },
     "metadata": {},
     "output_type": "display_data"
    },
    {
     "data": {
      "image/png": "[encoded data removed]",
      "text/plain": [
       "<Figure size 640x480 with 1 Axes>"
      ]
     },
     "metadata": {},
     "output_type": "display_data"
    },
    {
     "name": "stdout",
     "output_type": "stream",
     "text": [
      "Displayed box plots inline and logged to MLflow artifacts under 'box_plots'\n",
      "\n",
      "--- Finished EDA: Results visible inline and logged to MLflow ---\n"
     ]
    }
   ],
   "source": [
    "import pandas as pd\n",
    "import matplotlib.pyplot as plt\n",
    "import mlflow # Ensure mlflow is imported\n",
    "import os # To help with creating directories for artifacts if needed\n",
    "import io # For capturing text output\n",
    "\n",
    "# --- IMPORTANT FOR NOTEBOOKS: Ensure inline display is enabled ---\n",
    "%matplotlib inline\n",
    "\n",
    "# --- Ensure MLflow Run is Active ---\n",
    "# (Assuming an MLflow run is already active from previous steps)\n",
    "# You can check with:\n",
    "# if mlflow.active_run() is None:\n",
    "#     mlflow.start_run()\n",
    "# print(f\"Active MLflow Run ID: {mlflow.active_run().info.run_id}\")\n",
    "\n",
    "# Assuming your dataframe 'df' is already loaded\n",
    "\n",
    "print(\"--- Starting EDA ---\")\n",
    "\n",
    "# --- Log Summary Statistics, Missing Values, Duplicate Count ---\n",
    "# (These parts remain the same as the previous example - logging data/metrics)\n",
    "print(\"\\nCalculating and logging summary statistics...\")\n",
    "summary_stats = df.describe()\n",
    "summary_stats_path = \"summary_statistics.csv\"\n",
    "summary_stats.to_csv(summary_stats_path)\n",
    "mlflow.log_artifact(summary_stats_path)\n",
    "print(f\"Logged summary statistics to MLflow artifact: {summary_stats_path}\")\n",
    "# Display in notebook as well\n",
    "print(\"\\nSummary statistics for numerical columns:\")\n",
    "print(summary_stats)\n",
    "\n",
    "print(\"\\nCalculating and logging missing values...\")\n",
    "missing_values = df.isnull().sum()\n",
    "missing_values_path = \"missing_values.csv\"\n",
    "missing_values.to_frame(name='missing_count').to_csv(missing_values_path)\n",
    "mlflow.log_artifact(missing_values_path)\n",
    "print(f\"Logged missing values count to MLflow artifact: {missing_values_path}\")\n",
    "# Display in notebook as well\n",
    "print(\"\\nMissing values in each column:\")\n",
    "print(missing_values)\n",
    "\n",
    "print(\"\\nCalculating and logging duplicate rows...\")\n",
    "duplicate_count = df.duplicated().sum()\n",
    "mlflow.log_metric(\"duplicate_row_count\", duplicate_count)\n",
    "print(f\"Logged duplicate row count ({duplicate_count}) to MLflow metrics\")\n",
    "# Display in notebook as well\n",
    "print(f\"Number of duplicate rows: {duplicate_count}\")\n",
    "\n",
    "\n",
    "# --- Identify Column Types ---\n",
    "num_cols = df.select_dtypes(include=['int64', 'float64']).columns\n",
    "cat_cols = df.select_dtypes(include=['object']).columns\n",
    "print(\"\\nNumerical columns:\", num_cols.tolist())\n",
    "print(\"Categorical columns:\", cat_cols.tolist())\n",
    "mlflow.log_metric(\"numerical_column_count\", len(num_cols))\n",
    "mlflow.log_metric(\"categorical_column_count\", len(cat_cols))\n",
    "\n",
    "\n",
    "# --- Histograms for Numerical Features (Log AND Display) ---\n",
    "print(\"\\nGenerating, displaying, and logging histograms...\")\n",
    "hist_dir = \"histograms\"\n",
    "if not os.path.exists(hist_dir): os.makedirs(hist_dir)\n",
    "\n",
    "for col in num_cols:\n",
    "    fig = plt.figure() # Create a new figure\n",
    "    plt.hist(df[col].dropna(), bins=20, edgecolor='black')\n",
    "    plt.title(f\"Histogram of {col}\")\n",
    "    plt.xlabel(col)\n",
    "    plt.ylabel(\"Frequency\")\n",
    "    plt.tight_layout() # Adjust layout\n",
    "    # Log the figure FIRST\n",
    "    artifact_path = os.path.join(hist_dir, f\"histogram_{col}.png\")\n",
    "    mlflow.log_figure(fig, artifact_file=artifact_path)\n",
    "    # THEN show it inline\n",
    "    plt.show()\n",
    "    # FINALLY close it to free memory (especially important in loops)\n",
    "    plt.close(fig)\n",
    "print(f\"Displayed histograms inline and logged to MLflow artifacts under '{hist_dir}'\")\n",
    "\n",
    "\n",
    "# --- Bar Charts for Categorical Features (Log AND Display) ---\n",
    "print(\"\\nGenerating, displaying, and logging bar charts...\")\n",
    "bar_dir = \"bar_charts\"\n",
    "if not os.path.exists(bar_dir): os.makedirs(bar_dir)\n",
    "\n",
    "for col in cat_cols:\n",
    "    fig = plt.figure() # Create a new figure\n",
    "    df[col].value_counts().plot(kind='bar')\n",
    "    plt.title(f\"Bar Chart of {col}\")\n",
    "    plt.xlabel(col)\n",
    "    plt.ylabel(\"Count\")\n",
    "    plt.tight_layout() # Adjust layout\n",
    "    # Log the figure FIRST\n",
    "    artifact_path = os.path.join(bar_dir, f\"barchart_{col}.png\")\n",
    "    mlflow.log_figure(fig, artifact_file=artifact_path)\n",
    "    # THEN show it inline\n",
    "    plt.show()\n",
    "    # FINALLY close it\n",
    "    plt.close(fig)\n",
    "print(f\"Displayed bar charts inline and logged to MLflow artifacts under '{bar_dir}'\")\n",
    "\n",
    "\n",
    "# --- Correlation Matrix (Log Data, Log AND Display Plot) ---\n",
    "print(\"\\nCalculating, displaying, and logging correlation matrix...\")\n",
    "corr_matrix = df[num_cols].corr()\n",
    "# Log correlation matrix data as a CSV artifact\n",
    "corr_matrix_path = \"correlation_matrix.csv\"\n",
    "corr_matrix.to_csv(corr_matrix_path)\n",
    "mlflow.log_artifact(corr_matrix_path)\n",
    "print(f\"Logged correlation matrix data to MLflow artifact: {corr_matrix_path}\")\n",
    "# Display correlation matrix data in notebook\n",
    "print(\"\\nCorrelation matrix:\")\n",
    "print(corr_matrix)\n",
    "\n",
    "# Visualize and log the correlation matrix heatmap\n",
    "fig_corr = plt.figure(figsize=(10, 8)) # Adjust figure size for better readability\n",
    "plt.imshow(corr_matrix, interpolation='nearest', cmap='viridis')\n",
    "plt.title(\"Correlation Matrix\")\n",
    "plt.colorbar()\n",
    "tick_marks = range(len(num_cols))\n",
    "plt.xticks(tick_marks, num_cols, rotation=45, ha='right')\n",
    "plt.yticks(tick_marks, num_cols)\n",
    "plt.tight_layout() # Adjust layout\n",
    "# Log the heatmap figure FIRST\n",
    "mlflow.log_figure(fig_corr, artifact_file=\"correlation_matrix_heatmap.png\")\n",
    "# THEN show it inline\n",
    "plt.show()\n",
    "# FINALLY close it\n",
    "plt.close(fig_corr)\n",
    "print(\"Displayed correlation matrix heatmap inline and logged to MLflow artifacts\")\n",
    "\n",
    "\n",
    "# --- Scatter Plots (vs. 'charges') (Log AND Display) ---\n",
    "if 'charges' in df.columns:\n",
    "    print(\"\\nGenerating, displaying, and logging scatter plots vs 'charges'...\")\n",
    "    scatter_dir = \"scatter_plots\"\n",
    "    if not os.path.exists(scatter_dir): os.makedirs(scatter_dir)\n",
    "\n",
    "    for col in num_cols:\n",
    "        if col != 'charges':\n",
    "            fig = plt.figure() # Create a new figure\n",
    "            plt.scatter(df[col], df['charges'], alpha=0.5)\n",
    "            plt.title(f\"Scatter plot of {col} vs. charges\")\n",
    "            plt.xlabel(col)\n",
    "            plt.ylabel(\"charges\")\n",
    "            plt.tight_layout()\n",
    "            # Log the figure FIRST\n",
    "            artifact_path = os.path.join(scatter_dir, f\"scatter_{col}_vs_charges.png\")\n",
    "            mlflow.log_figure(fig, artifact_file=artifact_path)\n",
    "            # THEN show it inline\n",
    "            plt.show()\n",
    "            # FINALLY close it\n",
    "            plt.close(fig)\n",
    "    print(f\"Displayed scatter plots inline and logged to MLflow artifacts under '{scatter_dir}'\")\n",
    "else:\n",
    "    print(\"\\n'charges' column not found, skipping scatter plots.\")\n",
    "\n",
    "\n",
    "# --- Box Plots for Numerical Features (Log AND Display) ---\n",
    "print(\"\\nGenerating, displaying, and logging box plots...\")\n",
    "box_dir = \"box_plots\"\n",
    "if not os.path.exists(box_dir): os.makedirs(box_dir)\n",
    "\n",
    "for col in num_cols:\n",
    "    fig = plt.figure() # Create a new figure\n",
    "    plt.boxplot(df[col].dropna(), vert=False)\n",
    "    plt.title(f\"Box plot of {col}\")\n",
    "    plt.xlabel(col)\n",
    "    plt.tight_layout()\n",
    "    # Log the figure FIRST\n",
    "    artifact_path = os.path.join(box_dir, f\"boxplot_{col}.png\")\n",
    "    mlflow.log_figure(fig, artifact_file=artifact_path)\n",
    "    # THEN show it inline\n",
    "    plt.show()\n",
    "    # FINALLY close it\n",
    "    plt.close(fig)\n",
    "print(f\"Displayed box plots inline and logged to MLflow artifacts under '{box_dir}'\")\n",
    "\n",
    "\n",
    "print(\"\\n--- Finished EDA: Results visible inline and logged to MLflow ---\")\n",
    "\n",
    "# Optional: End the run if you started it specifically for this EDA\n",
    "# "
   ]
  },
  {
   "cell_type": "markdown",
   "metadata": {
    "nteract": {
     "transient": {
      "deleting": false
     }
    }
   },
   "source": [
    "### 🧱 Feature Separation for Model Input\n",
    "\n",
    "- **Separates the target variable `charges` from the feature set `X`**\n",
    "- **Identifies categorical features using data types `object` or `category`**\n",
    "- **Identifies numerical features using data types `int64` or `float64`**\n",
    "- **Prints the list of categorical and numerical columns for reference**"
   ]
  },
  {
   "cell_type": "code",
   "execution_count": 6,
   "metadata": {
    "gather": {
     "logged": 1744441800362
    }
   },
   "outputs": [
    {
     "name": "stdout",
     "output_type": "stream",
     "text": [
      "Categorical features: ['sex', 'smoker', 'region']\n",
      "Numerical features: ['age', 'bmi', 'children']\n"
     ]
    }
   ],
   "source": [
    "X = df.drop('charges', axis=1)\n",
    "y = df['charges']\n",
    "\n",
    "categorical_features = X.select_dtypes(include=['object', 'category']).columns\n",
    "numerical_features = X.select_dtypes(include=['int64', 'float64']).columns\n",
    "\n",
    "print(f\"Categorical features: {list(categorical_features)}\")\n",
    "print(f\"Numerical features: {list(numerical_features)}\")"
   ]
  },
  {
   "cell_type": "markdown",
   "metadata": {
    "nteract": {
     "transient": {
      "deleting": false
     }
    }
   },
   "source": [
    "### 📝 MLflow Logging for Feature Metadata\n",
    "\n",
    "- **Logs the target column name as a parameter**\n",
    "- **Logs the total number of input features as a metric**\n",
    "- **Logs counts of numerical and categorical features as separate metrics**\n",
    "- **Saves and logs lists of numerical and categorical features as text artifacts under `feature_info/`**\n",
    "- **Prints confirmation once logging is complete**"
   ]
  },
  {
   "cell_type": "code",
   "execution_count": 7,
   "metadata": {
    "gather": {
     "logged": 1744439842299
    }
   },
   "outputs": [
    {
     "name": "stdout",
     "output_type": "stream",
     "text": [
      "Logged feature/target info and feature lists to MLflow.\n"
     ]
    }
   ],
   "source": [
    "# --- MLflow Logging Cell ---\n",
    "\n",
    "# Log details about the features and target\n",
    "mlflow.log_param(\"target_column\", y.name)\n",
    "mlflow.log_metric(\"input_feature_count\", X.shape[1])\n",
    "mlflow.log_metric(\"input_numerical_feature_count\", len(numerical_features))\n",
    "mlflow.log_metric(\"input_categorical_feature_count\", len(categorical_features))\n",
    "\n",
    "# Log the lists of features as artifacts (optional, can be verbose)\n",
    "with open(\"numerical_features.txt\", \"w\") as f:\n",
    "    f.write(\"\\n\".join(numerical_features))\n",
    "mlflow.log_artifact(\"numerical_features.txt\", artifact_path=\"feature_info\")\n",
    "\n",
    "with open(\"categorical_features.txt\", \"w\") as f:\n",
    "    f.write(\"\\n\".join(categorical_features))\n",
    "mlflow.log_artifact(\"categorical_features.txt\", artifact_path=\"feature_info\")\n",
    "\n",
    "print(\"Logged feature/target info and feature lists to MLflow.\")"
   ]
  },
  {
   "cell_type": "markdown",
   "metadata": {
    "nteract": {
     "transient": {
      "deleting": false
     }
    }
   },
   "source": [
    "### ⚙️ Defining a Column-wise Preprocessing Pipeline\n",
    "\n",
    "- **Uses `StandardScaler`** to normalize numerical features.  \n",
    "- **Applies `OneHotEncoder`** to categorical features with `handle_unknown='ignore'` to avoid errors from unseen categories.  \n",
    "- **Combines both transformations** using `ColumnTransformer` to apply them to the respective columns.  \n",
    "- **Sets `remainder='passthrough'`** to keep any extra columns, although none are expected in this case.  \n",
    "- **Prints confirmation** and displays the preprocessor structure for inspection."
   ]
  },
  {
   "cell_type": "code",
   "execution_count": 8,
   "metadata": {
    "gather": {
     "logged": 1744443774951
    }
   },
   "outputs": [
    {
     "name": "stdout",
     "output_type": "stream",
     "text": [
      "Preprocessor defined.\n"
     ]
    },
    {
     "data": {
      "text/html": [
       "<style>#sk-container-id-1 {\n",
       "  /* Definition of color scheme common for light and dark mode */\n",
       "  --sklearn-color-text: black;\n",
       "  --sklearn-color-line: gray;\n",
       "  /* Definition of color scheme for unfitted estimators */\n",
       "  --sklearn-color-unfitted-level-0: #fff5e6;\n",
       "  --sklearn-color-unfitted-level-1: #f6e4d2;\n",
       "  --sklearn-color-unfitted-level-2: #ffe0b3;\n",
       "  --sklearn-color-unfitted-level-3: chocolate;\n",
       "  /* Definition of color scheme for fitted estimators */\n",
       "  --sklearn-color-fitted-level-0: #f0f8ff;\n",
       "  --sklearn-color-fitted-level-1: #d4ebff;\n",
       "  --sklearn-color-fitted-level-2: #b3dbfd;\n",
       "  --sklearn-color-fitted-level-3: cornflowerblue;\n",
       "\n",
       "  /* Specific color for light theme */\n",
       "  --sklearn-color-text-on-default-background: var(--sg-text-color, var(--theme-code-foreground, var(--jp-content-font-color1, black)));\n",
       "  --sklearn-color-background: var(--sg-background-color, var(--theme-background, var(--jp-layout-color0, white)));\n",
       "  --sklearn-color-border-box: var(--sg-text-color, var(--theme-code-foreground, var(--jp-content-font-color1, black)));\n",
       "  --sklearn-color-icon: #696969;\n",
       "\n",
       "  @media (prefers-color-scheme: dark) {\n",
       "    /* Redefinition of color scheme for dark theme */\n",
       "    --sklearn-color-text-on-default-background: var(--sg-text-color, var(--theme-code-foreground, var(--jp-content-font-color1, white)));\n",
       "    --sklearn-color-background: var(--sg-background-color, var(--theme-background, var(--jp-layout-color0, #111)));\n",
       "    --sklearn-color-border-box: var(--sg-text-color, var(--theme-code-foreground, var(--jp-content-font-color1, white)));\n",
       "    --sklearn-color-icon: #878787;\n",
       "  }\n",
       "}\n",
       "\n",
       "#sk-container-id-1 {\n",
       "  color: var(--sklearn-color-text);\n",
       "}\n",
       "\n",
       "#sk-container-id-1 pre {\n",
       "  padding: 0;\n",
       "}\n",
       "\n",
       "#sk-container-id-1 input.sk-hidden--visually {\n",
       "  border: 0;\n",
       "  clip: rect(1px 1px 1px 1px);\n",
       "  clip: rect(1px, 1px, 1px, 1px);\n",
       "  height: 1px;\n",
       "  margin: -1px;\n",
       "  overflow: hidden;\n",
       "  padding: 0;\n",
       "  position: absolute;\n",
       "  width: 1px;\n",
       "}\n",
       "\n",
       "#sk-container-id-1 div.sk-dashed-wrapped {\n",
       "  border: 1px dashed var(--sklearn-color-line);\n",
       "  margin: 0 0.4em 0.5em 0.4em;\n",
       "  box-sizing: border-box;\n",
       "  padding-bottom: 0.4em;\n",
       "  background-color: var(--sklearn-color-background);\n",
       "}\n",
       "\n",
       "#sk-container-id-1 div.sk-container {\n",
       "  /* jupyter's `normalize.less` sets `[hidden] { display: none; }`\n",
       "     but bootstrap.min.css set `[hidden] { display: none !important; }`\n",
       "     so we also need the `!important` here to be able to override the\n",
       "     default hidden behavior on the sphinx rendered scikit-learn.org.\n",
       "     See: https://github.com/scikit-learn/scikit-learn/issues/21755 */\n",
       "  display: inline-block !important;\n",
       "  position: relative;\n",
       "}\n",
       "\n",
       "#sk-container-id-1 div.sk-text-repr-fallback {\n",
       "  display: none;\n",
       "}\n",
       "\n",
       "div.sk-parallel-item,\n",
       "div.sk-serial,\n",
       "div.sk-item {\n",
       "  /* draw centered vertical line to link estimators */\n",
       "  background-image: linear-gradient(var(--sklearn-color-text-on-default-background), var(--sklearn-color-text-on-default-background));\n",
       "  background-size: 2px 100%;\n",
       "  background-repeat: no-repeat;\n",
       "  background-position: center center;\n",
       "}\n",
       "\n",
       "/* Parallel-specific style estimator block */\n",
       "\n",
       "#sk-container-id-1 div.sk-parallel-item::after {\n",
       "  content: \"\";\n",
       "  width: 100%;\n",
       "  border-bottom: 2px solid var(--sklearn-color-text-on-default-background);\n",
       "  flex-grow: 1;\n",
       "}\n",
       "\n",
       "#sk-container-id-1 div.sk-parallel {\n",
       "  display: flex;\n",
       "  align-items: stretch;\n",
       "  justify-content: center;\n",
       "  background-color: var(--sklearn-color-background);\n",
       "  position: relative;\n",
       "}\n",
       "\n",
       "#sk-container-id-1 div.sk-parallel-item {\n",
       "  display: flex;\n",
       "  flex-direction: column;\n",
       "}\n",
       "\n",
       "#sk-container-id-1 div.sk-parallel-item:first-child::after {\n",
       "  align-self: flex-end;\n",
       "  width: 50%;\n",
       "}\n",
       "\n",
       "#sk-container-id-1 div.sk-parallel-item:last-child::after {\n",
       "  align-self: flex-start;\n",
       "  width: 50%;\n",
       "}\n",
       "\n",
       "#sk-container-id-1 div.sk-parallel-item:only-child::after {\n",
       "  width: 0;\n",
       "}\n",
       "\n",
       "/* Serial-specific style estimator block */\n",
       "\n",
       "#sk-container-id-1 div.sk-serial {\n",
       "  display: flex;\n",
       "  flex-direction: column;\n",
       "  align-items: center;\n",
       "  background-color: var(--sklearn-color-background);\n",
       "  padding-right: 1em;\n",
       "  padding-left: 1em;\n",
       "}\n",
       "\n",
       "\n",
       "/* Toggleable style: style used for estimator/Pipeline/ColumnTransformer box that is\n",
       "clickable and can be expanded/collapsed.\n",
       "- Pipeline and ColumnTransformer use this feature and define the default style\n",
       "- Estimators will overwrite some part of the style using the `sk-estimator` class\n",
       "*/\n",
       "\n",
       "/* Pipeline and ColumnTransformer style (default) */\n",
       "\n",
       "#sk-container-id-1 div.sk-toggleable {\n",
       "  /* Default theme specific background. It is overwritten whether we have a\n",
       "  specific estimator or a Pipeline/ColumnTransformer */\n",
       "  background-color: var(--sklearn-color-background);\n",
       "}\n",
       "\n",
       "/* Toggleable label */\n",
       "#sk-container-id-1 label.sk-toggleable__label {\n",
       "  cursor: pointer;\n",
       "  display: block;\n",
       "  width: 100%;\n",
       "  margin-bottom: 0;\n",
       "  padding: 0.5em;\n",
       "  box-sizing: border-box;\n",
       "  text-align: center;\n",
       "}\n",
       "\n",
       "#sk-container-id-1 label.sk-toggleable__label-arrow:before {\n",
       "  /* Arrow on the left of the label */\n",
       "  content: \"▸\";\n",
       "  float: left;\n",
       "  margin-right: 0.25em;\n",
       "  color: var(--sklearn-color-icon);\n",
       "}\n",
       "\n",
       "#sk-container-id-1 label.sk-toggleable__label-arrow:hover:before {\n",
       "  color: var(--sklearn-color-text);\n",
       "}\n",
       "\n",
       "/* Toggleable content - dropdown */\n",
       "\n",
       "#sk-container-id-1 div.sk-toggleable__content {\n",
       "  max-height: 0;\n",
       "  max-width: 0;\n",
       "  overflow: hidden;\n",
       "  text-align: left;\n",
       "  /* unfitted */\n",
       "  background-color: var(--sklearn-color-unfitted-level-0);\n",
       "}\n",
       "\n",
       "#sk-container-id-1 div.sk-toggleable__content.fitted {\n",
       "  /* fitted */\n",
       "  background-color: var(--sklearn-color-fitted-level-0);\n",
       "}\n",
       "\n",
       "#sk-container-id-1 div.sk-toggleable__content pre {\n",
       "  margin: 0.2em;\n",
       "  border-radius: 0.25em;\n",
       "  color: var(--sklearn-color-text);\n",
       "  /* unfitted */\n",
       "  background-color: var(--sklearn-color-unfitted-level-0);\n",
       "}\n",
       "\n",
       "#sk-container-id-1 div.sk-toggleable__content.fitted pre {\n",
       "  /* unfitted */\n",
       "  background-color: var(--sklearn-color-fitted-level-0);\n",
       "}\n",
       "\n",
       "#sk-container-id-1 input.sk-toggleable__control:checked~div.sk-toggleable__content {\n",
       "  /* Expand drop-down */\n",
       "  max-height: 200px;\n",
       "  max-width: 100%;\n",
       "  overflow: auto;\n",
       "}\n",
       "\n",
       "#sk-container-id-1 input.sk-toggleable__control:checked~label.sk-toggleable__label-arrow:before {\n",
       "  content: \"▾\";\n",
       "}\n",
       "\n",
       "/* Pipeline/ColumnTransformer-specific style */\n",
       "\n",
       "#sk-container-id-1 div.sk-label input.sk-toggleable__control:checked~label.sk-toggleable__label {\n",
       "  color: var(--sklearn-color-text);\n",
       "  background-color: var(--sklearn-color-unfitted-level-2);\n",
       "}\n",
       "\n",
       "#sk-container-id-1 div.sk-label.fitted input.sk-toggleable__control:checked~label.sk-toggleable__label {\n",
       "  background-color: var(--sklearn-color-fitted-level-2);\n",
       "}\n",
       "\n",
       "/* Estimator-specific style */\n",
       "\n",
       "/* Colorize estimator box */\n",
       "#sk-container-id-1 div.sk-estimator input.sk-toggleable__control:checked~label.sk-toggleable__label {\n",
       "  /* unfitted */\n",
       "  background-color: var(--sklearn-color-unfitted-level-2);\n",
       "}\n",
       "\n",
       "#sk-container-id-1 div.sk-estimator.fitted input.sk-toggleable__control:checked~label.sk-toggleable__label {\n",
       "  /* fitted */\n",
       "  background-color: var(--sklearn-color-fitted-level-2);\n",
       "}\n",
       "\n",
       "#sk-container-id-1 div.sk-label label.sk-toggleable__label,\n",
       "#sk-container-id-1 div.sk-label label {\n",
       "  /* The background is the default theme color */\n",
       "  color: var(--sklearn-color-text-on-default-background);\n",
       "}\n",
       "\n",
       "/* On hover, darken the color of the background */\n",
       "#sk-container-id-1 div.sk-label:hover label.sk-toggleable__label {\n",
       "  color: var(--sklearn-color-text);\n",
       "  background-color: var(--sklearn-color-unfitted-level-2);\n",
       "}\n",
       "\n",
       "/* Label box, darken color on hover, fitted */\n",
       "#sk-container-id-1 div.sk-label.fitted:hover label.sk-toggleable__label.fitted {\n",
       "  color: var(--sklearn-color-text);\n",
       "  background-color: var(--sklearn-color-fitted-level-2);\n",
       "}\n",
       "\n",
       "/* Estimator label */\n",
       "\n",
       "#sk-container-id-1 div.sk-label label {\n",
       "  font-family: monospace;\n",
       "  font-weight: bold;\n",
       "  display: inline-block;\n",
       "  line-height: 1.2em;\n",
       "}\n",
       "\n",
       "#sk-container-id-1 div.sk-label-container {\n",
       "  text-align: center;\n",
       "}\n",
       "\n",
       "/* Estimator-specific */\n",
       "#sk-container-id-1 div.sk-estimator {\n",
       "  font-family: monospace;\n",
       "  border: 1px dotted var(--sklearn-color-border-box);\n",
       "  border-radius: 0.25em;\n",
       "  box-sizing: border-box;\n",
       "  margin-bottom: 0.5em;\n",
       "  /* unfitted */\n",
       "  background-color: var(--sklearn-color-unfitted-level-0);\n",
       "}\n",
       "\n",
       "#sk-container-id-1 div.sk-estimator.fitted {\n",
       "  /* fitted */\n",
       "  background-color: var(--sklearn-color-fitted-level-0);\n",
       "}\n",
       "\n",
       "/* on hover */\n",
       "#sk-container-id-1 div.sk-estimator:hover {\n",
       "  /* unfitted */\n",
       "  background-color: var(--sklearn-color-unfitted-level-2);\n",
       "}\n",
       "\n",
       "#sk-container-id-1 div.sk-estimator.fitted:hover {\n",
       "  /* fitted */\n",
       "  background-color: var(--sklearn-color-fitted-level-2);\n",
       "}\n",
       "\n",
       "/* Specification for estimator info (e.g. \"i\" and \"?\") */\n",
       "\n",
       "/* Common style for \"i\" and \"?\" */\n",
       "\n",
       ".sk-estimator-doc-link,\n",
       "a:link.sk-estimator-doc-link,\n",
       "a:visited.sk-estimator-doc-link {\n",
       "  float: right;\n",
       "  font-size: smaller;\n",
       "  line-height: 1em;\n",
       "  font-family: monospace;\n",
       "  background-color: var(--sklearn-color-background);\n",
       "  border-radius: 1em;\n",
       "  height: 1em;\n",
       "  width: 1em;\n",
       "  text-decoration: none !important;\n",
       "  margin-left: 1ex;\n",
       "  /* unfitted */\n",
       "  border: var(--sklearn-color-unfitted-level-1) 1pt solid;\n",
       "  color: var(--sklearn-color-unfitted-level-1);\n",
       "}\n",
       "\n",
       ".sk-estimator-doc-link.fitted,\n",
       "a:link.sk-estimator-doc-link.fitted,\n",
       "a:visited.sk-estimator-doc-link.fitted {\n",
       "  /* fitted */\n",
       "  border: var(--sklearn-color-fitted-level-1) 1pt solid;\n",
       "  color: var(--sklearn-color-fitted-level-1);\n",
       "}\n",
       "\n",
       "/* On hover */\n",
       "div.sk-estimator:hover .sk-estimator-doc-link:hover,\n",
       ".sk-estimator-doc-link:hover,\n",
       "div.sk-label-container:hover .sk-estimator-doc-link:hover,\n",
       ".sk-estimator-doc-link:hover {\n",
       "  /* unfitted */\n",
       "  background-color: var(--sklearn-color-unfitted-level-3);\n",
       "  color: var(--sklearn-color-background);\n",
       "  text-decoration: none;\n",
       "}\n",
       "\n",
       "div.sk-estimator.fitted:hover .sk-estimator-doc-link.fitted:hover,\n",
       ".sk-estimator-doc-link.fitted:hover,\n",
       "div.sk-label-container:hover .sk-estimator-doc-link.fitted:hover,\n",
       ".sk-estimator-doc-link.fitted:hover {\n",
       "  /* fitted */\n",
       "  background-color: var(--sklearn-color-fitted-level-3);\n",
       "  color: var(--sklearn-color-background);\n",
       "  text-decoration: none;\n",
       "}\n",
       "\n",
       "/* Span, style for the box shown on hovering the info icon */\n",
       ".sk-estimator-doc-link span {\n",
       "  display: none;\n",
       "  z-index: 9999;\n",
       "  position: relative;\n",
       "  font-weight: normal;\n",
       "  right: .2ex;\n",
       "  padding: .5ex;\n",
       "  margin: .5ex;\n",
       "  width: min-content;\n",
       "  min-width: 20ex;\n",
       "  max-width: 50ex;\n",
       "  color: var(--sklearn-color-text);\n",
       "  box-shadow: 2pt 2pt 4pt #999;\n",
       "  /* unfitted */\n",
       "  background: var(--sklearn-color-unfitted-level-0);\n",
       "  border: .5pt solid var(--sklearn-color-unfitted-level-3);\n",
       "}\n",
       "\n",
       ".sk-estimator-doc-link.fitted span {\n",
       "  /* fitted */\n",
       "  background: var(--sklearn-color-fitted-level-0);\n",
       "  border: var(--sklearn-color-fitted-level-3);\n",
       "}\n",
       "\n",
       ".sk-estimator-doc-link:hover span {\n",
       "  display: block;\n",
       "}\n",
       "\n",
       "/* \"?\"-specific style due to the `<a>` HTML tag */\n",
       "\n",
       "#sk-container-id-1 a.estimator_doc_link {\n",
       "  float: right;\n",
       "  font-size: 1rem;\n",
       "  line-height: 1em;\n",
       "  font-family: monospace;\n",
       "  background-color: var(--sklearn-color-background);\n",
       "  border-radius: 1rem;\n",
       "  height: 1rem;\n",
       "  width: 1rem;\n",
       "  text-decoration: none;\n",
       "  /* unfitted */\n",
       "  color: var(--sklearn-color-unfitted-level-1);\n",
       "  border: var(--sklearn-color-unfitted-level-1) 1pt solid;\n",
       "}\n",
       "\n",
       "#sk-container-id-1 a.estimator_doc_link.fitted {\n",
       "  /* fitted */\n",
       "  border: var(--sklearn-color-fitted-level-1) 1pt solid;\n",
       "  color: var(--sklearn-color-fitted-level-1);\n",
       "}\n",
       "\n",
       "/* On hover */\n",
       "#sk-container-id-1 a.estimator_doc_link:hover {\n",
       "  /* unfitted */\n",
       "  background-color: var(--sklearn-color-unfitted-level-3);\n",
       "  color: var(--sklearn-color-background);\n",
       "  text-decoration: none;\n",
       "}\n",
       "\n",
       "#sk-container-id-1 a.estimator_doc_link.fitted:hover {\n",
       "  /* fitted */\n",
       "  background-color: var(--sklearn-color-fitted-level-3);\n",
       "}\n",
       "</style><div id=\"sk-container-id-1\" class=\"sk-top-container\"><div class=\"sk-text-repr-fallback\"><pre>ColumnTransformer(remainder=&#x27;passthrough&#x27;,\n",
       "                  transformers=[(&#x27;num&#x27;, StandardScaler(),\n",
       "                                 Index([&#x27;age&#x27;, &#x27;bmi&#x27;, &#x27;children&#x27;], dtype=&#x27;object&#x27;)),\n",
       "                                (&#x27;cat&#x27;,\n",
       "                                 OneHotEncoder(handle_unknown=&#x27;ignore&#x27;,\n",
       "                                               sparse_output=False),\n",
       "                                 Index([&#x27;sex&#x27;, &#x27;smoker&#x27;, &#x27;region&#x27;], dtype=&#x27;object&#x27;))])</pre><b>In a Jupyter environment, please rerun this cell to show the HTML representation or trust the notebook. <br />On GitHub, the HTML representation is unable to render, please try loading this page with nbviewer.org.</b></div><div class=\"sk-container\" hidden><div class=\"sk-item sk-dashed-wrapped\"><div class=\"sk-label-container\"><div class=\"sk-label  sk-toggleable\"><input class=\"sk-toggleable__control sk-hidden--visually\" id=\"sk-estimator-id-1\" type=\"checkbox\" ><label for=\"sk-estimator-id-1\" class=\"sk-toggleable__label  sk-toggleable__label-arrow \">&nbsp;&nbsp;ColumnTransformer<a class=\"sk-estimator-doc-link \" rel=\"noreferrer\" target=\"_blank\" href=\"https://scikit-learn.org/1.5/modules/generated/sklearn.compose.ColumnTransformer.html\">?<span>Documentation for ColumnTransformer</span></a><span class=\"sk-estimator-doc-link \">i<span>Not fitted</span></span></label><div class=\"sk-toggleable__content \"><pre>ColumnTransformer(remainder=&#x27;passthrough&#x27;,\n",
       "                  transformers=[(&#x27;num&#x27;, StandardScaler(),\n",
       "                                 Index([&#x27;age&#x27;, &#x27;bmi&#x27;, &#x27;children&#x27;], dtype=&#x27;object&#x27;)),\n",
       "                                (&#x27;cat&#x27;,\n",
       "                                 OneHotEncoder(handle_unknown=&#x27;ignore&#x27;,\n",
       "                                               sparse_output=False),\n",
       "                                 Index([&#x27;sex&#x27;, &#x27;smoker&#x27;, &#x27;region&#x27;], dtype=&#x27;object&#x27;))])</pre></div> </div></div><div class=\"sk-parallel\"><div class=\"sk-parallel-item\"><div class=\"sk-item\"><div class=\"sk-label-container\"><div class=\"sk-label  sk-toggleable\"><input class=\"sk-toggleable__control sk-hidden--visually\" id=\"sk-estimator-id-2\" type=\"checkbox\" ><label for=\"sk-estimator-id-2\" class=\"sk-toggleable__label  sk-toggleable__label-arrow \">num</label><div class=\"sk-toggleable__content \"><pre>Index([&#x27;age&#x27;, &#x27;bmi&#x27;, &#x27;children&#x27;], dtype=&#x27;object&#x27;)</pre></div> </div></div><div class=\"sk-serial\"><div class=\"sk-item\"><div class=\"sk-estimator  sk-toggleable\"><input class=\"sk-toggleable__control sk-hidden--visually\" id=\"sk-estimator-id-3\" type=\"checkbox\" ><label for=\"sk-estimator-id-3\" class=\"sk-toggleable__label  sk-toggleable__label-arrow \">&nbsp;StandardScaler<a class=\"sk-estimator-doc-link \" rel=\"noreferrer\" target=\"_blank\" href=\"https://scikit-learn.org/1.5/modules/generated/sklearn.preprocessing.StandardScaler.html\">?<span>Documentation for StandardScaler</span></a></label><div class=\"sk-toggleable__content \"><pre>StandardScaler()</pre></div> </div></div></div></div></div><div class=\"sk-parallel-item\"><div class=\"sk-item\"><div class=\"sk-label-container\"><div class=\"sk-label  sk-toggleable\"><input class=\"sk-toggleable__control sk-hidden--visually\" id=\"sk-estimator-id-4\" type=\"checkbox\" ><label for=\"sk-estimator-id-4\" class=\"sk-toggleable__label  sk-toggleable__label-arrow \">cat</label><div class=\"sk-toggleable__content \"><pre>Index([&#x27;sex&#x27;, &#x27;smoker&#x27;, &#x27;region&#x27;], dtype=&#x27;object&#x27;)</pre></div> </div></div><div class=\"sk-serial\"><div class=\"sk-item\"><div class=\"sk-estimator  sk-toggleable\"><input class=\"sk-toggleable__control sk-hidden--visually\" id=\"sk-estimator-id-5\" type=\"checkbox\" ><label for=\"sk-estimator-id-5\" class=\"sk-toggleable__label  sk-toggleable__label-arrow \">&nbsp;OneHotEncoder<a class=\"sk-estimator-doc-link \" rel=\"noreferrer\" target=\"_blank\" href=\"https://scikit-learn.org/1.5/modules/generated/sklearn.preprocessing.OneHotEncoder.html\">?<span>Documentation for OneHotEncoder</span></a></label><div class=\"sk-toggleable__content \"><pre>OneHotEncoder(handle_unknown=&#x27;ignore&#x27;, sparse_output=False)</pre></div> </div></div></div></div></div><div class=\"sk-parallel-item\"><div class=\"sk-item\"><div class=\"sk-label-container\"><div class=\"sk-label  sk-toggleable\"><input class=\"sk-toggleable__control sk-hidden--visually\" id=\"sk-estimator-id-6\" type=\"checkbox\" ><label for=\"sk-estimator-id-6\" class=\"sk-toggleable__label  sk-toggleable__label-arrow \">remainder</label><div class=\"sk-toggleable__content \"><pre></pre></div> </div></div><div class=\"sk-serial\"><div class=\"sk-item\"><div class=\"sk-estimator  sk-toggleable\"><input class=\"sk-toggleable__control sk-hidden--visually\" id=\"sk-estimator-id-7\" type=\"checkbox\" ><label for=\"sk-estimator-id-7\" class=\"sk-toggleable__label  sk-toggleable__label-arrow \">passthrough</label><div class=\"sk-toggleable__content \"><pre>passthrough</pre></div> </div></div></div></div></div></div></div></div></div>"
      ],
      "text/plain": [
       "ColumnTransformer(remainder='passthrough',\n",
       "                  transformers=[('num', StandardScaler(),\n",
       "                                 Index(['age', 'bmi', 'children'], dtype='object')),\n",
       "                                ('cat',\n",
       "                                 OneHotEncoder(handle_unknown='ignore',\n",
       "                                               sparse_output=False),\n",
       "                                 Index(['sex', 'smoker', 'region'], dtype='object'))])"
      ]
     },
     "execution_count": 8,
     "metadata": {},
     "output_type": "execute_result"
    }
   ],
   "source": [
    "# --- User Code Cell ---\n",
    "from sklearn.preprocessing import OneHotEncoder, StandardScaler\n",
    "from sklearn.compose import ColumnTransformer\n",
    "\n",
    "numerical_transformer = StandardScaler()\n",
    "categorical_transformer = OneHotEncoder(handle_unknown='ignore', sparse_output=False) # Set sparse_output=False for easier inspection later if needed\n",
    "\n",
    "preprocessor = ColumnTransformer(\n",
    "        transformers=[\n",
    "            ('num', numerical_transformer, numerical_features),\n",
    "            ('cat', categorical_transformer, categorical_features)\n",
    "        ],\n",
    "        remainder='passthrough' # Keep other columns (if any) - should be none here\n",
    "    )\n",
    "\n",
    "print(\"Preprocessor defined.\")\n",
    "# Display the preprocessor structure\n",
    "preprocessor"
   ]
  },
  {
   "cell_type": "markdown",
   "metadata": {
    "nteract": {
     "transient": {
      "deleting": false
     }
    }
   },
   "source": [
    "### 📝 Logging Preprocessing Configuration to MLflow\n",
    "\n",
    "- **Logs the type of numerical transformer** (e.g., `StandardScaler`).  \n",
    "- **Logs the type of categorical transformer** (e.g., `OneHotEncoder`).  \n",
    "- **Logs all parameters of the categorical transformer**, such as `handle_unknown`.  \n",
    "- **Logs the `remainder` setting** of the `ColumnTransformer` (e.g., `'passthrough'`).  \n",
    "- **Prints confirmation** once all preprocessing parameters are logged to MLflow."
   ]
  },
  {
   "cell_type": "code",
   "execution_count": 9,
   "metadata": {
    "gather": {
     "logged": 1744444017732
    }
   },
   "outputs": [
    {
     "name": "stdout",
     "output_type": "stream",
     "text": [
      "Logged preprocessor definition parameters to MLflow.\n"
     ]
    }
   ],
   "source": [
    "# --- MLflow Logging Cell ---\n",
    "\n",
    "# Log parameters related to the preprocessing steps\n",
    "mlflow.log_param(\"numerical_transformer\", numerical_transformer.__class__.__name__)\n",
    "mlflow.log_param(\"categorical_transformer\", categorical_transformer.__class__.__name__)\n",
    "mlflow.log_params(categorical_transformer.get_params()) # Logs params like handle_unknown\n",
    "mlflow.log_param(\"coltransformer_remainder\", preprocessor.remainder)\n",
    "\n",
    "print(\"Logged preprocessor definition parameters to MLflow.\")"
   ]
  },
  {
   "cell_type": "markdown",
   "metadata": {
    "nteract": {
     "transient": {
      "deleting": false
     }
    }
   },
   "source": [
    "### ✂️ Splitting the Dataset into Training and Test Sets\n",
    "\n",
    "- **Uses `train_test_split`** to split the features (`X`) and target (`y`) into training and testing sets.  \n",
    "- **Allocates 20% of the data to the test set** (`test_size=0.2`) for evaluation.  \n",
    "- **Sets `random_state=42`** to ensure reproducibility of the split.  \n",
    "- **Prints the number of samples** in both the training and test sets."
   ]
  },
  {
   "cell_type": "code",
   "execution_count": 10,
   "metadata": {
    "gather": {
     "logged": 1744444083979
    }
   },
   "outputs": [
    {
     "name": "stdout",
     "output_type": "stream",
     "text": [
      "Training set size: 1070\n",
      "Test set size: 268\n"
     ]
    }
   ],
   "source": [
    "from sklearn.model_selection import train_test_split\n",
    "\n",
    "X_train, X_test, y_train, y_test = train_test_split(X, y, test_size=0.2, random_state=42)\n",
    "print(f\"Training set size: {X_train.shape[0]}\")\n",
    "print(f\"Test set size: {X_test.shape[0]}\")"
   ]
  },
  {
   "cell_type": "markdown",
   "metadata": {
    "nteract": {
     "transient": {
      "deleting": false
     }
    }
   },
   "source": [
    "### 📝 Logging Train/Test Split Details to MLflow\n",
    "\n",
    "- **Logs the test split ratio** used during data splitting (`0.2`).  \n",
    "- **Logs the `random_state`** to ensure reproducibility (`42`).  \n",
    "- **Logs the number of samples in the training set** as a metric.  \n",
    "- **Logs the number of samples in the test set** as a metric.  \n",
    "- **Prints confirmation** after successful logging to MLflow."
   ]
  },
  {
   "cell_type": "code",
   "execution_count": 11,
   "metadata": {
    "gather": {
     "logged": 1744444020105
    }
   },
   "outputs": [
    {
     "name": "stdout",
     "output_type": "stream",
     "text": [
      "Logged train/test split info to MLflow.\n"
     ]
    }
   ],
   "source": [
    "# --- MLflow Logging Cell ---\n",
    "\n",
    "# Log train/test split parameters and resulting sizes\n",
    "mlflow.log_param(\"test_split_ratio\", 0.2)\n",
    "mlflow.log_param(\"split_random_state\", 42)\n",
    "mlflow.log_metric(\"training_set_size\", X_train.shape[0])\n",
    "mlflow.log_metric(\"test_set_size\", X_test.shape[0])\n",
    "\n",
    "print(\"Logged train/test split info to MLflow.\")"
   ]
  },
  {
   "cell_type": "markdown",
   "metadata": {},
   "source": [
    "### ⚙️ Fitting the Preprocessor on Training Data\n",
    "\n",
    "- **Fits the preprocessing pipeline only on `X_train`** to prevent data leakage.  \n",
    "- Ensures that **scaling and encoding** are learned from training data alone.  \n",
    "- **Prints confirmation** before and after fitting to track progress."
   ]
  },
  {
   "cell_type": "code",
   "execution_count": 13,
   "metadata": {
    "gather": {
     "logged": 1744454097431
    }
   },
   "outputs": [
    {
     "name": "stdout",
     "output_type": "stream",
     "text": [
      "Fitting preprocessor on training data...\n",
      "Preprocessor fitted.\n"
     ]
    }
   ],
   "source": [
    "# IMPORTANT: Fit the preprocessor on the training data ONLY\n",
    "print(\"Fitting preprocessor on training data...\")\n",
    "preprocessor.fit(X_train)\n",
    "print(\"Preprocessor fitted.\")"
   ]
  },
  {
   "cell_type": "markdown",
   "metadata": {},
   "source": [
    "### 🧠 Logging the Fitted Preprocessor to MLflow\n",
    "\n",
    "- **Uses `mlflow.sklearn.log_model()`** to log the fitted `ColumnTransformer` as a reusable MLflow model artifact.  \n",
    "- Stores the preprocessor under the specified artifact path: `\"preprocessor\"`.  \n",
    "- Optionally, provides a **joblib-based alternative** for logging (less metadata, more manual).  \n",
    "- **Prints confirmation** after the fitted preprocessor is successfully logged."
   ]
  },
  {
   "cell_type": "markdown",
   "metadata": {},
   "source": [
    "When we use `mlflow.sklearn.log_model` (or logging functions for other frameworks), MLflow doesn't just save the raw model file (like a `.pkl`). It saves a **directory** containing the model along with crucial **metadata** that makes the model understandable, reproducible, and deployable. This standardized directory format is called an \"MLflow Model\".\n",
    "\n",
    "\n",
    "```bash\n",
    "thsklk@thsklk0 MINGW64 ~/Downloads/Job_plucky_ship_5j3s7rh9_OutputsAndLogs\n",
    "$ ls -lhtr\n",
    "total 74K\n",
    "drwxr-xr-x 1 thsklk 1049089   0 Apr 12 18:59 bar_charts/\n",
    "drwxr-xr-x 1 thsklk 1049089   0 Apr 12 18:59 box_plots/\n",
    "-rw-r--r-- 1 thsklk 1049089 303 Apr 12 18:59 correlation_matrix.csv\n",
    "-rw-r--r-- 1 thsklk 1049089 24K Apr 12 18:59 correlation_matrix_heatmap.png\n",
    "-rw-r--r-- 1 thsklk 1049089 520 Apr 12 18:59 data_info.txt\n",
    "-rw-r--r-- 1 thsklk 1049089 241 Apr 12 18:59 data_preview.csv\n",
    "drwxr-xr-x 1 thsklk 1049089   0 Apr 12 18:59 feature_info/\n",
    "drwxr-xr-x 1 thsklk 1049089   0 Apr 12 18:59 histograms/\n",
    "drwxr-xr-x 1 thsklk 1049089   0 Apr 12 18:59 linear-regression-model-v2/\n",
    "drwxr-xr-x 1 thsklk 1049089   0 Apr 12 18:59 linear-regression-model-v3/\n",
    "drwxr-xr-x 1 thsklk 1049089   0 Apr 12 18:59 linear-regression-model/\n",
    "-rw-r--r-- 1 thsklk 1049089  72 Apr 12 18:59 missing_values.csv\n",
    "drwxr-xr-x 1 thsklk 1049089   0 Apr 12 18:59 preprocessor/\n",
    "drwxr-xr-x 1 thsklk 1049089   0 Apr 12 18:59 scatter_plots/\n",
    "-rw-r--r-- 1 thsklk 1049089 369 Apr 12 18:59 summary_statistics.csv\n",
    "\n",
    "thsklk@thsklk0 MINGW64 ~/Downloads/Job_plucky_ship_5j3s7rh9_OutputsAndLogs\n",
    "$ ls -lhtr ./linear-regression-model-v3\n",
    "total 19K\n",
    "-rw-r--r-- 1 thsklk 1049089 880 Apr 12 18:59 MLmodel\n",
    "-rw-r--r-- 1 thsklk 1049089 229 Apr 12 18:59 conda.yaml\n",
    "-rw-r--r-- 1 thsklk 1049089 514 Apr 12 18:59 input_example.json\n",
    "-rw-r--r-- 1 thsklk 1049089 579 Apr 12 18:59 model.pkl\n",
    "-rw-r--r-- 1 thsklk 1049089 121 Apr 12 18:59 python_env.yaml\n",
    "-rw-r--r-- 1 thsklk 1049089 109 Apr 12 18:59 requirements.txt\n",
    "-rw-r--r-- 1 thsklk 1049089 914 Apr 12 18:59 serving_input_example.json\n",
    "\n",
    "thsklk@thsklk0 MINGW64 ~/Downloads/Job_plucky_ship_5j3s7rh9_OutputsAndLogs\n",
    "$ ls -lhtr ./preprocessor/\n",
    "total 11K\n",
    "-rw-r--r-- 1 thsklk 1049089  340 Apr 12 18:59 MLmodel\n",
    "-rw-r--r-- 1 thsklk 1049089  229 Apr 12 18:59 conda.yaml\n",
    "-rw-r--r-- 1 thsklk 1049089 2.0K Apr 12 18:59 model.pkl\n",
    "-rw-r--r-- 1 thsklk 1049089  121 Apr 12 18:59 python_env.yaml\n",
    "-rw-r--r-- 1 thsklk 1049089  109 Apr 12 18:59 requirements.txt\n",
    "```\n",
    "\n",
    "\n",
    "Here's what each file typically does:\n",
    "\n",
    "1.  **`model.pkl`**\n",
    "    * **Purpose:** This is the core serialized model object itself. Since we used `mlflow.sklearn.log_model`, this file contains the actual trained Scikit-learn object (our `LinearRegression` instance or `ColumnTransformer` preprocessor) saved using Python's `pickle` serialization (or sometimes `joblib`). It holds the learned parameters, transformations, etc.\n",
    "\n",
    "2.  **`MLmodel` (YAML file)**\n",
    "    * **Purpose:** This is the **most important metadata file**. It acts as the descriptor for the saved MLflow Model. MLflow tools read this file first to understand everything else.\n",
    "    * **Contents:**\n",
    "        * **Flavors:** Defines how the model can be loaded and used. We'll typically see at least two flavors here:\n",
    "            * `sklearn`: Specific information for loading as a Scikit-learn object (e.g., `sklearn_version`, path to `model.pkl`, serialization format).\n",
    "            * `python_function` (or `pyfunc`): A generic Python wrapper. This allows loading the model with a consistent `.predict()` interface regardless of the original framework, making it great for deployment. It specifies the loader module and environment details.\n",
    "        * **Environment:** References the environment definition files (`conda.yaml`, `python_env.yaml`).\n",
    "        * **Signature:** (Optional but recommended) If you logged the model with a signature, it's defined here, detailing the expected input and output schemas.\n",
    "        * **Input Example:** (Optional) References the `input_example.json` file if provided.\n",
    "        * **Timestamp, Run ID, etc.:** Other metadata about when and where the model was logged.\n",
    "\n",
    "```ymal\n",
    "artifact_path: linear-regression-model-v3\n",
    "flavors:\n",
    "  python_function:\n",
    "    env:\n",
    "      conda: conda.yaml\n",
    "      virtualenv: python_env.yaml\n",
    "    loader_module: mlflow.sklearn\n",
    "    model_path: model.pkl\n",
    "    predict_fn: predict\n",
    "    python_version: 3.10.14\n",
    "  sklearn:\n",
    "    code: null\n",
    "    pickled_model: model.pkl\n",
    "    serialization_format: cloudpickle\n",
    "    sklearn_version: 1.5.2\n",
    "mlflow_version: 2.16.2\n",
    "model_size_bytes: 2007\n",
    "model_uuid: 5d14542141604f1d8f2681a1f14ef3a4\n",
    "run_id: 53f6bb6b-eabc-4faa-ae8c-cc1e784b989d\n",
    "saved_input_example_info:\n",
    "  artifact_path: input_example.json\n",
    "  serving_input_path: serving_input_example.json\n",
    "  type: ndarray\n",
    "signature:\n",
    "  inputs: '[{\"type\": \"tensor\", \"tensor-spec\": {\"dtype\": \"float64\", \"shape\": [-1, 11]}}]'\n",
    "  outputs: '[{\"type\": \"tensor\", \"tensor-spec\": {\"dtype\": \"float64\", \"shape\": [-1]}}]'\n",
    "  params: null\n",
    "utc_time_created: '2025-04-12 12:47:23.295875'\n",
    "```\n",
    "\n",
    "\n",
    "3.  **`conda.yaml`**\n",
    "    * **Purpose:** Defines a Conda environment needed to run the model.\n",
    "    * **Contents:** Lists all necessary Python libraries (like `scikit-learn`, `pandas`, `mlflow` itself) with their specific versions, plus the Python version. This ensures that the model can be loaded and run in an environment identical to the one it was trained in, preventing dependency issues.\n",
    "\n",
    "4.  **`python_env.yaml`**\n",
    "    * **Purpose:** Similar to `conda.yaml`, this file also defines the required Python environment, often focusing on a format compatible with `pip` and virtual environments used by the `pyfunc` flavor internally. In recent MLflow versions, its content might overlap significantly or be identical to `conda.yaml`.\n",
    "\n",
    "5.  **`requirements.txt`**\n",
    "    * **Purpose:** Provides the same dependency information as `conda.yaml` but in the standard `pip` requirements file format.\n",
    "    * **Benefit:** Gives you flexibility to recreate the environment using `pip install -r requirements.txt` if you prefer that over Conda.\n",
    "\n",
    "6.  **`input_example.json`** (Appears in `linear-regression-model-v3`)\n",
    "    * **Purpose:** Stores the sample input data you provided via the `input_example` argument when logging the model.\n",
    "    * **Format:** Usually JSON, often in pandas \"split\" orientation (`{\"columns\": [...], \"data\": [[...], ...]}\"`).\n",
    "    * **Use:** Helps users understand the expected input data structure and provides a handy example for testing the loaded model.\n",
    "\n",
    "7.  **`serving_input_example.json`** (Appears in `linear-regression-model-v3`)\n",
    "    * **Purpose:** Often similar or identical to `input_example.json`. Sometimes it might be formatted specifically for certain model serving platforms (like Azure ML endpoints) that expect a particular input JSON structure."
   ]
  },
  {
   "cell_type": "code",
   "execution_count": 14,
   "metadata": {},
   "outputs": [
    {
     "name": "stderr",
     "output_type": "stream",
     "text": [
      "2025/04/12 11:56:19 WARNING mlflow.sklearn: Model was missing function: predict. Not logging python_function flavor!\n",
      "2025/04/12 11:56:24 WARNING mlflow.models.model: Model logged without a signature and input example. Please set `input_example` parameter when logging the model to auto infer the model signature.\n"
     ]
    },
    {
     "name": "stdout",
     "output_type": "stream",
     "text": [
      "Logged fitted preprocessor using mlflow.sklearn to path: preprocessor\n"
     ]
    }
   ],
   "source": [
    "# --- MLflow Logging Cell ---\n",
    "import mlflow.sklearn # Ensure sklearn flavor is imported\n",
    "import joblib # Alternative for generic artifact logging\n",
    "\n",
    "# Log the FITTED preprocessor object as an artifact\n",
    "# Option 1: Using MLflow's scikit-learn flavor (RECOMMENDED)\n",
    "preprocessor_artifact_path = \"preprocessor\"\n",
    "mlflow.sklearn.log_model(preprocessor, artifact_path=preprocessor_artifact_path)\n",
    "print(f\"Logged fitted preprocessor using mlflow.sklearn to path: {preprocessor_artifact_path}\")\n",
    "\n",
    "# Option 2: Using joblib directly (Less metadata than option 1)\n",
    "# preprocessor_file = \"preprocessor.joblib\"\n",
    "# joblib.dump(preprocessor, preprocessor_file)\n",
    "# mlflow.log_artifact(preprocessor_file)\n",
    "# print(f\"Logged fitted preprocessor using joblib artifact: {preprocessor_file}\")"
   ]
  },
  {
   "cell_type": "markdown",
   "metadata": {},
   "source": [
    "### 🔄 Transforming Data with the Fitted Preprocessor\n",
    "\n",
    "- **Applies the fitted `preprocessor`** to both the training and test sets.  \n",
    "- **Prints the shape** of the transformed datasets to confirm feature expansion (especially after one-hot encoding).  \n",
    "- Attempts to **extract feature names** after transformation using `get_feature_names_out()` from the OneHotEncoder.  \n",
    "- Combines the original numerical feature names with the one-hot encoded feature names.  \n",
    "- **Handles errors gracefully** if feature names can't be extracted."
   ]
  },
  {
   "cell_type": "code",
   "execution_count": 15,
   "metadata": {
    "gather": {
     "logged": 1744434924833
    }
   },
   "outputs": [
    {
     "name": "stdout",
     "output_type": "stream",
     "text": [
      "Shape of processed training data: (1070, 11)\n",
      "Shape of processed test data: (268, 11)\n",
      "Number of features after processing: 11\n"
     ]
    }
   ],
   "source": [
    "# Now transform both train and test sets\n",
    "X_train_processed = preprocessor.transform(X_train)\n",
    "X_test_processed = preprocessor.transform(X_test)\n",
    "print(f\"Shape of processed training data: {X_train_processed.shape}\")\n",
    "print(f\"Shape of processed test data: {X_test_processed.shape}\")\n",
    "\n",
    "# Get feature names after one-hot encoding\n",
    "try:\n",
    "    # For ColumnTransformer with named transformers\n",
    "    ohe_feature_names = preprocessor.named_transformers_['cat'].get_feature_names_out(categorical_features)\n",
    "    processed_feature_names = list(numerical_features) + list(ohe_feature_names)\n",
    "    print(f\"Number of features after processing: {len(processed_feature_names)}\")\n",
    "    # print(\"Processed feature names:\", processed_feature_names) # Can be very long\n",
    "except AttributeError:\n",
    "    processed_feature_names = None\n",
    "    print(\"Could not automatically extract feature names after processing.\")"
   ]
  },
  {
   "cell_type": "markdown",
   "metadata": {},
   "source": [
    "### 📊 Logging Processed Feature Info to MLflow\n",
    "\n",
    "- **Logs the total number of features** after preprocessing as a metric.  \n",
    "- **If available**, saves the list of processed feature names to a text file and logs it as an artifact under `feature_info/`.  \n",
    "- **Prints confirmation** indicating whether both the count and feature names were logged, or just the count."
   ]
  },
  {
   "cell_type": "code",
   "execution_count": 16,
   "metadata": {},
   "outputs": [
    {
     "name": "stdout",
     "output_type": "stream",
     "text": [
      "Logged processed feature count and feature names list to MLflow.\n"
     ]
    }
   ],
   "source": [
    "# --- MLflow Logging Cell ---\n",
    "\n",
    "# Log the number of features after processing\n",
    "mlflow.log_metric(\"processed_feature_count\", X_train_processed.shape[1])\n",
    "\n",
    "# Log the processed feature names list (if available) as an artifact\n",
    "if processed_feature_names:\n",
    "    with open(\"processed_feature_names.txt\", \"w\") as f:\n",
    "        f.write(\"\\n\".join(processed_feature_names))\n",
    "    mlflow.log_artifact(\"processed_feature_names.txt\", artifact_path=\"feature_info\")\n",
    "    print(\"Logged processed feature count and feature names list to MLflow.\")\n",
    "else:\n",
    "     print(\"Logged processed feature count to MLflow. Feature names not logged.\")"
   ]
  },
  {
   "cell_type": "markdown",
   "metadata": {},
   "source": [
    "### 🤖 Training a Linear Regression Model\n",
    "\n",
    "- **Initializes a `LinearRegression` model** from scikit-learn.  \n",
    "- **Fits the model using the preprocessed training data** (`X_train_processed`, `y_train`).  \n",
    "- **Prints progress messages** before and after training to indicate completion."
   ]
  },
  {
   "cell_type": "code",
   "execution_count": 17,
   "metadata": {
    "gather": {
     "logged": 1744434925864
    }
   },
   "outputs": [
    {
     "name": "stdout",
     "output_type": "stream",
     "text": [
      "Training Linear Regression model...\n",
      "Model training complete.\n"
     ]
    }
   ],
   "source": [
    "# --- User Code Cell ---\n",
    "from sklearn.linear_model import LinearRegression\n",
    "\n",
    "print(\"Training Linear Regression model...\")\n",
    "model = LinearRegression()\n",
    "model.fit(X_train_processed, y_train)\n",
    "print(\"Model training complete.\")"
   ]
  },
  {
   "cell_type": "markdown",
   "metadata": {},
   "source": [
    "### 📝 Logging a Trained Model with Signature and Example to MLflow\n",
    "\n",
    "- **Sets a tag** for the model type (`LinearRegression`) to categorize the run.  \n",
    "- **Logs model parameters** (e.g., `fit_intercept`) to keep track of its configuration.  \n",
    "- **Infers the model signature** using `infer_signature()` to capture input/output schema for deployment.  \n",
    "- **Logs the model artifact** using `mlflow.sklearn.log_model()` with:\n",
    "  - The trained model\n",
    "  - An example input (`X_train_processed[:5]`)\n",
    "  - The inferred signature\n",
    "- **Prints progress updates** for signature inference and model logging.  \n",
    "- Confirms that logging is complete with a final print statement.\n",
    "\n",
    "### 🤖 Why MLflow Model Signature Is Important During Inference Serving\n",
    "\n",
    "The **MLflow model signature** defines the **input and output schema** (shape, type, structure) of your model. It's critical during **inference serving** for several reasons:\n",
    "\n",
    "🔐 **Validation of Input Data**\n",
    "- Ensures that **incoming requests match the expected format** (e.g., column names, data types).\n",
    "- Prevents serving errors due to **missing or misnamed columns** or incorrect data types.\n",
    "\n",
    "\n",
    "🧪 **Improved Testing & Reproducibility**\n",
    "- Makes it easy to **test the model locally or in CI/CD pipelines**, because the exact input and output structure is known.\n",
    "- Enables tools to **simulate or validate requests** without guessing the schema.\n",
    "\n",
    "⚙️ **Simplifies Deployment**\n",
    "- Automatically used by MLflow when deploying via **MLflow REST API**, **Azure ML**, or **other serving platforms**.\n",
    "- Eliminates manual schema documentation or hardcoding input parsing logic in deployment code.\n",
    "\n",
    " 📦 **Better Model Documentation**\n",
    "- Signature acts as **metadata** that describes the model contract for developers, ops teams, and consumers.\n",
    "- Helpful when models are stored and shared in a **model registry**, allowing others to understand how to use them correctly.\n",
    "\n",
    " 🚫 Avoids Runtime Failures\n",
    "- Without a signature, if the input format during inference doesn't match what the model expects, it can cause:\n",
    "  - Model crash\n",
    "  - Wrong predictions\n",
    "  - Silent errors (e.g., column order mismatch)\n",
    "\n",
    "✅ Summary:\n",
    "**Model signatures act as an automated contract** between your model and the inference system—ensuring consistency, safety, and clarity from training to production."
   ]
  },
  {
   "cell_type": "code",
   "execution_count": 21,
   "metadata": {
    "scrolled": true
   },
   "outputs": [
    {
     "name": "stdout",
     "output_type": "stream",
     "text": [
      "Requirement already satisfied: ipywidgets in /anaconda/envs/azureml_py38/lib/python3.10/site-packages (7.7.1)\n",
      "Collecting ipywidgets\n",
      "  Downloading ipywidgets-8.1.6-py3-none-any.whl (139 kB)\n",
      "\u001b[2K     \u001b[90m━━━━━━━━━━━━━━━━━━━━━━━━━━━━━━━━━━━━━━━\u001b[0m \u001b[32m139.8/139.8 kB\u001b[0m \u001b[31m1.2 MB/s\u001b[0m eta \u001b[36m0:00:00\u001b[0ma \u001b[36m0:00:01\u001b[0m\n",
      "\u001b[?25hRequirement already satisfied: comm>=0.1.3 in /anaconda/envs/azureml_py38/lib/python3.10/site-packages (from ipywidgets) (0.2.2)\n",
      "Requirement already satisfied: ipython>=6.1.0 in /anaconda/envs/azureml_py38/lib/python3.10/site-packages (from ipywidgets) (8.27.0)\n",
      "Collecting jupyterlab_widgets~=3.0.14\n",
      "  Downloading jupyterlab_widgets-3.0.14-py3-none-any.whl (213 kB)\n",
      "\u001b[2K     \u001b[90m━━━━━━━━━━━━━━━━━━━━━━━━━━━━━━━━━━━━━━━\u001b[0m \u001b[32m214.0/214.0 kB\u001b[0m \u001b[31m3.7 MB/s\u001b[0m eta \u001b[36m0:00:00\u001b[0ma \u001b[36m0:00:01\u001b[0m\n",
      "\u001b[?25hRequirement already satisfied: traitlets>=4.3.1 in /anaconda/envs/azureml_py38/lib/python3.10/site-packages (from ipywidgets) (5.14.3)\n",
      "Collecting widgetsnbextension~=4.0.14\n",
      "  Downloading widgetsnbextension-4.0.14-py3-none-any.whl (2.2 MB)\n",
      "\u001b[2K     \u001b[90m━━━━━━━━━━━━━━━━━━━━━━━━━━━━━━━━━━━━━━━━\u001b[0m \u001b[32m2.2/2.2 MB\u001b[0m \u001b[31m16.2 MB/s\u001b[0m eta \u001b[36m0:00:00\u001b[0ma \u001b[36m0:00:01\u001b[0m\n",
      "\u001b[?25hRequirement already satisfied: stack-data in /anaconda/envs/azureml_py38/lib/python3.10/site-packages (from ipython>=6.1.0->ipywidgets) (0.6.3)\n",
      "Requirement already satisfied: prompt-toolkit<3.1.0,>=3.0.41 in /anaconda/envs/azureml_py38/lib/python3.10/site-packages (from ipython>=6.1.0->ipywidgets) (3.0.47)\n",
      "Requirement already satisfied: pexpect>4.3 in /anaconda/envs/azureml_py38/lib/python3.10/site-packages (from ipython>=6.1.0->ipywidgets) (4.9.0)\n",
      "Requirement already satisfied: jedi>=0.16 in /anaconda/envs/azureml_py38/lib/python3.10/site-packages (from ipython>=6.1.0->ipywidgets) (0.17.2)\n",
      "Requirement already satisfied: matplotlib-inline in /anaconda/envs/azureml_py38/lib/python3.10/site-packages (from ipython>=6.1.0->ipywidgets) (0.1.7)\n",
      "Requirement already satisfied: exceptiongroup in /anaconda/envs/azureml_py38/lib/python3.10/site-packages (from ipython>=6.1.0->ipywidgets) (1.2.2)\n",
      "Requirement already satisfied: pygments>=2.4.0 in /anaconda/envs/azureml_py38/lib/python3.10/site-packages (from ipython>=6.1.0->ipywidgets) (2.18.0)\n",
      "Requirement already satisfied: decorator in /anaconda/envs/azureml_py38/lib/python3.10/site-packages (from ipython>=6.1.0->ipywidgets) (5.1.1)\n",
      "Requirement already satisfied: typing-extensions>=4.6 in /anaconda/envs/azureml_py38/lib/python3.10/site-packages (from ipython>=6.1.0->ipywidgets) (4.12.2)\n",
      "Requirement already satisfied: parso<0.8.0,>=0.7.0 in /anaconda/envs/azureml_py38/lib/python3.10/site-packages (from jedi>=0.16->ipython>=6.1.0->ipywidgets) (0.7.1)\n",
      "Requirement already satisfied: ptyprocess>=0.5 in /anaconda/envs/azureml_py38/lib/python3.10/site-packages (from pexpect>4.3->ipython>=6.1.0->ipywidgets) (0.7.0)\n",
      "Requirement already satisfied: wcwidth in /anaconda/envs/azureml_py38/lib/python3.10/site-packages (from prompt-toolkit<3.1.0,>=3.0.41->ipython>=6.1.0->ipywidgets) (0.2.13)\n",
      "Requirement already satisfied: executing>=1.2.0 in /anaconda/envs/azureml_py38/lib/python3.10/site-packages (from stack-data->ipython>=6.1.0->ipywidgets) (2.1.0)\n",
      "Requirement already satisfied: pure-eval in /anaconda/envs/azureml_py38/lib/python3.10/site-packages (from stack-data->ipython>=6.1.0->ipywidgets) (0.2.3)\n",
      "Requirement already satisfied: asttokens>=2.1.0 in /anaconda/envs/azureml_py38/lib/python3.10/site-packages (from stack-data->ipython>=6.1.0->ipywidgets) (2.4.1)\n",
      "Requirement already satisfied: six>=1.12.0 in /anaconda/envs/azureml_py38/lib/python3.10/site-packages (from asttokens>=2.1.0->stack-data->ipython>=6.1.0->ipywidgets) (1.16.0)\n",
      "Installing collected packages: widgetsnbextension, jupyterlab_widgets, ipywidgets\n",
      "  Attempting uninstall: widgetsnbextension\n",
      "    Found existing installation: widgetsnbextension 3.6.8\n",
      "    Uninstalling widgetsnbextension-3.6.8:\n",
      "      Successfully uninstalled widgetsnbextension-3.6.8\n",
      "  Attempting uninstall: jupyterlab_widgets\n",
      "    Found existing installation: jupyterlab_widgets 1.1.9\n",
      "    Uninstalling jupyterlab_widgets-1.1.9:\n",
      "      Successfully uninstalled jupyterlab_widgets-1.1.9\n",
      "  Attempting uninstall: ipywidgets\n",
      "    Found existing installation: ipywidgets 7.7.1\n",
      "    Uninstalling ipywidgets-7.7.1:\n",
      "      Successfully uninstalled ipywidgets-7.7.1\n",
      "\u001b[31mERROR: pip's dependency resolver does not currently take into account all the packages that are installed. This behaviour is the source of the following dependency conflicts.\n",
      "azureml-widgets 1.57.0 requires ipywidgets<8.0.0,>=7.0.0, but you have ipywidgets 8.1.6 which is incompatible.\u001b[0m\u001b[31m\n",
      "\u001b[0mSuccessfully installed ipywidgets-8.1.6 jupyterlab_widgets-3.0.14 widgetsnbextension-4.0.14\n"
     ]
    }
   ],
   "source": [
    "!pip install --upgrade ipywidgets"
   ]
  },
  {
   "cell_type": "code",
   "execution_count": 22,
   "metadata": {
    "gather": {
     "logged": 1744434927263
    }
   },
   "outputs": [
    {
     "name": "stdout",
     "output_type": "stream",
     "text": [
      "Inferring signature for model LinearRegression...\n",
      "Logging model with signature...\n"
     ]
    },
    {
     "name": "stderr",
     "output_type": "stream",
     "text": [
      "Downloading artifacts: 100%|██████████| 7/7 [00:00<00:00, 33.33it/s]\n"
     ]
    },
    {
     "name": "stdout",
     "output_type": "stream",
     "text": [
      "Logged trained LinearRegression model WITH signature.\n",
      "Completed logging for LinearRegression model, parameters, and tags to MLflow.\n"
     ]
    }
   ],
   "source": [
    "# --- MLflow Logging Cell ---\n",
    "import mlflow\n",
    "import mlflow.sklearn\n",
    "from mlflow.models import infer_signature\n",
    "\n",
    "# Log model type and parameters\n",
    "mlflow.set_tag(\"model_type\", model.__class__.__name__) # Using a tag for model type\n",
    "mlflow.log_params(model.get_params()) # Log default parameters of the model\n",
    "\n",
    "# Log the TRAINED model using MLflow's scikit-learn flavor\n",
    "model_artifact_path = \"linear-regression-model-v3\" # Use a distinct path if logging multiple versions\n",
    "\n",
    "# --- Option 1: Log WITH signature and input example (Recommended) ---\n",
    "print(f\"Inferring signature for model {model.__class__.__name__}...\")\n",
    "signature = infer_signature(X_train_processed, model.predict(X_train_processed))\n",
    "print(\"Logging model with signature...\")\n",
    "mlflow.sklearn.log_model(\n",
    "    sk_model=model,\n",
    "    artifact_path=model_artifact_path,\n",
    "    signature=signature,\n",
    "    input_example=X_train_processed[:5] # Provide a small sample of input data\n",
    ")\n",
    "print(f\"Logged trained {model.__class__.__name__} model WITH signature.\")\n",
    "\n",
    "# --- Option 2: Log WITHOUT signature (Comment out if using Option 1) ---\n",
    "# print(\"Logging model without signature...\")\n",
    "# mlflow.sklearn.log_model(model, artifact_path=model_artifact_path)\n",
    "# print(f\"Logged trained {model.__class__.__name__} model WITHOUT signature.\")\n",
    "\n",
    "\n",
    "# This final print statement might be slightly inaccurate if Option 2 is used,\n",
    "# but confirms logging happened. Adjust as needed.\n",
    "print(f\"Completed logging for {model.__class__.__name__} model, parameters, and tags to MLflow.\")"
   ]
  },
  {
   "cell_type": "markdown",
   "metadata": {},
   "source": [
    "### 🔮 Making Predictions on the Test Set\n",
    "\n",
    "- **Applies the trained model** to the preprocessed test features (`X_test_processed`).  \n",
    "- **Generates predictions** for the target variable (`charges`).  \n",
    "- **Prints confirmation** once predictions are successfully generated.  \n",
    "- *(Optional)* You can uncomment the last lines to compare sample predictions with actual values."
   ]
  },
  {
   "cell_type": "code",
   "execution_count": 23,
   "metadata": {
    "gather": {
     "logged": 1744434929069
    }
   },
   "outputs": [
    {
     "name": "stdout",
     "output_type": "stream",
     "text": [
      "Making predictions on the test set...\n",
      "Predictions generated.\n"
     ]
    }
   ],
   "source": [
    "# --- User Code Cell ---\n",
    "\n",
    "print(\"Making predictions on the test set...\")\n",
    "y_pred = model.predict(X_test_processed)\n",
    "print(\"Predictions generated.\")\n",
    "# print(\"Sample predictions:\", y_pred[:5])\n",
    "# print(\"Actual values:\", y_test[:5].values)"
   ]
  },
  {
   "cell_type": "markdown",
   "metadata": {},
   "source": [
    "### 📈 Evaluating Model Performance on the Test Set\n",
    "\n",
    "- **Calculates Mean Squared Error (MSE):** Measures average squared difference between predicted and actual values.  \n",
    "- **Computes Root Mean Squared Error (RMSE):** Easier to interpret since it's in the same unit as the target variable.  \n",
    "- **Calculates Mean Absolute Error (MAE):** Represents average absolute difference, less sensitive to outliers than MSE.  \n",
    "- **Computes R-squared (R²):** Indicates how well the model explains the variance in the target variable (1 = perfect).  \n",
    "- **Prints all metrics** for quick evaluation of model accuracy and error."
   ]
  },
  {
   "cell_type": "code",
   "execution_count": 24,
   "metadata": {
    "gather": {
     "logged": 1744434930371
    }
   },
   "outputs": [
    {
     "name": "stdout",
     "output_type": "stream",
     "text": [
      "Mean Squared Error (MSE): 33596915.85136148\n",
      "Root Mean Squared Error (RMSE): 5796.284659276275\n",
      "Mean Absolute Error (MAE): 4181.194473753653\n",
      "R-squared (R2): 0.7835929767120722\n"
     ]
    },
    {
     "name": "stderr",
     "output_type": "stream",
     "text": [
      "/anaconda/envs/azureml_py310_sdkv2/lib/python3.10/site-packages/sklearn/metrics/_regression.py:492: FutureWarning: 'squared' is deprecated in version 1.4 and will be removed in 1.6. To calculate the root mean squared error, use the function'root_mean_squared_error'.\n",
      "  warnings.warn(\n"
     ]
    }
   ],
   "source": [
    "# --- User Code Cell ---\n",
    "from sklearn.metrics import mean_squared_error, r2_score, mean_absolute_error # Added MAE\n",
    "\n",
    "mse = mean_squared_error(y_test, y_pred)\n",
    "rmse = mean_squared_error(y_test, y_pred, squared=False) # Calculate RMSE\n",
    "mae = mean_absolute_error(y_test, y_pred) # Calculate MAE\n",
    "r2 = r2_score(y_test, y_pred)\n",
    "\n",
    "print(f\"Mean Squared Error (MSE): {mse}\")\n",
    "print(f\"Root Mean Squared Error (RMSE): {rmse}\")\n",
    "print(f\"Mean Absolute Error (MAE): {mae}\")\n",
    "print(f\"R-squared (R2): {r2}\")"
   ]
  },
  {
   "cell_type": "markdown",
   "metadata": {},
   "source": [
    "### 📊 Logging Evaluation Metrics to MLflow\n",
    "\n",
    "- **Logs test set performance metrics** to MLflow:\n",
    "  - `mse` (Mean Squared Error)  \n",
    "  - `rmse` (Root Mean Squared Error)  \n",
    "  - `mae` (Mean Absolute Error)  \n",
    "  - `r2` (R-squared Score)  \n",
    "- These metrics provide insight into model accuracy and error on unseen data.  \n",
    "- **Prints confirmation** after logging is complete.  \n",
    "- *(Optional)* You can end the MLflow run if this marks the end of the current experiment session."
   ]
  },
  {
   "cell_type": "code",
   "execution_count": 25,
   "metadata": {
    "gather": {
     "logged": 1744434931623
    }
   },
   "outputs": [
    {
     "name": "stdout",
     "output_type": "stream",
     "text": [
      "Logged evaluation metrics (MSE, RMSE, MAE, R2) to MLflow.\n"
     ]
    }
   ],
   "source": [
    "# --- MLflow Logging Cell ---\n",
    "\n",
    "# Log the evaluation metrics\n",
    "mlflow.log_metric(\"mse\", mse)\n",
    "mlflow.log_metric(\"rmse\", rmse)\n",
    "mlflow.log_metric(\"mae\", mae)\n",
    "mlflow.log_metric(\"r2\", r2)\n",
    "\n",
    "print(\"Logged evaluation metrics (MSE, RMSE, MAE, R2) to MLflow.\")"
   ]
  },
  {
   "cell_type": "code",
   "execution_count": 26,
   "metadata": {},
   "outputs": [
    {
     "name": "stderr",
     "output_type": "stream",
     "text": [
      "2025/04/12 13:18:51 INFO mlflow.tracking._tracking_service.client: 🏃 View run plucky_ship_5j3s7rh9 at: https://centralindia.api.azureml.ms/mlflow/v2.0/subscriptions/40b3b6fa-c1eb-4567-bb9c-bfa430b41708/resourceGroups/tharindu-ml-tst-rg/providers/Microsoft.MachineLearningServices/workspaces/tharindu-ml-tst-wp/#/experiments/1e7b4326-7280-4ac6-b120-84a6170ad673/runs/53f6bb6b-eabc-4faa-ae8c-cc1e784b989d.\n",
      "2025/04/12 13:18:51 INFO mlflow.tracking._tracking_service.client: 🧪 View experiment at: https://centralindia.api.azureml.ms/mlflow/v2.0/subscriptions/40b3b6fa-c1eb-4567-bb9c-bfa430b41708/resourceGroups/tharindu-ml-tst-rg/providers/Microsoft.MachineLearningServices/workspaces/tharindu-ml-tst-wp/#/experiments/1e7b4326-7280-4ac6-b120-84a6170ad673.\n"
     ]
    },
    {
     "name": "stdout",
     "output_type": "stream",
     "text": [
      "MLflow run ended.\n"
     ]
    }
   ],
   "source": [
    "# --- Optional: End the MLflow run if appropriate ---\n",
    "# If this is the logical end of your experiment for this notebook session\n",
    "mlflow.end_run()\n",
    "print(\"MLflow run ended.\")"
   ]
  },
  {
   "cell_type": "markdown",
   "metadata": {},
   "source": [
    "### 🧪 Managing MLflow Runs with Context Manager\n",
    "\n",
    "This code demonstrates a clean and safe way to run and track experiments using MLflow:\n",
    "\n",
    "🧭 1. **Set the Experiment**\n",
    "- Initializes or switches to an experiment named `\"Test1\"` using `mlflow.set_experiment()`.\n",
    "- Ensures all logged data belongs to the correct experiment context.\n",
    "\n",
    "🚀 2. **Start the Run with a Context Manager**\n",
    "- Starts an MLflow run using `with mlflow.start_run()`—ensuring the run ends **automatically** when the block finishes, even if an error occurs.\n",
    "- Retrieves the **run ID** from the `run` object for reference or later usage (e.g., model URI).\n",
    "\n",
    "📝 3. **Log Parameters, Metrics, or Artifacts**\n",
    "- Inside the run, you can add any MLflow logging logic (e.g., `mlflow.log_param()`).\n",
    "- This is where you'd place your model training, evaluation, or data processing code.\n",
    "\n",
    "✅ 4. **Graceful Run Completion**\n",
    "- Once outside the `with` block, the run ends cleanly.\n",
    "- Confirms the run's completion status using `mlflow.get_run(run_id).info.status`.\n",
    "\n",
    "⚠️ 5. **Optional Error Handling**\n",
    "- Catches exceptions and prints errors that occur during the run.\n",
    "- Ensures visibility into issues without needing to manually end the run.\n",
    "\n",
    "> 💡 Using `with mlflow.start_run()` is best practice—it prevents \"run still active\" errors and makes your MLflow usage cleaner and safer."
   ]
  },
  {
   "cell_type": "code",
   "execution_count": 1,
   "metadata": {},
   "outputs": [
    {
     "name": "stderr",
     "output_type": "stream",
     "text": [
      "/anaconda/envs/azureml_py310_sdkv2/lib/python3.10/site-packages/azureml/mlflow/_protos/aml_service_pb2.py:10: UserWarning: google.protobuf.service module is deprecated. RPC implementations should provide code generator plugins which generate code specific to the RPC implementation. service.py will be removed in Jan 2025\n",
      "  from google.protobuf import service as _service\n"
     ]
    },
    {
     "name": "stdout",
     "output_type": "stream",
     "text": [
      "Using Experiment: 'Test1'\n",
      "Starting MLflow run...\n",
      "MLflow Run ID started: 462e0b43-09d4-4015-aa34-89e6c842b014\n"
     ]
    },
    {
     "name": "stderr",
     "output_type": "stream",
     "text": [
      "2025/04/12 16:36:10 INFO mlflow.tracking._tracking_service.client: 🏃 View run affable_floor_9g3p2387 at: https://centralindia.api.azureml.ms/mlflow/v2.0/subscriptions/40b3b6fa-c1eb-4567-bb9c-bfa430b41708/resourceGroups/tharindu-ml-tst-rg/providers/Microsoft.MachineLearningServices/workspaces/tharindu-ml-tst-wp/#/experiments/e0dab42c-1159-44e8-99fa-5623b4e2405b/runs/462e0b43-09d4-4015-aa34-89e6c842b014.\n",
      "2025/04/12 16:36:10 INFO mlflow.tracking._tracking_service.client: 🧪 View experiment at: https://centralindia.api.azureml.ms/mlflow/v2.0/subscriptions/40b3b6fa-c1eb-4567-bb9c-bfa430b41708/resourceGroups/tharindu-ml-tst-rg/providers/Microsoft.MachineLearningServices/workspaces/tharindu-ml-tst-wp/#/experiments/e0dab42c-1159-44e8-99fa-5623b4e2405b.\n"
     ]
    },
    {
     "name": "stdout",
     "output_type": "stream",
     "text": [
      "Logged an example parameter.\n",
      "Work within the run would happen here.\n",
      "MLflow Run (462e0b43-09d4-4015-aa34-89e6c842b014) finished with status: FINISHED\n"
     ]
    }
   ],
   "source": [
    "import mlflow\n",
    "# import mlflow.sklearn # Keep if needed later\n",
    "# import io # Keep if needed later\n",
    "\n",
    "# 1. Set the Experiment context (still done outside the run)\n",
    "experiment_name = \"Test1\"\n",
    "mlflow.set_experiment(experiment_name)\n",
    "print(f\"Using Experiment: '{experiment_name}'\")\n",
    "\n",
    "# 2. Start the run using a context manager\n",
    "print(\"Starting MLflow run...\")\n",
    "try:\n",
    "    with mlflow.start_run() as run:  # Use 'with' for automatic start/end\n",
    "        # 3. Get the Run ID directly from the 'run' object\n",
    "        run_id = run.info.run_id\n",
    "        print(f\"MLflow Run ID started: {run_id}\")\n",
    "\n",
    "        # --- This is where you would normally put your code ---\n",
    "        # Example: Log a parameter\n",
    "        mlflow.log_param(\"example_param\", \"value1\")\n",
    "        print(\"Logged an example parameter.\")\n",
    "        # -------------------------------------------------------\n",
    "\n",
    "        print(\"Work within the run would happen here.\")\n",
    "\n",
    "    # 4. Run automatically ends when exiting the 'with' block\n",
    "    print(f\"MLflow Run ({run_id}) finished with status: {mlflow.get_run(run_id).info.status}\")\n",
    "\n",
    "except Exception as e:\n",
    "    # Optional: Add error handling for issues during run start or execution\n",
    "    print(f\"An error occurred during the MLflow run: {e}\")\n",
    "    # Ensure run ends even if error happens within the 'with' block (handled by 'with')\n",
    "    # but you might want specific error logging here."
   ]
  },
  {
   "cell_type": "markdown",
   "metadata": {},
   "source": [
    "### 📋 Listing All MLflow Experiments\n",
    "\n",
    "This code connects to the MLflow tracking server and lists all existing experiments in the workspace.\n",
    "\n",
    "- **Initializes an `MlflowClient`** to interact with the MLflow tracking server.  \n",
    "- **Retrieves all experiments** using `client.search_experiments()`.  \n",
    "- **Loops through the list** and prints each experiment's name and ID.\n",
    "\n",
    "> 💡 Knowing the `experiment_id` is helpful when filtering runs or managing experiments programmatically."
   ]
  },
  {
   "cell_type": "code",
   "execution_count": 1,
   "metadata": {},
   "outputs": [
    {
     "name": "stderr",
     "output_type": "stream",
     "text": [
      "/anaconda/envs/azureml_py310_sdkv2/lib/python3.10/site-packages/azureml/mlflow/_protos/aml_service_pb2.py:10: UserWarning: google.protobuf.service module is deprecated. RPC implementations should provide code generator plugins which generate code specific to the RPC implementation. service.py will be removed in Jan 2025\n",
      "  from google.protobuf import service as _service\n"
     ]
    },
    {
     "name": "stdout",
     "output_type": "stream",
     "text": [
      "Experiment Name: Default, Experiment ID: 1e7b4326-7280-4ac6-b120-84a6170ad673\n",
      "Experiment Name: Test1, Experiment ID: e0dab42c-1159-44e8-99fa-5623b4e2405b\n"
     ]
    }
   ],
   "source": [
    "# First, import the necessary libraries\n",
    "import mlflow\n",
    "from mlflow.tracking import MlflowClient\n",
    "\n",
    "# Connect to the workspace's MLflow tracking URI\n",
    "client = MlflowClient()\n",
    "\n",
    "# 1. List all experiments\n",
    "experiments = client.search_experiments()\n",
    "for experiment in experiments:\n",
    "    print(f\"Experiment Name: {experiment.name}, Experiment ID: {experiment.experiment_id}\")"
   ]
  },
  {
   "cell_type": "markdown",
   "metadata": {},
   "source": [
    "### 🔍 Retrieving Details for a Specific MLflow Experiment\n",
    "\n",
    "This snippet fetches and displays detailed information about an MLflow experiment by its name:\n",
    "\n",
    "- **Uses `get_experiment_by_name()`** to find an experiment with the specified name (`\"Test1\"`).  \n",
    "- If found, it prints:\n",
    "  - **Name** of the experiment  \n",
    "  - **Experiment ID**  \n",
    "  - **Artifact location** (where outputs are stored)  \n",
    "  - **Tags** (any custom metadata)  \n",
    "  - **Lifecycle stage** (e.g., `active`, `deleted`)\n",
    "\n",
    "> 💡 Useful for verifying experiment setup or inspecting metadata before querying runs or logging new data."
   ]
  },
  {
   "cell_type": "code",
   "execution_count": 2,
   "metadata": {},
   "outputs": [
    {
     "name": "stdout",
     "output_type": "stream",
     "text": [
      "Experiment Details:\n",
      "  Name: Test1\n",
      "  ID: e0dab42c-1159-44e8-99fa-5623b4e2405b\n",
      "  Artifact Location: \n",
      "  Tags: {}\n",
      "  Lifecycle Stage: active\n"
     ]
    }
   ],
   "source": [
    "# 2. Get details for a specific experiment (by name or ID)\n",
    "experiment_name = \"Test1\"\n",
    "experiment = client.get_experiment_by_name(experiment_name)\n",
    "\n",
    "if experiment:\n",
    "    print(f\"Experiment Details:\\n\"\n",
    "          f\"  Name: {experiment.name}\\n\"\n",
    "          f\"  ID: {experiment.experiment_id}\\n\"\n",
    "          f\"  Artifact Location: {experiment.artifact_location}\\n\"\n",
    "          f\"  Tags: {experiment.tags}\\n\"\n",
    "          f\"  Lifecycle Stage: {experiment.lifecycle_stage}\")"
   ]
  },
  {
   "cell_type": "markdown",
   "metadata": {},
   "source": [
    "### 📂 Listing All Runs for a Specific MLflow Experiment\n",
    "\n",
    "This code retrieves and displays all runs associated with a given experiment:\n",
    "\n",
    "- **Uses `client.search_runs()`** to fetch all runs under the specified experiment ID.  \n",
    "- **Iterates through each run**, extracting key info:\n",
    "  - **Run ID**\n",
    "  - **Run status** (e.g., `FINISHED`, `FAILED`)\n",
    "  - **Run name** (if set)\n",
    "  - **End time**, converted from milliseconds to a human-readable UTC timestamp\n",
    "\n",
    "> 💡 Helpful for tracking run history, debugging failed runs, or identifying the best-performing models."
   ]
  },
  {
   "cell_type": "code",
   "execution_count": 3,
   "metadata": {
    "scrolled": true
   },
   "outputs": [
    {
     "name": "stdout",
     "output_type": "stream",
     "text": [
      "Run ID: f4964059-4cb1-4724-9763-6a9ef6170798, Status: FINISHED, Name: dreamy_oyster_10y71h2v, End time: 2025-04-12 15:01:46.112000+00:00\n",
      "Run ID: 462e0b43-09d4-4015-aa34-89e6c842b014, Status: FINISHED, Name: affable_floor_9g3p2387, End time: 2025-04-12 16:36:10.393000+00:00\n"
     ]
    }
   ],
   "source": [
    "from datetime import datetime, timezone\n",
    "\n",
    "# 3. List all runs for a specific experiment\n",
    "runs = client.search_runs(experiment_ids=[experiment.experiment_id])\n",
    "for run in runs:\n",
    "    # Convert the end_time (in milliseconds) to a datetime object\n",
    "    end_time = datetime.fromtimestamp(run.info.end_time / 1000, tz=timezone.utc)\n",
    "    print(f\"Run ID: {run.info.run_id}, Status: {run.info.status}, Name: {run.info.run_name}, End time: {end_time}\")"
   ]
  },
  {
   "cell_type": "markdown",
   "metadata": {},
   "source": [
    "### 🧾 Retrieving Detailed Information for a Specific MLflow Run\n",
    "\n",
    "This code fetches and displays metadata and results for a specific MLflow run using its `run_id`:\n",
    "\n",
    "- **Uses `client.get_run()`** to retrieve the run by its ID.  \n",
    "- **Prints detailed run information**, including:\n",
    "  - **Status** (e.g., `FINISHED`, `FAILED`)  \n",
    "  - **Start and end timestamps** (in milliseconds since epoch)  \n",
    "  - **Logged metrics** (e.g., RMSE, MAE)  \n",
    "  - **Parameters** used during the run (e.g., model type, hyperparameters)  \n",
    "  - **Tags**, including model type, version, or any custom labels\n",
    "\n",
    "> 💡 This is especially useful for auditing, comparing experiments, or reviewing past model training runs."
   ]
  },
  {
   "cell_type": "code",
   "execution_count": 4,
   "metadata": {},
   "outputs": [
    {
     "name": "stdout",
     "output_type": "stream",
     "text": [
      "Run Details for 53f6bb6b-eabc-4faa-ae8c-cc1e784b989d:\n",
      "  Status: FINISHED\n",
      "  Start Time: 1744458750422\n",
      "  End Time: 1744463931798\n",
      "  Metrics: {'num_rows_loaded': 1338.0, 'num_columns_loaded': 7.0, 'duplicate_row_count': 1.0, 'numerical_column_count': 4.0, 'categorical_column_count': 3.0, 'input_feature_count': 6.0, 'input_numerical_feature_count': 3.0, 'input_categorical_feature_count': 3.0, 'training_set_size': 1070.0, 'test_set_size': 268.0, 'processed_feature_count': 11.0, 'mse': 33596915.85136148, 'rmse': 5796.284659276275, 'mae': 4181.194473753653, 'r2': 0.7835929767120722}\n",
      "  Parameters: {'data_asset_name': 'insurance-public-url', 'data_asset_version': '1', 'data_asset_path': 'https://raw.githubusercontent.com/stedy/Machine-Learning-with-R-datasets/master/insurance.csv', 'target_column': 'charges', 'numerical_transformer': 'StandardScaler', 'categorical_transformer': 'OneHotEncoder', 'categories': 'auto', 'drop': 'None', 'dtype': \"<class 'numpy.float64'>\", 'feature_name_combiner': 'concat', 'handle_unknown': 'ignore', 'max_categories': 'None', 'min_frequency': 'None', 'sparse_output': 'False', 'coltransformer_remainder': 'passthrough', 'test_split_ratio': '0.2', 'split_random_state': '42', 'copy_X': 'True', 'fit_intercept': 'True', 'n_jobs': 'None', 'positive': 'False'}\n",
      "  Tags: {'mlflow.user': 'Tharindu Sankalpa', 'model_type': 'LinearRegression', 'mlflow.rootRunId': '53f6bb6b-eabc-4faa-ae8c-cc1e784b989d', 'mlflow.runName': 'plucky_ship_5j3s7rh9'}\n"
     ]
    }
   ],
   "source": [
    "# 4. Get detailed information about a specific run\n",
    "run_id = \"53f6bb6b-eabc-4faa-ae8c-cc1e784b989d\"\n",
    "run = client.get_run(run_id)\n",
    "\n",
    "print(f\"Run Details for {run_id}:\\n\"\n",
    "      f\"  Status: {run.info.status}\\n\"\n",
    "      f\"  Start Time: {run.info.start_time}\\n\"\n",
    "      f\"  End Time: {run.info.end_time}\\n\"\n",
    "      f\"  Metrics: {run.data.metrics}\\n\"\n",
    "      f\"  Parameters: {run.data.params}\\n\"\n",
    "      f\"  Tags: {run.data.tags}\")"
   ]
  },
  {
   "cell_type": "code",
   "execution_count": 5,
   "metadata": {},
   "outputs": [],
   "source": [
    "# 5. Advanced filtering of runs using query syntax\n",
    "filtered_runs = client.search_runs(\n",
    "    experiment_ids=[experiment.experiment_id],\n",
    "    filter_string=\"metrics.mse > 1 and tags.mlflow.runName = 'my-run'\"\n",
    ")"
   ]
  },
  {
   "cell_type": "markdown",
   "metadata": {},
   "source": [
    "### 📦 Retrieving Artifacts from a Specific MLflow Run\n",
    "\n",
    "This code lists the artifacts (files and folders) stored for a particular run:\n",
    "\n",
    "- **Uses `client.list_artifacts(run_id)`** to get all artifacts logged during the run.  \n",
    "- **Iterates through each artifact**, printing:\n",
    "  - **Path** to the artifact within the run's artifact directory  \n",
    "  - **File size** in bytes\n",
    "\n",
    "> 💡 Useful for exploring outputs like saved models, plots, logs, and custom files generated during the run."
   ]
  },
  {
   "cell_type": "code",
   "execution_count": 6,
   "metadata": {},
   "outputs": [
    {
     "name": "stdout",
     "output_type": "stream",
     "text": [
      "Artifact: bar_charts, Size: -1 bytes\n",
      "Artifact: box_plots, Size: -1 bytes\n",
      "Artifact: correlation_matrix.csv, Size: -1 bytes\n",
      "Artifact: correlation_matrix_heatmap.png, Size: -1 bytes\n",
      "Artifact: data_info.txt, Size: -1 bytes\n",
      "Artifact: data_preview.csv, Size: -1 bytes\n",
      "Artifact: feature_info, Size: -1 bytes\n",
      "Artifact: histograms, Size: -1 bytes\n",
      "Artifact: linear-regression-model-v2, Size: -1 bytes\n",
      "Artifact: linear-regression-model-v3, Size: -1 bytes\n",
      "Artifact: linear-regression-model, Size: -1 bytes\n",
      "Artifact: missing_values.csv, Size: -1 bytes\n",
      "Artifact: preprocessor, Size: -1 bytes\n",
      "Artifact: scatter_plots, Size: -1 bytes\n",
      "Artifact: summary_statistics.csv, Size: -1 bytes\n"
     ]
    }
   ],
   "source": [
    "# 6. Retrieve artifacts for a specific run\n",
    "artifacts = client.list_artifacts(run_id)\n",
    "for artifact in artifacts:\n",
    "    print(f\"Artifact: {artifact.path}, Size: {artifact.file_size} bytes\")"
   ]
  },
  {
   "cell_type": "markdown",
   "metadata": {},
   "source": [
    "### 📥 Downloading and Loading an Artifact from an MLflow Run\n",
    "\n",
    "This code demonstrates how to retrieve a logged CSV artifact from a specific MLflow run and load it into a Pandas DataFrame:\n",
    "\n",
    "1. **Sets the run ID** (`YOUR_RUN_ID`) to identify the run containing the artifact.\n",
    "2. **Downloads the `data_preview.csv` file** using `client.download_artifacts()`, which returns the local file path.\n",
    "3. **Reads the CSV file** into a Pandas DataFrame using `pd.read_csv()`.\n",
    "4. **Prints the location** where the file was saved and displays the preview data.\n",
    "\n",
    "> 💡 This is especially useful for reviewing data snapshots or model input examples saved during an MLflow experiment."
   ]
  },
  {
   "cell_type": "code",
   "execution_count": 1,
   "metadata": {},
   "outputs": [
    {
     "name": "stderr",
     "output_type": "stream",
     "text": [
      "/anaconda/envs/azureml_py310_sdkv2/lib/python3.10/site-packages/azureml/mlflow/_protos/aml_service_pb2.py:10: UserWarning: google.protobuf.service module is deprecated. RPC implementations should provide code generator plugins which generate code specific to the RPC implementation. service.py will be removed in Jan 2025\n",
      "  from google.protobuf import service as _service\n",
      "/anaconda/envs/azureml_py310_sdkv2/lib/python3.10/site-packages/tqdm/auto.py:21: TqdmWarning: IProgress not found. Please update jupyter and ipywidgets. See https://ipywidgets.readthedocs.io/en/stable/user_install.html\n",
      "  from .autonotebook import tqdm as notebook_tqdm\n",
      "Downloading artifacts: 100%|██████████| 1/1 [00:00<00:00,  6.58it/s]"
     ]
    },
    {
     "name": "stdout",
     "output_type": "stream",
     "text": [
      "Downloaded data preview to: /tmp/tmpodvskgf4/data_preview.csv\n"
     ]
    },
    {
     "name": "stderr",
     "output_type": "stream",
     "text": [
      "\n"
     ]
    },
    {
     "data": {
      "text/html": [
       "<div>\n",
       "<style scoped>\n",
       "    .dataframe tbody tr th:only-of-type {\n",
       "        vertical-align: middle;\n",
       "    }\n",
       "\n",
       "    .dataframe tbody tr th {\n",
       "        vertical-align: top;\n",
       "    }\n",
       "\n",
       "    .dataframe thead th {\n",
       "        text-align: right;\n",
       "    }\n",
       "</style>\n",
       "<table border=\"1\" class=\"dataframe\">\n",
       "  <thead>\n",
       "    <tr style=\"text-align: right;\">\n",
       "      <th></th>\n",
       "      <th>age</th>\n",
       "      <th>sex</th>\n",
       "      <th>bmi</th>\n",
       "      <th>children</th>\n",
       "      <th>smoker</th>\n",
       "      <th>region</th>\n",
       "      <th>charges</th>\n",
       "    </tr>\n",
       "  </thead>\n",
       "  <tbody>\n",
       "    <tr>\n",
       "      <th>0</th>\n",
       "      <td>19</td>\n",
       "      <td>female</td>\n",
       "      <td>27.900</td>\n",
       "      <td>0</td>\n",
       "      <td>yes</td>\n",
       "      <td>southwest</td>\n",
       "      <td>16884.92400</td>\n",
       "    </tr>\n",
       "    <tr>\n",
       "      <th>1</th>\n",
       "      <td>18</td>\n",
       "      <td>male</td>\n",
       "      <td>33.770</td>\n",
       "      <td>1</td>\n",
       "      <td>no</td>\n",
       "      <td>southeast</td>\n",
       "      <td>1725.55230</td>\n",
       "    </tr>\n",
       "    <tr>\n",
       "      <th>2</th>\n",
       "      <td>28</td>\n",
       "      <td>male</td>\n",
       "      <td>33.000</td>\n",
       "      <td>3</td>\n",
       "      <td>no</td>\n",
       "      <td>southeast</td>\n",
       "      <td>4449.46200</td>\n",
       "    </tr>\n",
       "    <tr>\n",
       "      <th>3</th>\n",
       "      <td>33</td>\n",
       "      <td>male</td>\n",
       "      <td>22.705</td>\n",
       "      <td>0</td>\n",
       "      <td>no</td>\n",
       "      <td>northwest</td>\n",
       "      <td>21984.47061</td>\n",
       "    </tr>\n",
       "    <tr>\n",
       "      <th>4</th>\n",
       "      <td>32</td>\n",
       "      <td>male</td>\n",
       "      <td>28.880</td>\n",
       "      <td>0</td>\n",
       "      <td>no</td>\n",
       "      <td>northwest</td>\n",
       "      <td>3866.85520</td>\n",
       "    </tr>\n",
       "  </tbody>\n",
       "</table>\n",
       "</div>"
      ],
      "text/plain": [
       "   age     sex     bmi  children smoker     region      charges\n",
       "0   19  female  27.900         0    yes  southwest  16884.92400\n",
       "1   18    male  33.770         1     no  southeast   1725.55230\n",
       "2   28    male  33.000         3     no  southeast   4449.46200\n",
       "3   33    male  22.705         0     no  northwest  21984.47061\n",
       "4   32    male  28.880         0     no  northwest   3866.85520"
      ]
     },
     "execution_count": 1,
     "metadata": {},
     "output_type": "execute_result"
    }
   ],
   "source": [
    "import pandas as pd\n",
    "import mlflow.sklearn\n",
    "\n",
    "# 1. Define your run ID\n",
    "YOUR_RUN_ID = \"53f6bb6b-eabc-4faa-ae8c-cc1e784b989d\"\n",
    "\n",
    "# 2. Download the data_preview.csv artifact\n",
    "client = mlflow.tracking.MlflowClient()\n",
    "data_preview_path = client.download_artifacts(YOUR_RUN_ID, \"data_preview.csv\")\n",
    "print(f\"Downloaded data preview to: {data_preview_path}\")\n",
    "\n",
    "# 3. Load the data into a pandas DataFrame\n",
    "data = pd.read_csv(data_preview_path)\n",
    "data"
   ]
  },
  {
   "cell_type": "markdown",
   "metadata": {},
   "source": [
    "### 🔄 Loading Logged Models from a Specific MLflow Run\n",
    "\n",
    "This code loads the **trained linear regression model** and its **preprocessing pipeline** from a specific MLflow run:\n",
    "\n",
    "1. **Constructs the model URIs** using the provided `run_id` and artifact paths:\n",
    "   - `linear-regression-model-v3`\n",
    "   - `preprocessor`\n",
    "2. **Loads both models** using `mlflow.sklearn.load_model()`, making them ready for inference.\n",
    "3. Both returned objects behave like standard scikit-learn estimators and can be used directly for transformation and prediction.\n",
    "\n",
    "> 💡 This allows you to **reproduce predictions** exactly as they were made during the original experiment."
   ]
  },
  {
   "cell_type": "code",
   "execution_count": 2,
   "metadata": {},
   "outputs": [
    {
     "name": "stderr",
     "output_type": "stream",
     "text": [
      "Downloading artifacts: 100%|██████████| 7/7 [00:00<00:00, 53.72it/s]\n",
      "Downloading artifacts: 100%|██████████| 5/5 [00:00<00:00, 58.75it/s]\n"
     ]
    }
   ],
   "source": [
    "# 4. Load the ML models\n",
    "model_uri_lr = f\"runs:/{YOUR_RUN_ID}/linear-regression-model-v3\"\n",
    "model_uri_preprocessor = f\"runs:/{YOUR_RUN_ID}/preprocessor\"\n",
    "\n",
    "loaded_lr_model = mlflow.sklearn.load_model(model_uri_lr)\n",
    "loaded_preprocessor = mlflow.sklearn.load_model(model_uri_preprocessor)"
   ]
  },
  {
   "cell_type": "markdown",
   "metadata": {},
   "source": [
    "### 🤖 Preprocessing and Making Predictions with Loaded MLflow Models\n",
    "\n",
    "This code completes the **inference workflow** using artifacts from a previous MLflow run:\n",
    " 🔍 **Step 1: Prepare the Input Data**\n",
    "- Checks if the **target column (`charges`)** exists in the dataset.\n",
    "- If present, it’s **dropped from the input features** before transformation.\n",
    "\n",
    "🧼 **Step 2: Apply Preprocessing**\n",
    "- Uses the **loaded preprocessor** to transform the raw features into the format expected by the model.\n",
    "\n",
    " 📈 **Step 3: Generate Predictions**\n",
    "- Uses the **loaded linear regression model** to predict `charges` from the processed features.\n",
    "\n",
    " 📋 **Step 4: Compile and Display Results**\n",
    "- Combines the input data and predictions into a new DataFrame.\n",
    "- If actual `charges` values are present, includes them and computes the **difference** from predictions.\n",
    "\n",
    "> ✅ This is a complete, reproducible pipeline for **serving predictions using MLflow-logged models**. Perfect for model evaluation, comparison, or deploying as part of a scoring service."
   ]
  },
  {
   "cell_type": "code",
   "execution_count": 8,
   "metadata": {},
   "outputs": [
    {
     "data": {
      "text/html": [
       "<div>\n",
       "<style scoped>\n",
       "    .dataframe tbody tr th:only-of-type {\n",
       "        vertical-align: middle;\n",
       "    }\n",
       "\n",
       "    .dataframe tbody tr th {\n",
       "        vertical-align: top;\n",
       "    }\n",
       "\n",
       "    .dataframe thead th {\n",
       "        text-align: right;\n",
       "    }\n",
       "</style>\n",
       "<table border=\"1\" class=\"dataframe\">\n",
       "  <thead>\n",
       "    <tr style=\"text-align: right;\">\n",
       "      <th></th>\n",
       "      <th>age</th>\n",
       "      <th>sex</th>\n",
       "      <th>bmi</th>\n",
       "      <th>children</th>\n",
       "      <th>smoker</th>\n",
       "      <th>region</th>\n",
       "      <th>predicted_charges</th>\n",
       "      <th>actual_charges</th>\n",
       "      <th>difference</th>\n",
       "    </tr>\n",
       "  </thead>\n",
       "  <tbody>\n",
       "    <tr>\n",
       "      <th>0</th>\n",
       "      <td>19</td>\n",
       "      <td>female</td>\n",
       "      <td>27.900</td>\n",
       "      <td>0</td>\n",
       "      <td>yes</td>\n",
       "      <td>southwest</td>\n",
       "      <td>25197.531061</td>\n",
       "      <td>16884.92400</td>\n",
       "      <td>-8312.607061</td>\n",
       "    </tr>\n",
       "    <tr>\n",
       "      <th>1</th>\n",
       "      <td>18</td>\n",
       "      <td>male</td>\n",
       "      <td>33.770</td>\n",
       "      <td>1</td>\n",
       "      <td>no</td>\n",
       "      <td>southeast</td>\n",
       "      <td>3826.781929</td>\n",
       "      <td>1725.55230</td>\n",
       "      <td>-2101.229629</td>\n",
       "    </tr>\n",
       "    <tr>\n",
       "      <th>2</th>\n",
       "      <td>28</td>\n",
       "      <td>male</td>\n",
       "      <td>33.000</td>\n",
       "      <td>3</td>\n",
       "      <td>no</td>\n",
       "      <td>southeast</td>\n",
       "      <td>6987.535290</td>\n",
       "      <td>4449.46200</td>\n",
       "      <td>-2538.073290</td>\n",
       "    </tr>\n",
       "    <tr>\n",
       "      <th>3</th>\n",
       "      <td>33</td>\n",
       "      <td>male</td>\n",
       "      <td>22.705</td>\n",
       "      <td>0</td>\n",
       "      <td>no</td>\n",
       "      <td>northwest</td>\n",
       "      <td>3813.396616</td>\n",
       "      <td>21984.47061</td>\n",
       "      <td>18171.073994</td>\n",
       "    </tr>\n",
       "    <tr>\n",
       "      <th>4</th>\n",
       "      <td>32</td>\n",
       "      <td>male</td>\n",
       "      <td>28.880</td>\n",
       "      <td>0</td>\n",
       "      <td>no</td>\n",
       "      <td>northwest</td>\n",
       "      <td>5637.967419</td>\n",
       "      <td>3866.85520</td>\n",
       "      <td>-1771.112219</td>\n",
       "    </tr>\n",
       "  </tbody>\n",
       "</table>\n",
       "</div>"
      ],
      "text/plain": [
       "   age     sex     bmi  children smoker     region  predicted_charges  \\\n",
       "0   19  female  27.900         0    yes  southwest       25197.531061   \n",
       "1   18    male  33.770         1     no  southeast        3826.781929   \n",
       "2   28    male  33.000         3     no  southeast        6987.535290   \n",
       "3   33    male  22.705         0     no  northwest        3813.396616   \n",
       "4   32    male  28.880         0     no  northwest        5637.967419   \n",
       "\n",
       "   actual_charges    difference  \n",
       "0     16884.92400  -8312.607061  \n",
       "1      1725.55230  -2101.229629  \n",
       "2      4449.46200  -2538.073290  \n",
       "3     21984.47061  18171.073994  \n",
       "4      3866.85520  -1771.112219  "
      ]
     },
     "execution_count": 8,
     "metadata": {},
     "output_type": "execute_result"
    }
   ],
   "source": [
    "# 5. Preprocess and make predictions\n",
    "# First, check if the target column is in the data and remove it if present\n",
    "target_column = \"charges\"  # Adjust if your target column has a different name\n",
    "X = data.drop(target_column, axis=1) if target_column in data.columns else data\n",
    "\n",
    "# Apply preprocessing and prediction\n",
    "X_processed = loaded_preprocessor.transform(X)\n",
    "predictions = loaded_lr_model.predict(X_processed)\n",
    "\n",
    "# 6. Display the results\n",
    "result_df = X.copy()\n",
    "result_df['predicted_charges'] = predictions\n",
    "if target_column in data.columns:\n",
    "    result_df['actual_charges'] = data[target_column]\n",
    "    result_df['difference'] = result_df['actual_charges'] - result_df['predicted_charges']\n",
    "\n",
    "result_df"
   ]
  },
  {
   "cell_type": "code",
   "execution_count": 7,
   "metadata": {},
   "outputs": [
    {
     "name": "stdout",
     "output_type": "stream",
     "text": [
      "\n",
      "Model Evaluation on preview data:\n",
      "MAE: $6578.82\n",
      "RMSE: $9091.55\n",
      "R²: -0.2612\n"
     ]
    }
   ],
   "source": [
    "# Calculate evaluation metrics if actual values are available\n",
    "if target_column in data.columns:\n",
    "    from sklearn.metrics import mean_absolute_error, mean_squared_error, r2_score\n",
    "    import numpy as np\n",
    "    \n",
    "    mae = mean_absolute_error(data[target_column], predictions)\n",
    "    mse = mean_squared_error(data[target_column], predictions)\n",
    "    rmse = np.sqrt(mse)\n",
    "    r2 = r2_score(data[target_column], predictions)\n",
    "    \n",
    "    print(f\"\\nModel Evaluation on preview data:\")\n",
    "    print(f\"MAE: ${mae:.2f}\")\n",
    "    print(f\"RMSE: ${rmse:.2f}\")\n",
    "    print(f\"R²: {r2:.4f}\")"
   ]
  }
 ],
 "metadata": {
  "kernel_info": {
   "name": "python310-sdkv2"
  },
  "kernelspec": {
   "display_name": "Python 3.10 - SDK v2",
   "language": "python",
   "name": "python310-sdkv2"
  },
  "language_info": {
   "codemirror_mode": {
    "name": "ipython",
    "version": 3
   },
   "file_extension": ".py",
   "mimetype": "text/x-python",
   "name": "python",
   "nbconvert_exporter": "python",
   "pygments_lexer": "ipython3",
   "version": "3.10.14"
  },
  "microsoft": {
   "ms_spell_check": {
    "ms_spell_check_language": "en"
   }
  },
  "nteract": {
   "version": "nteract-front-end@1.0.0"
  }
 },
 "nbformat": 4,
 "nbformat_minor": 4
}
